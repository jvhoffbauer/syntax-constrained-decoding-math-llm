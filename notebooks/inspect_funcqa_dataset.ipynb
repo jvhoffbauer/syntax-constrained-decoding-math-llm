{
 "cells": [
  {
   "cell_type": "code",
   "execution_count": 3,
   "metadata": {},
   "outputs": [],
   "source": [
    "import toolmode.data.funcqa as funcqa_dataset\n",
    "import importlib"
   ]
  },
  {
   "cell_type": "code",
   "execution_count": 4,
   "metadata": {},
   "outputs": [
    {
     "name": "stderr",
     "output_type": "stream",
     "text": [
      "Map: 100%|██████████| 68/68 [00:00<00:00, 9905.28 examples/s]\n",
      "Map:   0%|          | 0/650 [00:00<?, ? examples/s]"
     ]
    },
    {
     "name": "stderr",
     "output_type": "stream",
     "text": [
      "Map: 100%|██████████| 650/650 [00:00<00:00, 15758.95 examples/s]\n",
      "Map: 100%|██████████| 650/650 [00:00<00:00, 15139.87 examples/s]\n",
      "Map: 100%|██████████| 650/650 [00:00<00:00, 14563.48 examples/s]\n",
      "Map: 100%|██████████| 68/68 [00:00<00:00, 8810.47 examples/s]\n",
      "Creating parquet from Arrow format: 100%|██████████| 1/1 [00:00<00:00, 176.11ba/s]\n",
      "Uploading the dataset shards: 100%|██████████| 1/1 [00:00<00:00,  2.05it/s]\n",
      "Creating parquet from Arrow format: 100%|██████████| 1/1 [00:00<00:00, 415.98ba/s]\n",
      "Uploading the dataset shards: 100%|██████████| 1/1 [00:00<00:00,  1.42it/s]\n",
      "README.md: 100%|██████████| 502/502 [00:00<00:00, 913kB/s]\n"
     ]
    }
   ],
   "source": [
    "importlib.reload(funcqa_dataset)\n",
    "\n",
    "dataset = funcqa_dataset.load()"
   ]
  },
  {
   "cell_type": "code",
   "execution_count": 5,
   "metadata": {},
   "outputs": [
    {
     "data": {
      "text/plain": [
       "DatasetDict({\n",
       "    train: Dataset({\n",
       "        features: ['question', 'answer', 'answer_number', 'prompt'],\n",
       "        num_rows: 650\n",
       "    })\n",
       "    test: Dataset({\n",
       "        features: ['question', 'answer_number', 'answer', 'prompt'],\n",
       "        num_rows: 68\n",
       "    })\n",
       "})"
      ]
     },
     "execution_count": 5,
     "metadata": {},
     "output_type": "execute_result"
    }
   ],
   "source": [
    "dataset"
   ]
  },
  {
   "cell_type": "code",
   "execution_count": 6,
   "metadata": {},
   "outputs": [
    {
     "data": {
      "text/plain": [
       "{'question': 'A smartphone battery drains at a rate of 18% per hour. If it is fully charged right now, how much battery life will it have after 8 hours?',\n",
       " 'answer': 'After 8 hours, the smartphone will have 0.82^8=<T>power(0.82, 8)=0.2 of its original battery life.',\n",
       " 'answer_number': 0.2,\n",
       " 'prompt': 'Answer the following questions with add, subtract, multiply, divide, power, sqrt, log, lcm, gcd, ln, choose, remainder, and permutate:\\n\\nQuestion: A coin is tossed 8 times, what is the probability of getting exactly 7 heads ?\\nAnswer: The total number of possible outcomes to toss a coin 8 times is 2^8=<T>power(2,8)=256. The number of ways of getting exactly 7 heads is 8C7=<T>choose(8,7)=8. The probability of getting exactly 7 heads is 8/256=<T>divide(8,256)=0.03125.\\n\\nQuestion: If paint costs $3.2 per quart, and a quart covers 12 square feet, how much will it cost to paint the outside of a cube 10 feet on each edge?\\nAnswer: The total surface area of the 10 ft cube is 6*10^2=6*<T>power(10,2)=100=<T>multiply(6,100)=600 square feet. The number of quarts needed is 600/12=<T>divide(600,12)=50. The cost is 50*3.2=<T>multiply(50,3.2)=160.\\n\\nQuestion: log(x)=2, log(y)=0.1, what is the value of log(x-y) ?\\nAnswer: log(x)=2, so x=10^2=<T>power(10,2)=100; log(y)=0.1, so y=10^0.1=<T>power(10,0.1)=1.26; x-y=100-1.26=<T>subtract(10,1.26)=98.74, so log(x-y)=log(98.74)=<T>log(98.74)=1.99.\\n\\nQuestion: How many degrees does the hour hand travel when the clock goes 246 minutes?\\nAnswer: The hour hand travels 360 degrees in 12 hours, so every hour it travels 360/12=<T>divide(360,12)=30 degrees. 246 minutes is 246/60=<T>divide(246,60)=4.1 hours. The hour hand travels 4.1*30=<T>multiply(4.1,30)=123 degrees.\\n\\nQuestion: A smartphone battery drains at a rate of 18% per hour. If it is fully charged right now, how much battery life will it have after 8 hours?\\nAnswer:'}"
      ]
     },
     "execution_count": 6,
     "metadata": {},
     "output_type": "execute_result"
    }
   ],
   "source": [
    "dataset[\"train\"][0]"
   ]
  },
  {
   "cell_type": "code",
   "execution_count": 8,
   "metadata": {},
   "outputs": [
    {
     "name": "stdout",
     "output_type": "stream",
     "text": [
      "Answer the following questions with add, subtract, multiply, divide, power, sqrt, log, lcm, gcd, ln, choose, remainder, and permutate:\n",
      "\n",
      "Question: A coin is tossed 8 times, what is the probability of getting exactly 7 heads ?\n",
      "Answer: The total number of possible outcomes to toss a coin 8 times is 2^8=<T>power(2,8)=256. The number of ways of getting exactly 7 heads is 8C7=<T>choose(8,7)=8. The probability of getting exactly 7 heads is 8/256=<T>divide(8,256)=0.03125.\n",
      "\n",
      "Question: If paint costs $3.2 per quart, and a quart covers 12 square feet, how much will it cost to paint the outside of a cube 10 feet on each edge?\n",
      "Answer: The total surface area of the 10 ft cube is 6*10^2=6*<T>power(10,2)=100=<T>multiply(6,100)=600 square feet. The number of quarts needed is 600/12=<T>divide(600,12)=50. The cost is 50*3.2=<T>multiply(50,3.2)=160.\n",
      "\n",
      "Question: log(x)=2, log(y)=0.1, what is the value of log(x-y) ?\n",
      "Answer: log(x)=2, so x=10^2=<T>power(10,2)=100; log(y)=0.1, so y=10^0.1=<T>power(10,0.1)=1.26; x-y=100-1.26=<T>subtract(10,1.26)=98.74, so log(x-y)=log(98.74)=<T>log(98.74)=1.99.\n",
      "\n",
      "Question: How many degrees does the hour hand travel when the clock goes 246 minutes?\n",
      "Answer: The hour hand travels 360 degrees in 12 hours, so every hour it travels 360/12=<T>divide(360,12)=30 degrees. 246 minutes is 246/60=<T>divide(246,60)=4.1 hours. The hour hand travels 4.1*30=<T>multiply(4.1,30)=123 degrees.\n",
      "\n",
      "Question: A smartphone battery drains at a rate of 18% per hour. If it is fully charged right now, how much battery life will it have after 8 hours?\n",
      "Answer:\n"
     ]
    }
   ],
   "source": [
    "print(dataset[\"train\"][0][\"prompt\"])"
   ]
  },
  {
   "cell_type": "code",
   "execution_count": 7,
   "metadata": {},
   "outputs": [
    {
     "data": {
      "text/plain": [
       "{'question': 'If a train travels at a speed of 67 km/h for 29 minutes, how far does it travel?',\n",
       " 'answer_number': 32.38,\n",
       " 'answer': '',\n",
       " 'prompt': 'Answer the following questions with add, subtract, multiply, divide, power, sqrt, log, lcm, gcd, ln, choose, remainder, and permutate:\\n\\nQuestion: A coin is tossed 8 times, what is the probability of getting exactly 7 heads ?\\nAnswer: The total number of possible outcomes to toss a coin 8 times is 2^8=<T>power(2,8)=256. The number of ways of getting exactly 7 heads is 8C7=<T>choose(8,7)=8. The probability of getting exactly 7 heads is 8/256=<T>divide(8,256)=0.03125.\\n\\nQuestion: If paint costs $3.2 per quart, and a quart covers 12 square feet, how much will it cost to paint the outside of a cube 10 feet on each edge?\\nAnswer: The total surface area of the 10 ft cube is 6*10^2=6*<T>power(10,2)=100=<T>multiply(6,100)=600 square feet. The number of quarts needed is 600/12=<T>divide(600,12)=50. The cost is 50*3.2=<T>multiply(50,3.2)=160.\\n\\nQuestion: log(x)=2, log(y)=0.1, what is the value of log(x-y) ?\\nAnswer: log(x)=2, so x=10^2=<T>power(10,2)=100; log(y)=0.1, so y=10^0.1=<T>power(10,0.1)=1.26; x-y=100-1.26=<T>subtract(10,1.26)=98.74, so log(x-y)=log(98.74)=<T>log(98.74)=1.99.\\n\\nQuestion: How many degrees does the hour hand travel when the clock goes 246 minutes?\\nAnswer: The hour hand travels 360 degrees in 12 hours, so every hour it travels 360/12=<T>divide(360,12)=30 degrees. 246 minutes is 246/60=<T>divide(246,60)=4.1 hours. The hour hand travels 4.1*30=<T>multiply(4.1,30)=123 degrees.\\n\\nQuestion: If a train travels at a speed of 67 km/h for 29 minutes, how far does it travel?\\nAnswer:'}"
      ]
     },
     "execution_count": 7,
     "metadata": {},
     "output_type": "execute_result"
    }
   ],
   "source": [
    "dataset[\"test\"][0]"
   ]
  },
  {
   "cell_type": "code",
   "execution_count": null,
   "metadata": {},
   "outputs": [],
   "source": []
  }
 ],
 "metadata": {
  "kernelspec": {
   "display_name": "Python 3",
   "language": "python",
   "name": "python3"
  },
  "language_info": {
   "codemirror_mode": {
    "name": "ipython",
    "version": 3
   },
   "file_extension": ".py",
   "mimetype": "text/x-python",
   "name": "python",
   "nbconvert_exporter": "python",
   "pygments_lexer": "ipython3",
   "version": "3.8.9"
  }
 },
 "nbformat": 4,
 "nbformat_minor": 2
}
