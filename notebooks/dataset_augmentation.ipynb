{
 "cells": [
  {
   "cell_type": "code",
   "execution_count": 51,
   "metadata": {},
   "outputs": [],
   "source": [
    "import re\n",
    "import openai\n",
    "import toolmode.data.funcqa as funcqa_dataset\n",
    "import importlib\n",
    "import tiktoken\n",
    "from openai import OpenAI\n",
    "\n",
    "client = OpenAI()"
   ]
  },
  {
   "cell_type": "code",
   "execution_count": 114,
   "metadata": {},
   "outputs": [
    {
     "name": "stderr",
     "output_type": "stream",
     "text": [
      "Map:   0%|          | 0/68 [00:00<?, ? examples/s]"
     ]
    },
    {
     "name": "stderr",
     "output_type": "stream",
     "text": [
      "Map: 100%|██████████| 68/68 [00:00<00:00, 9934.26 examples/s]\n",
      "Map: 100%|██████████| 650/650 [00:00<00:00, 16476.68 examples/s]\n",
      "Map: 100%|██████████| 650/650 [00:00<00:00, 13742.74 examples/s]\n",
      "Creating parquet from Arrow format: 100%|██████████| 1/1 [00:00<00:00, 307.32ba/s]\n",
      "Uploading the dataset shards: 100%|██████████| 1/1 [00:01<00:00,  1.24s/it]\n",
      "Creating parquet from Arrow format: 100%|██████████| 1/1 [00:00<00:00, 442.48ba/s]\n",
      "Uploading the dataset shards: 100%|██████████| 1/1 [00:00<00:00,  2.09it/s]\n"
     ]
    }
   ],
   "source": [
    "importlib.reload(funcqa_dataset)\n",
    "\n",
    "dataset = funcqa_dataset.load()"
   ]
  },
  {
   "cell_type": "code",
   "execution_count": 115,
   "metadata": {},
   "outputs": [
    {
     "name": "stderr",
     "output_type": "stream",
     "text": [
      "Map: 100%|██████████| 650/650 [00:00<00:00, 11112.51 examples/s]\n"
     ]
    }
   ],
   "source": [
    "def get_operations(row):\n",
    "    answer = row['answer']\n",
    "    answer = answer.replace('<T>', '<X><T>')\n",
    "    operations = answer.split('<X>')\n",
    "    operations = [x.replace('<T>', '') for x in operations if '<T>' in x]\n",
    "    operations = [x.split('(')[0] for x in operations]\n",
    "    return {'operations': operations}\n",
    "\n",
    "dataset['train'] = dataset['train'].map(get_operations)"
   ]
  },
  {
   "cell_type": "code",
   "execution_count": 116,
   "metadata": {},
   "outputs": [
    {
     "data": {
      "text/plain": [
       "DatasetDict({\n",
       "    train: Dataset({\n",
       "        features: ['question', 'answer', 'answer_number', 'operations'],\n",
       "        num_rows: 650\n",
       "    })\n",
       "    test: Dataset({\n",
       "        features: ['question', 'answer_number', 'answer'],\n",
       "        num_rows: 68\n",
       "    })\n",
       "})"
      ]
     },
     "execution_count": 116,
     "metadata": {},
     "output_type": "execute_result"
    }
   ],
   "source": [
    "dataset"
   ]
  },
  {
   "cell_type": "markdown",
   "metadata": {},
   "source": [
    "Our dataset contains only multihop questions"
   ]
  },
  {
   "cell_type": "code",
   "execution_count": 118,
   "metadata": {},
   "outputs": [
    {
     "name": "stderr",
     "output_type": "stream",
     "text": [
      "Filter: 100%|██████████| 650/650 [00:00<00:00, 23482.52 examples/s]\n"
     ]
    },
    {
     "data": {
      "text/plain": [
       "Dataset({\n",
       "    features: ['question', 'answer', 'answer_number', 'operations'],\n",
       "    num_rows: 0\n",
       "})"
      ]
     },
     "execution_count": 118,
     "metadata": {},
     "output_type": "execute_result"
    }
   ],
   "source": [
    "dataset['train'].filter(lambda x: len(x['operations']) == 0)"
   ]
  },
  {
   "cell_type": "code",
   "execution_count": 119,
   "metadata": {},
   "outputs": [
    {
     "data": {
      "text/plain": [
       "Counter({'power': 50,\n",
       "         'log': 50,\n",
       "         'subtract': 50,\n",
       "         'ln': 50,\n",
       "         'multiply': 50,\n",
       "         'sqrt': 50,\n",
       "         'gcd': 50,\n",
       "         'lcm': 50,\n",
       "         'choose': 50,\n",
       "         'add': 50,\n",
       "         'divide': 50,\n",
       "         'permutate': 50,\n",
       "         'remainder': 50})"
      ]
     },
     "execution_count": 119,
     "metadata": {},
     "output_type": "execute_result"
    }
   ],
   "source": [
    "from collections import Counter\n",
    "op_counts = Counter([x for row in dataset['train'] for x in row['operations']])\n",
    "op_counts"
   ]
  },
  {
   "cell_type": "code",
   "execution_count": 5,
   "metadata": {},
   "outputs": [
    {
     "data": {
      "text/plain": [
       "1"
      ]
     },
     "execution_count": 5,
     "metadata": {},
     "output_type": "execute_result"
    }
   ],
   "source": [
    "max(map(lambda x: len(re.findall(\"<T>\", x)), dataset[\"train\"][\"answer\"]))"
   ]
  },
  {
   "cell_type": "code",
   "execution_count": 109,
   "metadata": {},
   "outputs": [
    {
     "data": {
      "text/plain": [
       "{'question': ' 10^x=8162.85, what is the value of x?',\n",
       " 'answer': ' 10^x=8162.85, so x=log(8162.85)=<T>log(8162.85)=3.91.',\n",
       " 'answer_number': 3.91,\n",
       " 'operations': ['log']}"
      ]
     },
     "execution_count": 109,
     "metadata": {},
     "output_type": "execute_result"
    }
   ],
   "source": [
    "dataset['train'][50]"
   ]
  },
  {
   "cell_type": "code",
   "execution_count": 91,
   "metadata": {},
   "outputs": [],
   "source": [
    "system_prompt = \"\"\"\n",
    "You a data annotator. You follow the instructions below to generate a dataset for a math problem generator.\n",
    "\n",
    "Generate different math problems similar to this math problem.\n",
    " - Make sure each question uses diverse language and includes multiple logical steps.\n",
    " - After each generated problem, write down a **detailed and complete solution** to solve the question **step by step**. Do NOT give the result directly.\n",
    " - The following tools are available: add, subtract, multiply, divide, power, sqrt, log, lcm, gcd, ln, choose, remainder, and permutate. \n",
    " - The log function works as follows: if only one argument is passed, it is 10th log; if two arguments are passed, it is log with base as the second argument\n",
    " - Every tool call should be in the form of <T>tool_name(arg1, arg2, ...)=result. For example, <T>power(0.82, 8)=0.2 means you should call the power function with 0.82 and 8 as the arguments, and the result should be 0.2.\n",
    " - DO NOT mix tools in one tool call. DO NOT write <T>add(1, multiply(2, 3))=7. Instead, write <T>multiply(2, 3))=7, <T>add(1, 7)=8.\n",
    " - Always use the least amount of steps to solve the problem. For example, <T>add(1, 2)=3 is better than <T>add(1, 1)=2, <T>add(2, 1)=3.\n",
    " - NEVER provide calculations in normal human format. The following is an example of a bad solution: \"1+2=3\". Instead, you should write \"<T>add(1, 2)=3\".\n",
    "\"\"\".strip()\n",
    "\n",
    "user_prompt = \"\"\"\n",
    "Consider the following math problem:\n",
    "\n",
    "Question: 10^x=8162.85, so x=log(8162.85)=<T>log(8162.85)=3.91.\n",
    "Answer: 10^x=8162.85, what is the value of x?\n",
    "\n",
    "Generate 5 different math problems similar to this math problem. Use the same logic as the question above but use a different theme. \n",
    "\n",
    "Answer by first provoding the question, then grading instructions and then the correct answer. Each one of them should be a sentence with no more than 30 words. The format shall be as shown below. Do not use any other format. The question or grading instruction shall never contain a toolcall <T>.\n",
    "Question: \n",
    "Grading instructions:\n",
    "Answer: \n",
    "\"\"\".strip()"
   ]
  },
  {
   "cell_type": "code",
   "execution_count": 92,
   "metadata": {},
   "outputs": [],
   "source": [
    "completion = client.chat.completions.create(\n",
    "  model=\"gpt-4-1106-preview\",\n",
    "  messages=[\n",
    "    {\"role\": \"system\", \"content\": system_prompt},\n",
    "    {\"role\": \"user\", \"content\": user_prompt}\n",
    "  ]\n",
    ")"
   ]
  },
  {
   "cell_type": "code",
   "execution_count": 93,
   "metadata": {},
   "outputs": [
    {
     "name": "stdout",
     "output_type": "stream",
     "text": [
      "Question: If a bacterium population doubles every hour, how many hours does it take to reach a population of 4096, starting with one?\n",
      "Grading instructions: Use logarithmic functions to determine the time in hours based on population growth.\n",
      "Answer: <T>log(4096, 2)=12.\n",
      "\n",
      "Question: How many days will it take for an investment to quadruple if the daily interest rate leads to a multiplier of 1.1? Assume the initial amount is $100.\n",
      "Grading instructions: Calculate the period needed for the investment to reach four times its initial value using logarithms.\n",
      "Answer: <T>log(4, 1.1)=15.04.\n",
      "\n",
      "Question: A certain radioactive isotope decays to half its mass every 8 days. After how many days will only 1/256 of the original mass remain?\n",
      "Grading instructions: Determine the number of days for the isotope to decay by using logarithms.\n",
      "Answer: <T>log(1/256, 0.5)=8.\n",
      "\n",
      "Question: If a car depreciates at a rate of 20% per year, how many years will it take for the car's value to depreciate to 1/32 of its original value?\n",
      "Grading instructions: Use logarithms to find the number of years it takes for the car to depreciate to 1/32 of its original value.\n",
      "Answer: <T>log(1/32, 0.8)=5.\n",
      "\n",
      "Question: A pond's lily pad population triples every day. Starting with a single lily pad, on which day will the pond have 6561 lily pads?\n",
      "Grading instructions: Apply logarithmic functions to find the number of days it takes for the population to reach 6561.\n",
      "Answer: <T>log(6561, 3)=8.\n"
     ]
    }
   ],
   "source": [
    "print(completion.choices[0].message.content)"
   ]
  },
  {
   "cell_type": "code",
   "execution_count": 94,
   "metadata": {},
   "outputs": [],
   "source": [
    "def cost(completion):\n",
    "    # https://openai.com/pricing\n",
    "    usage = completion.usage\n",
    "    prompt_tokens = usage.prompt_tokens\n",
    "    completion_tokens = usage.completion_tokens\n",
    "    prompt_cost = prompt_tokens / 1000 * 0.01\n",
    "    completion_cost = completion_tokens / 1000 * 0.03\n",
    "    print(f\"prompt cost: {prompt_cost}. completion cost: {completion_cost}\")\n",
    "    return prompt_cost + completion_cost"
   ]
  },
  {
   "cell_type": "code",
   "execution_count": 95,
   "metadata": {},
   "outputs": [
    {
     "name": "stdout",
     "output_type": "stream",
     "text": [
      "prompt cost: 0.005490000000000001. completion cost: 0.01134\n"
     ]
    },
    {
     "data": {
      "text/plain": [
       "0.01683"
      ]
     },
     "execution_count": 95,
     "metadata": {},
     "output_type": "execute_result"
    }
   ],
   "source": [
    "cost(completion)"
   ]
  },
  {
   "cell_type": "code",
   "execution_count": 90,
   "metadata": {},
   "outputs": [
    {
     "name": "stdout",
     "output_type": "stream",
     "text": [
      "prompt cost: 0.005350000000000001. completion cost: 0.0138\n"
     ]
    },
    {
     "data": {
      "text/plain": [
       "12.4475"
      ]
     },
     "execution_count": 90,
     "metadata": {},
     "output_type": "execute_result"
    }
   ],
   "source": [
    "cost(completion) * 650"
   ]
  },
  {
   "cell_type": "code",
   "execution_count": null,
   "metadata": {},
   "outputs": [],
   "source": []
  }
 ],
 "metadata": {
  "kernelspec": {
   "display_name": "Python 3",
   "language": "python",
   "name": "python3"
  },
  "language_info": {
   "codemirror_mode": {
    "name": "ipython",
    "version": 3
   },
   "file_extension": ".py",
   "mimetype": "text/x-python",
   "name": "python",
   "nbconvert_exporter": "python",
   "pygments_lexer": "ipython3",
   "version": "3.10.12"
  }
 },
 "nbformat": 4,
 "nbformat_minor": 2
}
