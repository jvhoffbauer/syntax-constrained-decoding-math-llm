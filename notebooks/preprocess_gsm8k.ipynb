{
 "cells": [
  {
   "cell_type": "code",
   "execution_count": 1,
   "metadata": {},
   "outputs": [
    {
     "name": "stderr",
     "output_type": "stream",
     "text": [
      "/usr/local/lib/python3.10/dist-packages/tqdm/auto.py:21: TqdmWarning: IProgress not found. Please update jupyter and ipywidgets. See https://ipywidgets.readthedocs.io/en/stable/user_install.html\n",
      "  from .autonotebook import tqdm as notebook_tqdm\n"
     ]
    }
   ],
   "source": [
    "import re, ast, math, operator\n",
    "from collections import Counter\n",
    "from datasets import load_dataset"
   ]
  },
  {
   "cell_type": "markdown",
   "metadata": {},
   "source": [
    "### Load GSM8k dataset"
   ]
  },
  {
   "cell_type": "code",
   "execution_count": 2,
   "metadata": {},
   "outputs": [
    {
     "name": "stderr",
     "output_type": "stream",
     "text": [
      "Downloading readme: 100%|██████████| 7.94k/7.94k [00:00<00:00, 4.85MB/s]\n",
      "Downloading data: 100%|██████████| 2.31M/2.31M [00:00<00:00, 6.17MB/s]\n",
      "Downloading data: 100%|██████████| 419k/419k [00:00<00:00, 1.10MB/s]]\n",
      "Downloading data files: 100%|██████████| 2/2 [00:00<00:00,  2.56it/s]\n",
      "Extracting data files: 100%|██████████| 2/2 [00:00<00:00, 570.85it/s]\n",
      "Generating train split: 100%|██████████| 7473/7473 [00:00<00:00, 199965.77 examples/s]\n",
      "Generating test split: 100%|██████████| 1319/1319 [00:00<00:00, 182138.90 examples/s]\n"
     ]
    },
    {
     "data": {
      "text/plain": [
       "(DatasetDict({\n",
       "     train: Dataset({\n",
       "         features: ['question', 'answer'],\n",
       "         num_rows: 7473\n",
       "     })\n",
       "     test: Dataset({\n",
       "         features: ['question', 'answer'],\n",
       "         num_rows: 1319\n",
       "     })\n",
       " }),\n",
       " {'question': 'Natalia sold clips to 48 of her friends in April, and then she sold half as many clips in May. How many clips did Natalia sell altogether in April and May?',\n",
       "  'answer': 'Natalia sold 48/2 = <<48/2=24>>24 clips in May.\\nNatalia sold 48+24 = <<48+24=72>>72 clips altogether in April and May.\\n#### 72'})"
      ]
     },
     "execution_count": 2,
     "metadata": {},
     "output_type": "execute_result"
    }
   ],
   "source": [
    "dataset = load_dataset(\"gsm8k\", 'main')\n",
    "dataset, dataset['train'][0]"
   ]
  },
  {
   "cell_type": "markdown",
   "metadata": {},
   "source": [
    "### Convert equations to toolcalls"
   ]
  },
  {
   "cell_type": "markdown",
   "metadata": {},
   "source": [
    "Use a helper to savely evaluate equations to easily get their result values"
   ]
  },
  {
   "cell_type": "code",
   "execution_count": 3,
   "metadata": {},
   "outputs": [],
   "source": [
    "def safe_eval(s):\n",
    "\n",
    "    def checkmath(x, *args):\n",
    "        if x not in [x for x in dir(math) if not \"__\" in x]:\n",
    "            raise SyntaxError(f\"Unknown func {x}()\")\n",
    "        fun = getattr(math, x)\n",
    "        return fun(*args)\n",
    "\n",
    "    binOps = {\n",
    "        ast.Add: operator.add,\n",
    "        ast.Sub: operator.sub,\n",
    "        ast.Mult: operator.mul,\n",
    "        ast.Div: operator.truediv,\n",
    "        ast.Mod: operator.mod,\n",
    "        ast.Pow: operator.pow,\n",
    "        ast.Call: checkmath,\n",
    "        ast.BinOp: ast.BinOp,\n",
    "    }\n",
    "\n",
    "    unOps = {\n",
    "        ast.USub: operator.neg,\n",
    "        ast.UAdd: operator.pos,\n",
    "        ast.UnaryOp: ast.UnaryOp,\n",
    "    }\n",
    "\n",
    "    ops = tuple(binOps) + tuple(unOps)\n",
    "\n",
    "    tree = ast.parse(s, mode='eval')\n",
    "\n",
    "    def _eval(node):\n",
    "        if isinstance(node, ast.Expression):\n",
    "            return _eval(node.body)\n",
    "        elif isinstance(node, ast.Str):\n",
    "            return node.s\n",
    "        elif isinstance(node, ast.Num):\n",
    "            return node.value\n",
    "        elif isinstance(node, ast.Constant):\n",
    "            return node.value\n",
    "        elif isinstance(node, ast.BinOp):\n",
    "            if isinstance(node.left, ops):\n",
    "                left = _eval(node.left)\n",
    "            else:\n",
    "                left = node.left.value\n",
    "            if isinstance(node.right, ops):\n",
    "                right = _eval(node.right)\n",
    "            else:\n",
    "                right = node.right.value\n",
    "            return binOps[type(node.op)](left, right)\n",
    "        elif isinstance(node, ast.UnaryOp):\n",
    "            if isinstance(node.operand, ops):\n",
    "                operand = _eval(node.operand)\n",
    "            else:\n",
    "                operand = node.operand.value\n",
    "            return unOps[type(node.op)](operand)\n",
    "        elif isinstance(node, ast.Call):\n",
    "            args = [_eval(x) for x in node.args]\n",
    "            r = checkmath(node.func.id, *args)\n",
    "            return r\n",
    "        else:\n",
    "            raise SyntaxError(f\"Bad syntax, {type(node)}\")\n",
    "\n",
    "    return _eval(tree)"
   ]
  },
  {
   "cell_type": "code",
   "execution_count": 4,
   "metadata": {},
   "outputs": [
    {
     "data": {
      "text/plain": [
       "2"
      ]
     },
     "execution_count": 4,
     "metadata": {},
     "output_type": "execute_result"
    }
   ],
   "source": [
    "safe_eval('1 + 1')"
   ]
  },
  {
   "cell_type": "markdown",
   "metadata": {},
   "source": [
    "Recursively process all equations and convert them to toolcalls. Make sure that nested equations are converted to multiple toolcalls (which are binary ops) bottom-up. "
   ]
  },
  {
   "cell_type": "code",
   "execution_count": 5,
   "metadata": {},
   "outputs": [
    {
     "data": {
      "text/plain": [
       "{'equations': ['<<+30+46+38+11+18=143>>143.', '<<184-143=41>>41'],\n",
       " 'depths': [6, 2],\n",
       " 'toolcalls': [['<T>add(30, 46)=76',\n",
       "   '<T>add(76, 38)=114',\n",
       "   '<T>add(114, 11)=125',\n",
       "   '<T>add(125, 18)=143'],\n",
       "  ['<T>subtract(184, 143)=41']]}"
      ]
     },
     "execution_count": 5,
     "metadata": {},
     "output_type": "execute_result"
    }
   ],
   "source": [
    "s = 'Let S be the amount Alexis paid for the shoes.\\nShe spent S + 30 + 46 + 38 + 11 + 18 = S + <<+30+46+38+11+18=143>>143.\\nShe used all but $16 of her budget, so S + 143 = 200 - 16 = 184.\\nThus, Alexis paid S = 184 - 143 = $<<184-143=41>>41 for the shoes.\\n#### 41'\n",
    "\n",
    "op__to_toolcall = {\n",
    "    ast.Add: 'add',\n",
    "    ast.Sub: 'subtract',\n",
    "    ast.Mult: 'multiply',\n",
    "    ast.Div: 'divide',\n",
    "}\n",
    "\n",
    "def depth_ast(root):\n",
    "    return 1 + max(map(depth_ast, ast.iter_child_nodes(root)),\n",
    "                   default = 0)\n",
    "\n",
    "def rec_tree_to_toolcalls(tree):\n",
    "\n",
    "    if isinstance(tree, ast.UnaryOp):\n",
    "        if isinstance(tree.op, ast.UAdd):\n",
    "            return rec_tree_to_toolcalls(tree.operand)\n",
    "        elif isinstance(tree.op, ast.USub):\n",
    "            return rec_tree_to_toolcalls(tree.operand)\n",
    "        else:\n",
    "            raise NotImplementedError()\n",
    "    elif depth_ast(tree) == 1:\n",
    "        return []\n",
    "\n",
    "    value = safe_eval(ast.unparse(tree))\n",
    "    left_value = safe_eval(ast.unparse(tree.left))\n",
    "    right_value = safe_eval(ast.unparse(tree.right))\n",
    "    op = tree.op\n",
    "\n",
    "    toolcall = f\"<T>{op__to_toolcall[type(op)]}({left_value}, {right_value})={value}\"\n",
    "    toolcalls = rec_tree_to_toolcalls(tree.left) + rec_tree_to_toolcalls(tree.right) + [toolcall]\n",
    "    return toolcalls\n",
    "\n",
    "\n",
    "def change_equations_to_toolcall(row):\n",
    "    s = row['answer']\n",
    "\n",
    "    equations_str = re.findall(r'<<(.+?)>>(\\d*\\.?\\d*,?\\d*,?\\d*,?\\d*)', s)\n",
    "    equations_ast = [e[0].split('=')[0] for e in equations_str]\n",
    "    equations_ast = [ast.parse(e).body[0].value for e in equations_ast]\n",
    "    depths = [depth_ast(e) for e in equations_ast]\n",
    "\n",
    "    toolcalls = [rec_tree_to_toolcalls(e) for e in equations_ast]\n",
    "    return {\n",
    "        'equations': [f\"<<{s[0]}>>{s[1]}\" for s in equations_str],\n",
    "        'depths': depths,\n",
    "        'toolcalls': toolcalls,\n",
    "    }\n",
    "\n",
    "change_equations_to_toolcall({'answer': '<<1+-(2*5)=1>>'})\n",
    "change_equations_to_toolcall(dataset['train'][8])"
   ]
  },
  {
   "cell_type": "code",
   "execution_count": 6,
   "metadata": {},
   "outputs": [
    {
     "name": "stderr",
     "output_type": "stream",
     "text": [
      "Map:   0%|          | 0/7473 [00:00<?, ? examples/s]"
     ]
    },
    {
     "name": "stderr",
     "output_type": "stream",
     "text": [
      "Map:  10%|▉         | 738/7473 [00:00<00:02, 2492.63 examples/s]"
     ]
    },
    {
     "name": "stdout",
     "output_type": "stream",
     "text": [
      "Exception <class 'ast.FloorDiv'> on {'question': 'Chad sandwiches 2 crackers with a scoop of peanut butter.  He has 5 of these crackers a night before bed.  A box of crackers has 4 sleeves with each sleeve holding 28 crackers.  How many nights will 5 boxes of crackers last him?', 'answer': 'Chad uses 2 crackers for each \"sandwich\" and has 5 sandwiches a night so he eats 2*5 = <<2*5=10>>10 crackers a night\\nThe box has 4 sleeves of crackers and each sleeve has 28 crackers for a total of 4*28 = <<4*28=112>>112 crackers\\n1 box has 112 crackers so 5 boxes will have 112*5 = <<112*5=560>>560 crackers\\nHe eats 10 crackers a night and 5 boxes have 560 crackers so they will last him 560//10 = <<560//10=56>>56 nights\\n#### 56'}\n"
     ]
    },
    {
     "name": "stderr",
     "output_type": "stream",
     "text": [
      "Map:  65%|██████▌   | 4859/7473 [00:02<00:01, 2387.95 examples/s]"
     ]
    },
    {
     "name": "stdout",
     "output_type": "stream",
     "text": [
      "Exception <class 'ast.FloorDiv'> on {'question': 'An apple tree has three times as many apples as the number of plums on a plum tree. If Damien picks 3/5 of the fruits from the trees, calculate the total number of plums and apples remaining on the tree if there were 180 apples on the apple tree before Damien picked any of the fruits.', 'answer': 'Initially, the were 180//3= <<180//3=60>>60 plums on the plum tree.\\nWhen Damien picked 3/5 of the apples from the apple tree, he picked 3/5*180 = <<3/5*180=108>>108 apples\\nThe number of apples remaining on the apple tree is 180-108= <<180-108=72>>72\\nThe number of plums that Damien picked from the plum tree is 3/5*60 = <<3/5*60=36>>36\\nThe number of plums remaining on the plum tree is 60-36 = <<60-36=24>>24\\nThe total number of fruits remaining on the trees is 72 apples+24 plums = <<72+24=96>>96\\n#### 96'}\n"
     ]
    },
    {
     "name": "stderr",
     "output_type": "stream",
     "text": [
      "Map: 100%|██████████| 7473/7473 [00:03<00:00, 2281.03 examples/s]\n",
      "Map: 100%|██████████| 1319/1319 [00:00<00:00, 2346.22 examples/s]\n",
      "Filter: 100%|██████████| 7473/7473 [00:00<00:00, 28827.96 examples/s]\n",
      "Filter: 100%|██████████| 1319/1319 [00:00<00:00, 26752.26 examples/s]\n"
     ]
    },
    {
     "data": {
      "text/plain": [
       "DatasetDict({\n",
       "    train: Dataset({\n",
       "        features: ['question', 'answer', 'equations', 'depths', 'toolcalls'],\n",
       "        num_rows: 7376\n",
       "    })\n",
       "    test: Dataset({\n",
       "        features: ['question', 'answer', 'equations', 'depths', 'toolcalls'],\n",
       "        num_rows: 1301\n",
       "    })\n",
       "})"
      ]
     },
     "execution_count": 6,
     "metadata": {},
     "output_type": "execute_result"
    }
   ],
   "source": [
    "def try_change_equations_to_toolcall(row):\n",
    "    try:\n",
    "        return change_equations_to_toolcall(row)\n",
    "    except Exception as e:\n",
    "        print(f\"Exception {e} on {row}\")\n",
    "        return {'equations': [], 'depths': [], 'toolcalls': []}\n",
    "\n",
    "dataset = dataset.map(try_change_equations_to_toolcall, load_from_cache_file=False)\n",
    "dataset = dataset.filter(lambda x: len(x['equations']) > 0)\n",
    "\n",
    "dataset"
   ]
  },
  {
   "cell_type": "markdown",
   "metadata": {},
   "source": [
    "Check how deep our equations are. Equations of a depth >2 are challenging as we do not know how to convert them to proper text with explanations. "
   ]
  },
  {
   "cell_type": "code",
   "execution_count": 7,
   "metadata": {},
   "outputs": [
    {
     "data": {
      "text/plain": [
       "Counter({2: 20153, 3: 2754, 1: 350, 4: 345, 5: 75, 6: 22, 7: 6, 10: 1})"
      ]
     },
     "execution_count": 7,
     "metadata": {},
     "output_type": "execute_result"
    }
   ],
   "source": [
    "depth_counter = Counter([d for row in dataset['train'] for d in row['depths']])\n",
    "depth_counter"
   ]
  },
  {
   "cell_type": "markdown",
   "metadata": {},
   "source": [
    "Remove rows with too deep or shallow toolcalls as they are not suitable for our dataset"
   ]
  },
  {
   "cell_type": "code",
   "execution_count": 8,
   "metadata": {},
   "outputs": [
    {
     "name": "stderr",
     "output_type": "stream",
     "text": [
      "Filter: 100%|██████████| 7376/7376 [00:00<00:00, 15838.46 examples/s]\n",
      "Filter: 100%|██████████| 1301/1301 [00:00<00:00, 18727.72 examples/s]\n",
      "Filter: 100%|██████████| 7048/7048 [00:00<00:00, 19591.60 examples/s]\n",
      "Filter: 100%|██████████| 1240/1240 [00:00<00:00, 9618.81 examples/s]\n",
      "Filter: 100%|██████████| 4591/4591 [00:00<00:00, 19416.25 examples/s]\n",
      "Filter: 100%|██████████| 793/793 [00:00<00:00, 18741.24 examples/s]\n"
     ]
    },
    {
     "data": {
      "text/plain": [
       "DatasetDict({\n",
       "    train: Dataset({\n",
       "        features: ['question', 'answer', 'equations', 'depths', 'toolcalls'],\n",
       "        num_rows: 4587\n",
       "    })\n",
       "    test: Dataset({\n",
       "        features: ['question', 'answer', 'equations', 'depths', 'toolcalls'],\n",
       "        num_rows: 791\n",
       "    })\n",
       "})"
      ]
     },
     "execution_count": 8,
     "metadata": {},
     "output_type": "execute_result"
    }
   ],
   "source": [
    "dataset_suitable = dataset\\\n",
    "    .filter(lambda x: 1 not in x['depths'])\\\n",
    "    .filter(lambda x: {2} == set(x['depths']))\\\n",
    "    .filter(lambda x: all([len(t) == 1 for t in x['toolcalls']]))\n",
    "dataset_suitable"
   ]
  },
  {
   "cell_type": "code",
   "execution_count": 9,
   "metadata": {},
   "outputs": [
    {
     "data": {
      "text/plain": [
       "Counter({2: 13695})"
      ]
     },
     "execution_count": 9,
     "metadata": {},
     "output_type": "execute_result"
    }
   ],
   "source": [
    "depth_counter = Counter([d for row in dataset_suitable['train'] for d in row['depths']])\n",
    "depth_counter"
   ]
  },
  {
   "cell_type": "code",
   "execution_count": 10,
   "metadata": {},
   "outputs": [
    {
     "data": {
      "text/plain": [
       "{'question': 'Ken created a care package to send to his brother, who was away at boarding school.  Ken placed a box on a scale, and then he poured into the box enough jelly beans to bring the weight to 2 pounds.  Then, he added enough brownies to cause the weight to triple.  Next, he added another 2 pounds of jelly beans.  And finally, he added enough gummy worms to double the weight once again.  What was the final weight of the box of goodies, in pounds?',\n",
       " 'answer': 'To the initial 2 pounds of jelly beans, he added enough brownies to cause the weight to triple, bringing the weight to 2*3=<<2*3=6>>6 pounds.\\nNext, he added another 2 pounds of jelly beans, bringing the weight to 6+2=<<6+2=8>>8 pounds.\\nAnd finally, he added enough gummy worms to double the weight once again, to a final weight of 8*2=<<8*2=16>>16 pounds.\\n#### 16',\n",
       " 'equations': ['<<2*3=6>>6', '<<6+2=8>>8', '<<8*2=16>>16'],\n",
       " 'depths': [2, 2, 2],\n",
       " 'toolcalls': [['<T>multiply(2, 3)=6'],\n",
       "  ['<T>add(6, 2)=8'],\n",
       "  ['<T>multiply(8, 2)=16']]}"
      ]
     },
     "execution_count": 10,
     "metadata": {},
     "output_type": "execute_result"
    }
   ],
   "source": [
    "dataset_suitable['train'][5]"
   ]
  },
  {
   "cell_type": "markdown",
   "metadata": {},
   "source": [
    "Now, we only have equations of depth=2, i.e. equations that are a single toolcall. We convert our dataset to contain toolcalls in the answer column"
   ]
  },
  {
   "cell_type": "code",
   "execution_count": 11,
   "metadata": {},
   "outputs": [
    {
     "name": "stderr",
     "output_type": "stream",
     "text": [
      "Map:   0%|          | 0/4587 [00:00<?, ? examples/s]"
     ]
    },
    {
     "name": "stderr",
     "output_type": "stream",
     "text": [
      "Map: 100%|██████████| 4587/4587 [00:00<00:00, 5834.60 examples/s]\n",
      "Map: 100%|██████████| 791/791 [00:00<00:00, 5340.85 examples/s]\n",
      "Map: 100%|██████████| 4587/4587 [00:00<00:00, 9286.08 examples/s] \n",
      "Map: 100%|██████████| 791/791 [00:00<00:00, 10243.21 examples/s]\n"
     ]
    },
    {
     "data": {
      "text/plain": [
       "(DatasetDict({\n",
       "     train: Dataset({\n",
       "         features: ['question', 'answer', 'equations', 'depths', 'toolcalls'],\n",
       "         num_rows: 4587\n",
       "     })\n",
       "     test: Dataset({\n",
       "         features: ['question', 'answer', 'equations', 'depths', 'toolcalls'],\n",
       "         num_rows: 791\n",
       "     })\n",
       " }),\n",
       " {'question': 'Ken created a care package to send to his brother, who was away at boarding school.  Ken placed a box on a scale, and then he poured into the box enough jelly beans to bring the weight to 2 pounds.  Then, he added enough brownies to cause the weight to triple.  Next, he added another 2 pounds of jelly beans.  And finally, he added enough gummy worms to double the weight once again.  What was the final weight of the box of goodies, in pounds?',\n",
       "  'answer': 'To the initial 2 pounds of jelly beans, he added enough brownies to cause the weight to triple, bringing the weight to 2*3=<T>multiply(2, 3)=6 pounds.\\nNext, he added another 2 pounds of jelly beans, bringing the weight to 6+2=<T>add(6, 2)=8 pounds.\\nAnd finally, he added enough gummy worms to double the weight once again, to a final weight of 8*2=<T>multiply(8, 2)=16 pounds.\\n',\n",
       "  'equations': ['<<2*3=6>>6', '<<6+2=8>>8', '<<8*2=16>>16'],\n",
       "  'depths': [2, 2, 2],\n",
       "  'toolcalls': [['<T>multiply(2, 3)=6'],\n",
       "   ['<T>add(6, 2)=8'],\n",
       "   ['<T>multiply(8, 2)=16']]})"
      ]
     },
     "execution_count": 11,
     "metadata": {},
     "output_type": "execute_result"
    }
   ],
   "source": [
    "def replace_equations_with_toolcalls(row):\n",
    "    answer = row['answer']\n",
    "    for equation, toolcall in zip(row['equations'], row['toolcalls']):\n",
    "        assert len(toolcall) == 1, f\"Equation {equation} has multiple tool calls {toolcall}\"\n",
    "        toolcall = toolcall[0]\n",
    "        answer = answer.replace(equation, toolcall)\n",
    "    return {'answer': answer}\n",
    "\n",
    "dataset_suitable = dataset_suitable.map(replace_equations_with_toolcalls)\n",
    "dataset_suitable = dataset_suitable.map(lambda row: {'answer': re.sub(r'#### \\d+', '', row['answer'])})\n",
    "\n",
    "dataset_suitable, dataset_suitable['train'][5]"
   ]
  },
  {
   "cell_type": "code",
   "execution_count": 12,
   "metadata": {},
   "outputs": [
    {
     "name": "stdout",
     "output_type": "stream",
     "text": [
      "Natalia sold 48/2 = <T>divide(48, 2)=24.0 clips in May.\n",
      "Natalia sold 48+24 = <T>add(48, 24)=72 clips altogether in April and May.\n",
      "\n",
      "\n",
      "Weng earns 12/60 = $<T>divide(12, 60)=0.2 per minute.\n",
      "Working 50 minutes, she earned 0.2 x 50 = $<T>multiply(0.2, 50)=10.0\n",
      "\n",
      "\n",
      "Maila read 12 x 2 = <T>multiply(12, 2)=24 pages today.\n",
      "So she was able to read a total of 12 + 24 = <T>add(12, 24)=36 pages since yesterday.\n",
      "There are 120 - 36 = <T>subtract(120, 36)=84 pages left to be read.\n",
      "Since she wants to read half of the remaining pages tomorrow, then she should read 84/2 = <T>divide(84, 2)=42.0 pages.\n",
      "\n",
      "\n",
      "He writes each friend 3*2=<T>multiply(3, 2)=6 pages a week\n",
      "So he writes 6*2=<T>multiply(6, 2)=12 pages every week\n",
      "That means he writes 12*52=<T>multiply(12, 52)=624 pages a year\n",
      "\n",
      "\n",
      "He eats 32 from the largest pizzas because 2 x 16 = <T>multiply(2, 16)=32\n",
      "He eats 16 from the small pizza because 2 x 8 = <T>multiply(2, 8)=16\n",
      "He eats 48 pieces because 32 + 16 = <T>add(32, 16)=48\n",
      "\n",
      "\n",
      "To the initial 2 pounds of jelly beans, he added enough brownies to cause the weight to triple, bringing the weight to 2*3=<T>multiply(2, 3)=6 pounds.\n",
      "Next, he added another 2 pounds of jelly beans, bringing the weight to 6+2=<T>add(6, 2)=8 pounds.\n",
      "And finally, he added enough gummy worms to double the weight once again, to a final weight of 8*2=<T>multiply(8, 2)=16 pounds.\n",
      "\n",
      "\n",
      "She works 8 hours a day for $18 per hour so she makes 8*18 = $<T>multiply(8, 18)=144 per 8-hour shift\n",
      "She works 10 hours a day and anything over 8 hours is eligible for overtime, so she gets 10-8 = <T>subtract(10, 8)=2 hours of overtime\n",
      "Overtime is calculated as time and a half so and she makes $18/hour so her overtime pay is 18*.5 = $<T>multiply(18, 0.5)=9.0\n",
      "Her overtime pay is 18+9 = $<T>add(18, 9)=27\n",
      "Her base pay is $144.00 per 8-hour shift and she works 5 days and makes 5 * $144 = $<T>multiply(144, 5)=720\n",
      "Her overtime pay is $27.00 per hour and she works 2 hours of overtime per day and makes 27*2 = $<T>multiply(27, 2)=54 in overtime pay\n",
      "2 hours of overtime pay for 5 days means she makes 54*5 = $270.00\n",
      "In 5 days her base pay is $720.00 and she makes $270.00 in overtime pay so she makes $720 + $270 = $<T>add(720, 270)=990\n",
      "\n",
      "\n",
      "Let S be the number of people on the first hundred years’ ship.\n",
      "The second hundred years’ ship had twice as many as the first, so it had 2S people.\n",
      "The third hundred years’ ship had twice as many as the second, so it had 2 * 2S = <T>multiply(2, 2)=4S people.\n",
      "All the ships had S + 2S + 4S = 7S = 847 people.\n",
      "Thus, the ship that the monster ate in the first hundred years had S = 847 / 7 = <T>divide(847, 7)=121.0 people on it.\n",
      "\n",
      "\n",
      "Half of the number of Randy's mango trees is 60/2 = <T>divide(60, 2)=30.0 trees.\n",
      "So Randy has 30 - 5 = <T>subtract(30, 5)=25 coconut trees.\n",
      "Therefore, Randy has 60 + 25 = <T>add(60, 25)=85 treeson his farm.\n",
      "\n",
      "\n",
      "In one hour, there are 3 sets of 20 minutes.\n",
      "So, Joy can read 8 x 3 = <T>multiply(8, 3)=24 pages in an hour.\n",
      "It will take her 120/24 = <T>divide(120, 24)=5.0 hours to read 120 pages.\n",
      "\n",
      "\n",
      "He sold each DVD for 6*2.5=$<T>multiply(6, 2.5)=15.0\n",
      "So he makes a profit of 15-6=$<T>subtract(15, 6)=9\n",
      "So each day he makes a profit of 9*500=$<T>multiply(9, 500)=4500\n",
      "So he makes 4500*5=$<T>multiply(4500, 5)=22500\n",
      "He makes 22,500*20=$<T>multiply(22500, 20)=450000\n",
      "Then after the cost of creating the movie he has a profit of 450,000-2000=$<T>subtract(450000, 2000)=448000\n",
      "\n",
      "\n",
      "According to the ratio, for every 5 parts that Johnson gets, Mike gets 2 parts\n",
      "Since Johnson got $2500, each part is therefore $2500/5 = $<T>divide(2500, 5)=500.0\n",
      "Mike will get 2*$500 = $<T>multiply(2, 500)=1000\n",
      "After buying the shirt he will have $1000-$200 = $<T>subtract(1000, 200)=800 left\n",
      "\n",
      "\n",
      "If there were 26 pink hard hats and Carl took away 4 pink hard hats, the number of pink hard hats that remained is 26-4 = <T>subtract(26, 4)=22\n",
      "John also took away 6 pink hard hats, leaving 22-6 = <T>subtract(22, 6)=16 pink hard hats in the truck.\n",
      "If John also took twice as many green hard hats as pink hard hats, he took 2*6 = <T>multiply(6, 2)=12 green hard hats.\n",
      "The total number of green hard hats that remained in the truck is 15-12 = <T>subtract(15, 12)=3\n",
      "In the truck, after some are taken, there were 3 green hard hats + 16 pink hard hats = <T>add(3, 16)=19 hard hats in the truck.\n",
      "Altogether, 19 green and pink hard hats + 24 yellow hards hats = <T>add(19, 24)=43 hard hats remained in the truck\n",
      "\n",
      "\n",
      "Roque takes 2*3 = <T>multiply(2, 3)=6 hours a week to walk to work.\n",
      "Roque takes 6*2 = <T>multiply(6, 2)=12 hours a week to walk to and from work.\n",
      "Roque takes 1*2 = <T>multiply(1, 2)=2 hours a week to bike to work.\n",
      "Roque takes 2*2 = <T>multiply(2, 2)=4 hours a week to bike to and from work.\n",
      "In total, Roque takes 12+4 = <T>add(12, 4)=16 hour a week to go to and from work.\n",
      "\n",
      "\n",
      "He bikes 20*2=<T>multiply(20, 2)=40 miles each day for work\n",
      "So he bikes 40*5=<T>multiply(40, 5)=200 miles for work\n",
      "That means he bikes a total of 200+200=<T>add(200, 200)=400 miles for work\n",
      "So he bikes a total of 400/25=<T>divide(400, 25)=16.0 hours\n",
      "\n",
      "\n",
      "First find the total number of snakes eaten: 5 snakes/jaguar * 6 jaguars = <T>multiply(5, 6)=30 snakes\n",
      "Then find the total number of birds eaten per day: 30 snakes * 3 birds/snake = <T>multiply(30, 3)=90 snakes\n",
      "Then multiply the number of snakes by the number of beetles per snake to find the total number of beetles eaten per day: 90 snakes * 12 beetles/snake = <T>multiply(90, 12)=1080 beetles\n",
      "\n",
      "\n",
      "She bought 5 shorts at $7 each so 5*7=$<T>multiply(5, 7)=35\n",
      "She bought 2 pair of shoes at $10 each so 2*10=$<T>multiply(2, 10)=20\n",
      "The shorts and shoes cost her 35+20 = $<T>add(35, 20)=55\n",
      "We know she spent 75 total and the shorts and shoes cost $55 which left a difference of 75-55 = $<T>subtract(75, 55)=20\n",
      "She bought 4 tops for a total of $20 so 20/4 = $5\n",
      "\n",
      "\n",
      "So far, Mary has paid back $15 +$23=$<T>add(15, 23)=38 of the credit.\n",
      "So she still needs to pay $100-$38=$<T>subtract(100, 38)=62\n",
      "\n",
      "\n",
      "Out of the first 100 balls, Ralph was able to hit 2/5 of them and not able to hit 3/5 of them, 3/5 x 100 = 60 tennis balls Ralph didn't hit.\n",
      "Out of the next 75 balls, Ralph was able to hit 1/3 of them and not able to hit 2/3 of them, 2/3 x 75 = 50 tennis balls that Ralph didn't hit.\n",
      "Combined, Ralph was not able to hit 60 + 50 = <T>add(60, 50)=110 tennis balls Ralph didn't hit.\n",
      "\n",
      "\n",
      "In the first four houses, there are a total of 4 houses * 3 gnomes = <T>multiply(4, 3)=12 gnomes.\n",
      "Therefore, the fifth house had 20 total gnomes – 12 gnomes = <T>subtract(20, 12)=8 gnomes.\n",
      "\n",
      "\n",
      "Noah earned $60/large painting x 8 large paintings = $<T>multiply(60, 8)=480 for the large paintings.\n",
      "He also earned $30/small painting x 4 small paintings = $<T>multiply(30, 4)=120 for the small paintings.\n",
      "His total sales last month were $480 + $120 = $<T>add(480, 120)=600\n",
      "So, his sales this month are $600 x 2 = $<T>multiply(600, 2)=1200\n",
      "\n",
      "\n",
      "Tony got twice $1750 which is 2*$1750 = $<T>multiply(2, 1750)=3500\n",
      "The total amount shared was $1750+$3500 = $<T>add(1750, 3500)=5250\n",
      "\n",
      "\n",
      "She is making 72 ounces of water because 12 x 6 = <T>multiply(12, 6)=72\n",
      "She needs 9 ounces of tea because 72 / 8 = <T>divide(72, 8)=9.0\n",
      "\n",
      "\n",
      "First find the total number of pieces of candy Anna gets: 14 pieces/house * 60 houses = 840 pieces\n",
      "Then find the total number of pieces of candy Billy gets: 11 pieces/house * 75 houses = <T>multiply(11, 75)=825 pieces\n",
      "Then subtract the number of pieces Billy gets from the number Anna gets to find the difference: 840 pieces - 825 pieces = <T>subtract(840, 825)=15 pieces\n",
      "\n",
      "\n",
      "The cost Rachel should budget for her pair of shoes is $50 * 2 = $<T>multiply(50, 2)=100\n",
      "The cost Rachel should budget for her dress is $200 * 2 = $<T>multiply(200, 2)=400\n",
      "The total Rachel should budget is $100 + $400 = $<T>add(100, 400)=500\n",
      "\n",
      "\n",
      "First find Carolyn's total violin practice time by tripling her piano practice time: 20 minutes/day * 3 = <T>multiply(20, 3)=60 minutes/day\n",
      "Then find the total amount of time she spends practicing each day: 60 minutes/day + 20 minutes/day = <T>add(60, 20)=80 minutes/day\n",
      "Then find the total time she spends practicing each week: 80 minutes/day * 6 days/week = <T>multiply(80, 6)=480 minutes/week\n",
      "Then find the total time she spends practicing each month: 480 minutes/week * 4 weeks/month = <T>multiply(480, 4)=1920 minutes/month\n",
      "\n",
      "\n",
      "The first 60 megabytes take 60/5=<T>divide(60, 5)=12.0 seconds.\n",
      "There are 90-60=<T>subtract(90, 60)=30 remaining megabytes.\n",
      "The remaining 30 megabytes take 30/10=<T>divide(30, 10)=3.0 seconds.\n",
      "And 12+3=<T>add(12, 3)=15 seconds.\n",
      "\n",
      "\n",
      "Carlos memorized 24/6=<T>divide(24, 6)=4.0 digits of pi.\n",
      "Sam memorized 4+6=10 digits of pi.\n",
      "\n",
      "\n",
      "Ben collected 36/3=<T>divide(36, 3)=12.0 shells\n",
      "Alan collected 12*4=<T>multiply(12, 4)=48 shells\n",
      "\n",
      "\n",
      "He needs to save up $400 because 4 x 100 = <T>multiply(4, 100)=400\n",
      "He has 8 months to earn this money because 12 - 4 = <T>subtract(12, 4)=8\n",
      "He needs to earn $50 a month because 400 / 8 = <T>divide(400, 8)=50.0\n",
      "He needs to do 5 tasks a month because 50 / 10 = <T>divide(50, 10)=5.0\n",
      "\n",
      "\n",
      "Arnel shared 5 x 8 = <T>multiply(5, 8)=40 pencils with his friends.\n",
      "So, he had 10 + 40 = <T>add(10, 40)=50 pencils in all.\n",
      "Therefore, each box had 50/10 = <T>divide(50, 10)=5.0 pencils inside.\n",
      "\n",
      "\n",
      "The cost of the ice cream is 10 × $4 = $<T>multiply(10, 4)=40\n",
      "The cost of the frozen yoghurt is 4 × $1 = $<T>multiply(4, 1)=4\n",
      "Caleb spent $40 − $4 = $36 more on ice cream than on frozen yogurt.\n",
      "\n",
      "\n",
      "Leah spent 28 / 7 = $<T>divide(28, 7)=4.0 on a milkshake.\n",
      "She had 28 - 4 = $<T>subtract(28, 4)=24 left.\n",
      "She put half in her savings account and half in her wallet, so she had 24 / 2 = $<T>divide(24, 2)=12.0 in her wallet.\n",
      "Her dog shredded all the money in her wallet but $1, so Leah lost 12 - 1 = $<T>subtract(12, 1)=11\n",
      "\n",
      "\n",
      "It took Leo 25 x 2 = <T>multiply(25, 2)=50 minutes to finish the second part of the assignment.\n",
      "Leo finished the first and second parts of the assignment in 25 + 50 = <T>add(25, 50)=75 minutes.\n",
      "He finished the entire assignment in 60 x 2 = <T>multiply(60, 2)=120 minutes.\n",
      "Therefore, it took Leo 120 - 75 = <T>subtract(120, 75)=45 minutes to finish the third part of the assignment.\n",
      "\n",
      "\n",
      "Liza used 10/2 = <T>divide(10, 2)=5.0 kilograms of butter for the chocolate chip cookies.\n",
      "Then, she used 10/5 = <T>divide(10, 5)=2.0 kilograms of butter for the peanut butter cookies.\n",
      "She used 5 + 2 = <T>add(5, 2)=7 kilograms of butter for the chocolate and peanut butter cookies.\n",
      "So, only 10 -7 = <T>subtract(10, 7)=3 kilograms of butter was left.\n",
      "Then, Liza used 3/3 = <T>divide(3, 3)=1.0 kilograms of butter for the sugar cookies.\n",
      "Therefore, only 3-1 = <T>subtract(3, 1)=2 kilograms of butter were left.\n",
      "\n",
      "\n",
      "Jerry will spend 8 games x 2 hours per game = <T>multiply(8, 2)=16 hours watching one daughter play her games.\n",
      "He will spend 16 x 2 = <T>multiply(16, 2)=32 hours watching both daughters play their games.\n",
      "He will spend 8 games x 4 hours of practice = <T>multiply(8, 4)=32 hours watching one daughter practice.\n",
      "He will spend 32 x 2 = <T>multiply(32, 2)=64 hours watching both daughters practice.\n",
      "He will spend a total of 32 hours watching games + 64 hours watching practice = <T>add(32, 64)=96 hours.\n",
      "\n",
      "\n",
      "10 cans are holding 8 liters each for a total of 10 * 8 = <T>multiply(10, 8)=80 liters\n",
      "There are 290 - 80 = <T>subtract(290, 80)=210 litres left\n",
      "There are 24 - 10 =<T>subtract(24, 10)=14 cans left\n",
      "Each of the remaining cans is holding 210 / 14 = <T>divide(210, 14)=15.0 liters each\n",
      "\n",
      "\n",
      "James earns 20*.2=$<T>multiply(20, 0.2)=4.0 less while working his second job\n",
      "So he earns 20-4=$<T>subtract(20, 4)=16 an hour\n",
      "At his first job he earns 20*30=$<T>multiply(20, 30)=600\n",
      "He works 30/2=<T>divide(30, 2)=15.0 hours at his second job\n",
      "So he earns 15*16=$<T>multiply(15, 16)=240\n",
      "So he earns 600+240=$<T>add(600, 240)=840 a week\n",
      "\n",
      "\n",
      "33 * 16 = $<T>multiply(33, 16)=528\n",
      "3 * 10 = $<T>multiply(3, 10)=30\n",
      "528 + 30 = $<T>add(528, 30)=558\n",
      "Lee earned $558 mowing lawns last week.\n",
      "\n",
      "\n",
      "First find the total number of starfish arms: 7 starfish * 5 arms/starfish = <T>multiply(7, 5)=35 arms\n",
      "Then add the number of seastar arms to find the total number of arms: 35 arms + 14 arms = <T>add(35, 14)=49 arms\n",
      "\n",
      "\n",
      "Tim has 68-30 = <T>subtract(68, 30)=38 apples.\n",
      "Harry has 38/2 = <T>divide(38, 2)=19.0 apples.\n",
      "\n",
      "\n",
      "Hillary sells 3 crafts for 12 dollars each, for a total of 3 crafts * $12/craft = $<T>multiply(3, 12)=36\n",
      "She receives an extra 7 dollars from a customer, increasing the total to $36 + $7 = $<T>add(36, 7)=43\n",
      "She then deposits 18 dollars in the bank, leaving her with $43 - $18 = $25\n",
      "\n",
      "\n",
      "In 4 months, he will lose 3 x 4 = <T>multiply(3, 4)=12 kilograms.\n",
      "So his weight will be 97 – 12 = <T>subtract(97, 12)=85 kilograms.\n",
      "\n",
      "\n",
      "His partner has been teaching for 40-10=<T>subtract(40, 10)=30 years\n",
      "So together they have 40+30=<T>add(40, 30)=70 years of experience\n",
      "\n",
      "\n",
      "If Mark bought 50 cans of milk, the number of times Jennifer added 6 cans for every 5 that Mark bought is 50/5 = <T>divide(50, 5)=10.0 times.\n",
      "The total number of additional cans she bought is 10*6 = <T>multiply(10, 6)=60 cans.\n",
      "If she initially had 40 cans, she went home with 40+60 = <T>add(40, 60)=100 cans of milk.\n",
      "\n",
      "\n",
      "If Irene worked 50 hours last week, the total number of hours counting as overtime is 50-40 = <T>subtract(50, 40)=10 hours.\n",
      "Since she's given $20 for every hour of overtime, she earned 10*$20 = $<T>multiply(10, 20)=200 in overtime.\n",
      "Her total income, including the overtime, is $500+$200= $<T>add(500, 200)=700\n",
      "\n",
      "\n",
      "The hotel has in total 10 floors * 10 rooms/floor = <T>multiply(10, 10)=100 rooms.\n",
      "One floor is unavailable, so Hans could be checked into 100 rooms - 10 rooms = <T>subtract(100, 10)=90 available rooms.\n",
      "\n",
      "\n",
      "Jolyn is 2 + 5 = <T>add(2, 5)=7 months older than Aivo.\n",
      "Since Leon is 2 months older than Aivo, then Jolyn is 7 - 2 = 5 months older than Leon.\n",
      "\n",
      "\n",
      "The cow initially weighs 400*1.5=<T>multiply(400, 1.5)=600.0 pounds\n",
      "So it gained 600 - 400 = <T>subtract(600, 400)=200 pounds\n",
      "So its value increased by 200*$3 = $<T>multiply(200, 3)=600\n",
      "\n",
      "\n",
      "Last year: 86 geckos\n",
      "2 years ago: 86(2)=172\n",
      "Total number of geckos sold 86+172=<T>add(86, 172)=258 geckos\n",
      "\n",
      "\n"
     ]
    }
   ],
   "source": [
    "for row in dataset_suitable['train'].select(range(50)):\n",
    "    print(row['answer'])\n",
    "    print()"
   ]
  },
  {
   "cell_type": "markdown",
   "metadata": {},
   "source": [
    "Save the dataset"
   ]
  },
  {
   "cell_type": "code",
   "execution_count": 21,
   "metadata": {},
   "outputs": [
    {
     "data": {
      "text/plain": [
       "DatasetDict({\n",
       "    train: Dataset({\n",
       "        features: ['question', 'answer', 'equations', 'depths', 'toolcalls'],\n",
       "        num_rows: 4128\n",
       "    })\n",
       "    test: Dataset({\n",
       "        features: ['question', 'answer', 'equations', 'depths', 'toolcalls'],\n",
       "        num_rows: 791\n",
       "    })\n",
       "    eval: Dataset({\n",
       "        features: ['question', 'answer', 'equations', 'depths', 'toolcalls'],\n",
       "        num_rows: 459\n",
       "    })\n",
       "})"
      ]
     },
     "execution_count": 21,
     "metadata": {},
     "output_type": "execute_result"
    }
   ],
   "source": [
    "train_eval = dataset_suitable[\"train\"].train_test_split(test_size=0.1, seed=42)\n",
    "dataset_suitable[\"train\"] = train_eval[\"train\"]\n",
    "dataset_suitable[\"eval\"] = train_eval[\"test\"]\n",
    "dataset_suitable"
   ]
  },
  {
   "cell_type": "code",
   "execution_count": 22,
   "metadata": {},
   "outputs": [
    {
     "name": "stderr",
     "output_type": "stream",
     "text": [
      "Creating parquet from Arrow format: 100%|██████████| 5/5 [00:00<00:00, 21.10ba/s]\n",
      "Uploading the dataset shards: 100%|██████████| 1/1 [00:01<00:00,  1.60s/it]\n",
      "Creating parquet from Arrow format: 100%|██████████| 1/1 [00:00<00:00, 94.22ba/s]\n",
      "Uploading the dataset shards: 100%|██████████| 1/1 [00:00<00:00,  3.55it/s]\n",
      "Creating parquet from Arrow format: 100%|██████████| 1/1 [00:00<00:00, 28.11ba/s]\n",
      "Uploading the dataset shards: 100%|██████████| 1/1 [00:01<00:00,  1.36s/it]\n"
     ]
    }
   ],
   "source": [
    "dataset_suitable.push_to_hub('jvhoffbauer/gsm8k-toolcalls', private=True)"
   ]
  },
  {
   "cell_type": "code",
   "execution_count": 23,
   "metadata": {},
   "outputs": [
    {
     "data": {
      "text/plain": [
       "DatasetDict({\n",
       "    train: Dataset({\n",
       "        features: ['question', 'answer', 'equations', 'depths', 'toolcalls'],\n",
       "        num_rows: 4128\n",
       "    })\n",
       "    test: Dataset({\n",
       "        features: ['question', 'answer', 'equations', 'depths', 'toolcalls'],\n",
       "        num_rows: 791\n",
       "    })\n",
       "    eval: Dataset({\n",
       "        features: ['question', 'answer', 'equations', 'depths', 'toolcalls'],\n",
       "        num_rows: 459\n",
       "    })\n",
       "})"
      ]
     },
     "execution_count": 23,
     "metadata": {},
     "output_type": "execute_result"
    }
   ],
   "source": [
    "dataset_suitable"
   ]
  },
  {
   "cell_type": "code",
   "execution_count": null,
   "metadata": {},
   "outputs": [],
   "source": []
  }
 ],
 "metadata": {
  "kernelspec": {
   "display_name": "Python 3",
   "language": "python",
   "name": "python3"
  },
  "language_info": {
   "codemirror_mode": {
    "name": "ipython",
    "version": 3
   },
   "file_extension": ".py",
   "mimetype": "text/x-python",
   "name": "python",
   "nbconvert_exporter": "python",
   "pygments_lexer": "ipython3",
   "version": "3.10.12"
  }
 },
 "nbformat": 4,
 "nbformat_minor": 2
}
