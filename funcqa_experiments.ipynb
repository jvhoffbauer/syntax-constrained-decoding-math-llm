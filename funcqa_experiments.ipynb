{
 "cells": [
  {
   "cell_type": "code",
   "execution_count": 1,
   "metadata": {},
   "outputs": [],
   "source": [
    "import os \n",
    "os.environ[\"CUDA_VISIBLE_DEVICES\"] = \"0,1\""
   ]
  },
  {
   "cell_type": "code",
   "execution_count": 2,
   "metadata": {},
   "outputs": [
    {
     "name": "stderr",
     "output_type": "stream",
     "text": [
      "/usr/local/lib/python3.10/dist-packages/tqdm/auto.py:21: TqdmWarning: IProgress not found. Please update jupyter and ipywidgets. See https://ipywidgets.readthedocs.io/en/stable/user_install.html\n",
      "  from .autonotebook import tqdm as notebook_tqdm\n"
     ]
    }
   ],
   "source": [
    "import math\n",
    "from tqdm import tqdm\n",
    "import toolmode.cfg_decoding as cfg_decoding\n",
    "import toolmode.data.funcqa as funcqa\n",
    "import toolmode.data.funcqa.runner as funcqa_runner"
   ]
  },
  {
   "cell_type": "code",
   "execution_count": 3,
   "metadata": {},
   "outputs": [
    {
     "name": "stderr",
     "output_type": "stream",
     "text": [
      "Saving the dataset (1/1 shards): 100%|██████████| 60/60 [00:00<00:00, 20959.29 examples/s]\n"
     ]
    },
    {
     "data": {
      "text/plain": [
       "Dataset({\n",
       "    features: ['question', 'answer', 'func', 'operation', 'operation_num_params', 'prompt'],\n",
       "    num_rows: 60\n",
       "})"
      ]
     },
     "execution_count": 3,
     "metadata": {},
     "output_type": "execute_result"
    }
   ],
   "source": [
    "dataset = funcqa.load()\n",
    "dataset"
   ]
  },
  {
   "cell_type": "code",
   "execution_count": 4,
   "metadata": {},
   "outputs": [
    {
     "data": {
      "text/plain": [
       "{'question': 'A car depreciates by 11% each year. In 8 years, what is the value of the car of its original price? (in decimal form)',\n",
       " 'answer': 0.3936,\n",
       " 'func': '<T>power(0.89, 8)=0.3936',\n",
       " 'operation': 'power',\n",
       " 'operation_num_params': 2,\n",
       " 'prompt': \"Answer the following question with the operator power:\\n\\nQ: A bacteria culture doubles every 3 hours. Starting with one bacterium, how many bacteria will there be after 39 hours?\\nA: After 11 hours, the number of the bacteria will be 2^(39/3)=<T>power(2, 39/3)=8192.\\n\\nQ: A bacteria colony doubles every 5 minutes. How many times will the colony be in 8 minutes?\\nA: The colony will be 2^(8/5)=<T>power(2, 8/5)=3.03 times in 8 minutes.\\n\\nQ: A computer's hard drive has certain gigabytes capacity. If a user stores twice the amount of data every year, how many times will the amount of data stored on the hard drive increase after 7 years?\\nA: After 7 years, the amount of data stored on the hard drive will increase by 2^7=<T>power(2, 7)=128 times.\\n\\nQ: A smartphone battery drains at a rate of 18% per hour. If it is fully charged right now, how much battery life will it have after 10 hours?\\nA: After 10 hours, the smartphone will have 0.82^10=<T>power(0.82, 10)=0.14 of its original battery life.\\n\\nQ: A car depreciates by 11% each year. In 8 years, what is the value of the car of its original price? (in decimal form)\\nA:\"}"
      ]
     },
     "execution_count": 4,
     "metadata": {},
     "output_type": "execute_result"
    }
   ],
   "source": [
    "dataset[0]"
   ]
  },
  {
   "cell_type": "code",
   "execution_count": 5,
   "metadata": {},
   "outputs": [
    {
     "name": "stdout",
     "output_type": "stream",
     "text": [
      "Answer the following question with the operator power:\n",
      "\n",
      "Q: A bacteria culture doubles every 3 hours. Starting with one bacterium, how many bacteria will there be after 39 hours?\n",
      "A: After 11 hours, the number of the bacteria will be 2^(39/3)=<T>power(2, 39/3)=8192.\n",
      "\n",
      "Q: A bacteria colony doubles every 5 minutes. How many times will the colony be in 8 minutes?\n",
      "A: The colony will be 2^(8/5)=<T>power(2, 8/5)=3.03 times in 8 minutes.\n",
      "\n",
      "Q: A computer's hard drive has certain gigabytes capacity. If a user stores twice the amount of data every year, how many times will the amount of data stored on the hard drive increase after 7 years?\n",
      "A: After 7 years, the amount of data stored on the hard drive will increase by 2^7=<T>power(2, 7)=128 times.\n",
      "\n",
      "Q: A smartphone battery drains at a rate of 18% per hour. If it is fully charged right now, how much battery life will it have after 10 hours?\n",
      "A: After 10 hours, the smartphone will have 0.82^10=<T>power(0.82, 10)=0.14 of its original battery life.\n",
      "\n",
      "Q: A car depreciates by 11% each year. In 8 years, what is the value of the car of its original price? (in decimal form)\n",
      "A:\n"
     ]
    }
   ],
   "source": [
    "print(dataset[0][\"prompt\"])"
   ]
  },
  {
   "cell_type": "code",
   "execution_count": 6,
   "metadata": {},
   "outputs": [
    {
     "name": "stderr",
     "output_type": "stream",
     "text": [
      "Loading checkpoint shards: 100%|██████████| 8/8 [00:05<00:00,  1.47it/s]\n"
     ]
    }
   ],
   "source": [
    "MODEL_NAME = \"HuggingFaceH4/zephyr-7b-alpha\"\n",
    "cfg_decoder = cfg_decoding.CfgDecoder(MODEL_NAME, device_map=\"cuda:0\")"
   ]
  },
  {
   "cell_type": "markdown",
   "metadata": {},
   "source": [
    "### Constrained decoding"
   ]
  },
  {
   "cell_type": "code",
   "execution_count": 7,
   "metadata": {},
   "outputs": [
    {
     "name": "stderr",
     "output_type": "stream",
     "text": [
      "  0%|          | 0/60 [00:00<?, ?it/s]/usr/local/lib/python3.10/dist-packages/transformers/generation/utils.py:1473: UserWarning: You have modified the pretrained model configuration to control generation. This is a deprecated strategy to control generation and will be removed soon, in a future version. Please use and modify the model generation configuration (see https://huggingface.co/docs/transformers/generation_strategies#default-text-generation-configuration )\n",
      "  warnings.warn(\n",
      "/usr/local/lib/python3.10/dist-packages/transformers/generation/configuration_utils.py:381: UserWarning: `do_sample` is set to `False`. However, `temperature` is set to `None` -- this flag is only used in sample-based generation modes. You should set `do_sample=True` or unset `temperature`.\n",
      "  warnings.warn(\n",
      "/usr/local/lib/python3.10/dist-packages/transformers/generation/configuration_utils.py:386: UserWarning: `do_sample` is set to `False`. However, `top_p` is set to `0` -- this flag is only used in sample-based generation modes. You should set `do_sample=True` or unset `top_p`.\n",
      "  warnings.warn(\n",
      "/usr/local/lib/python3.10/dist-packages/bitsandbytes/nn/modules.py:226: UserWarning: Input type into Linear4bit is torch.float16, but bnb_4bit_compute_type=torch.float32 (default). This will lead to slow inference or training speed.\n",
      "  warnings.warn(f'Input type into Linear4bit is torch.float16, but bnb_4bit_compute_type=torch.float32 (default). This will lead to slow inference or training speed.')\n",
      "2023-12-01 11:12:40.414957: E external/local_xla/xla/stream_executor/cuda/cuda_dnn.cc:9261] Unable to register cuDNN factory: Attempting to register factory for plugin cuDNN when one has already been registered\n",
      "2023-12-01 11:12:40.414992: E external/local_xla/xla/stream_executor/cuda/cuda_fft.cc:607] Unable to register cuFFT factory: Attempting to register factory for plugin cuFFT when one has already been registered\n",
      "2023-12-01 11:12:40.416042: E external/local_xla/xla/stream_executor/cuda/cuda_blas.cc:1515] Unable to register cuBLAS factory: Attempting to register factory for plugin cuBLAS when one has already been registered\n",
      "2023-12-01 11:12:40.421179: I tensorflow/core/platform/cpu_feature_guard.cc:182] This TensorFlow binary is optimized to use available CPU instructions in performance-critical operations.\n",
      "To enable the following instructions: AVX2 FMA, in other operations, rebuild TensorFlow with the appropriate compiler flags.\n",
      "2023-12-01 11:12:41.166374: W tensorflow/compiler/tf2tensorrt/utils/py_utils.cc:38] TF-TRT Warning: Could not find TensorRT\n",
      "/usr/local/lib/python3.10/dist-packages/transformers/generation/configuration_utils.py:381: UserWarning: `do_sample` is set to `False`. However, `temperature` is set to `None` -- this flag is only used in sample-based generation modes. You should set `do_sample=True` or unset `temperature`.\n",
      "  warnings.warn(\n",
      "/usr/local/lib/python3.10/dist-packages/transformers/generation/configuration_utils.py:386: UserWarning: `do_sample` is set to `False`. However, `top_p` is set to `0` -- this flag is only used in sample-based generation modes. You should set `do_sample=True` or unset `top_p`.\n",
      "  warnings.warn(\n",
      "  2%|▏         | 1/60 [00:10<10:25, 10.60s/it]"
     ]
    },
    {
     "name": "stdout",
     "output_type": "stream",
     "text": [
      "A car depreciates by 11% each year. In 8 years, what is the value of the car of its original price? (in decimal form)\n",
      "After 8 years, the car's value will be 0.79^8=\n",
      "<T>power(0.79,8)\n",
      "0.15\n",
      "0.3936\n",
      "False\n",
      "\n"
     ]
    },
    {
     "name": "stderr",
     "output_type": "stream",
     "text": [
      "  3%|▎         | 2/60 [00:18<08:33,  8.86s/it]"
     ]
    },
    {
     "name": "stdout",
     "output_type": "stream",
     "text": [
      "If the population of a city increases by a percentage of 2% every year, how many times will the population increase in 31 years?\n",
      "After 31 years, the population will increase by 2^31=\n",
      "<T>power(2,31)\n",
      "2147483648\n",
      "1.8476\n",
      "False\n",
      "\n"
     ]
    },
    {
     "name": "stderr",
     "output_type": "stream",
     "text": [
      "  5%|▌         | 3/60 [00:25<07:52,  8.28s/it]"
     ]
    },
    {
     "name": "stdout",
     "output_type": "stream",
     "text": [
      "A cube has a side length of 1.31 meters. What is the volume of the cube in cubic meters?\n",
      "The volume of the cube is 1.31^3=\n",
      "<T>power(1.31,3)\n",
      "2.25\n",
      "2.2481\n",
      "True\n",
      "\n"
     ]
    },
    {
     "name": "stderr",
     "output_type": "stream",
     "text": [
      "  7%|▋         | 4/60 [00:33<07:25,  7.95s/it]"
     ]
    },
    {
     "name": "stdout",
     "output_type": "stream",
     "text": [
      "a bacteria triples every hour, how many bacteria will there be in 24 hours?\n",
      "After 24 hours, the number of bacteria will be 3^24=\n",
      "<T>power(3,24)\n",
      "282429536481\n",
      "282429536481.0\n",
      "True\n",
      "\n"
     ]
    },
    {
     "name": "stderr",
     "output_type": "stream",
     "text": [
      "  8%|▊         | 5/60 [00:41<07:26,  8.11s/it]"
     ]
    },
    {
     "name": "stdout",
     "output_type": "stream",
     "text": [
      "What is the area of a 7.777 meter-long square?\n",
      "The area of a square is the square of its length. So, the area of a 7.777 meter-long square is 7.777^2=\n",
      "<T>power(7.777,2)\n",
      "60.48\n",
      "60.481700000000004\n",
      "True\n",
      "\n"
     ]
    },
    {
     "name": "stderr",
     "output_type": "stream",
     "text": [
      " 10%|█         | 6/60 [00:49<07:09,  7.95s/it]"
     ]
    },
    {
     "name": "stdout",
     "output_type": "stream",
     "text": [
      "A car travels 0.384 miles and then travels 1.63 more miles. How far did the car travel in total?\n",
      "The car traveled 0.384+1.63=\n",
      "<T>add(0.384,1.63)\n",
      "2.01\n",
      "2.014\n",
      "True\n",
      "\n"
     ]
    },
    {
     "name": "stderr",
     "output_type": "stream",
     "text": [
      " 12%|█▏        | 7/60 [00:57<07:08,  8.08s/it]"
     ]
    },
    {
     "name": "stdout",
     "output_type": "stream",
     "text": [
      "A marathon runner has completed 8.7832 miles so far. He has 5.3689 miles left to run. What is the total distance of the marathon?\n",
      "The total distance of the marathon is 8.7832+5.3689=\n",
      "<T>add(8.7832,5.3689)\n",
      "14.15\n",
      "14.1521\n",
      "True\n",
      "\n"
     ]
    },
    {
     "name": "stderr",
     "output_type": "stream",
     "text": [
      " 13%|█▎        | 8/60 [01:05<07:04,  8.16s/it]"
     ]
    },
    {
     "name": "stdout",
     "output_type": "stream",
     "text": [
      "A company has 13,289 employees and plans to hire 7,899 more. How many employees will the company have in total?\n",
      "The total number of employees the company will have is 13,289+7,899=\n",
      "<T>add(13289,7899)\n",
      "21188\n",
      "21188.0\n",
      "True\n",
      "\n"
     ]
    },
    {
     "name": "stderr",
     "output_type": "stream",
     "text": [
      " 15%|█▌        | 9/60 [01:16<07:28,  8.80s/it]"
     ]
    },
    {
     "name": "stdout",
     "output_type": "stream",
     "text": [
      "This week, Mary earns 17.83 dollars on Monday, 18.99 dollars on Tuesday, 23.45 dollars on Wednesday, 14.12 dollars on Thursday, and 8.22 dollars on Friday. How much money did Mary earn this week?\n",
      "Mary earned 17.83+18.99+23.45+14.12+8.22=\n",
      "<T>add(17.83,18.99,23.45,14.12,8.22)\n",
      "82.61\n",
      "82.61\n",
      "True\n",
      "\n"
     ]
    },
    {
     "name": "stderr",
     "output_type": "stream",
     "text": [
      " 17%|█▋        | 10/60 [01:26<07:40,  9.22s/it]"
     ]
    },
    {
     "name": "stdout",
     "output_type": "stream",
     "text": [
      " The cost of an estate is 19,543,778.4 dollars. If the furnishings will cost at least 632,361 dollars, what is the minimum amount of money needed to buy the estate and furnish it?\n",
      "The minimum amount of money needed to buy the estate and furnish it is 19,543,778.4+632,361=\n",
      "<T>add(19,543,778.4,632,361)\n",
      "2333.4\n",
      "20176139.4\n",
      "False\n",
      "\n"
     ]
    },
    {
     "name": "stderr",
     "output_type": "stream",
     "text": [
      " 18%|█▊        | 11/60 [01:34<07:14,  8.86s/it]"
     ]
    },
    {
     "name": "stdout",
     "output_type": "stream",
     "text": [
      "The gas tank of car can hold up to 11.28 gallons of gas. Currently, a car only has 1.89 gallons of gas in its tank. How many more gallons of gas can the car hold if the driver wants to fill the tank?\n",
      "The car can hold 11.28-1.89=\n",
      "<T>subtract(11.28,1.89)\n",
      "9.39\n",
      "9.39\n",
      "True\n",
      "\n"
     ]
    },
    {
     "name": "stderr",
     "output_type": "stream",
     "text": [
      " 20%|██        | 12/60 [01:43<07:04,  8.85s/it]"
     ]
    },
    {
     "name": "stdout",
     "output_type": "stream",
     "text": [
      "If a recipe calls for 892 cups of flour and you only have 134 cups, how many cups of flour do you need to buy?\n",
      "The recipe calls for 892 cups of flour, but you only have 134 cups, so you need to buy 892-134=\n",
      "<T>subtract(892,134)\n",
      "758\n",
      "758.0\n",
      "True\n",
      "\n"
     ]
    },
    {
     "name": "stderr",
     "output_type": "stream",
     "text": [
      " 22%|██▏       | 13/60 [01:51<06:53,  8.81s/it]"
     ]
    },
    {
     "name": "stdout",
     "output_type": "stream",
     "text": [
      "A runner has completed 8.9832 miles out of a 29.47-mile marathon. How many miles does the runner have left to run?\n",
      "The runner has completed 8.9832 miles, so they have 29.47-8.9832=\n",
      "<T>subtract(29.47,8.9832)\n",
      "20.49\n",
      "20.4868\n",
      "True\n",
      "\n"
     ]
    },
    {
     "name": "stderr",
     "output_type": "stream",
     "text": [
      " 23%|██▎       | 14/60 [02:01<06:54,  9.02s/it]"
     ]
    },
    {
     "name": "stdout",
     "output_type": "stream",
     "text": [
      "A company had 18,778 employees last year. This year, the company has 13,289 employees. How many employees did the company lose?\n",
      "The company had 18,778 employees last year, and 13,289 employees this year, so the company lost 18,778-13,289=\n",
      "<T>subtract(18778,13289)\n",
      "5489\n",
      "5489.0\n",
      "True\n",
      "\n"
     ]
    },
    {
     "name": "stderr",
     "output_type": "stream",
     "text": [
      " 25%|██▌       | 15/60 [02:11<07:03,  9.41s/it]"
     ]
    },
    {
     "name": "stdout",
     "output_type": "stream",
     "text": [
      "A company has a budget of $1028137.23. They spent $79952.88 on office expenses. How much money is left?\n",
      "The company has $1028137.23-79952.88=\n",
      "<T>subtract(1028137.23,79952.88)\n",
      "948184.35\n",
      "948184.35\n",
      "True\n",
      "\n"
     ]
    },
    {
     "name": "stderr",
     "output_type": "stream",
     "text": [
      " 27%|██▋       | 16/60 [02:20<06:47,  9.26s/it]"
     ]
    },
    {
     "name": "stdout",
     "output_type": "stream",
     "text": [
      " A reader is reading a really long book. She reads 67 pages per day, and it takes her 253 days to finish the book. How many pages are in the book at most?\n",
      "The reader reads 67 pages per day, so she reads 67*253=\n",
      "<T>multiply(67,253)\n",
      "16951\n",
      "16951.0\n",
      "True\n",
      "\n"
     ]
    },
    {
     "name": "stderr",
     "output_type": "stream",
     "text": [
      " 28%|██▊       | 17/60 [02:30<06:42,  9.37s/it]"
     ]
    },
    {
     "name": "stdout",
     "output_type": "stream",
     "text": [
      "If there is a gemstone that costs only $0.37 a gram and Jack wants to buy 48,172.7 grams, how much would he need to spend?\n",
      "If a gram costs $0.37, then 48,172.7 grams would cost 48,172.7*0.37=\n",
      "<T>multiply(48172.7,0.37)\n",
      "17823.9\n",
      "17823.899\n",
      "True\n",
      "\n"
     ]
    },
    {
     "name": "stderr",
     "output_type": "stream",
     "text": [
      " 30%|███       | 18/60 [02:39<06:31,  9.32s/it]"
     ]
    },
    {
     "name": "stdout",
     "output_type": "stream",
     "text": [
      " A swimming pool has a length of 0.848 kilometers, and a width of 0.3766 kilometers. What is the area of the swimming pool in square kilometers?\n",
      "The area of the swimming pool is the length multiplied by the width, so 0.848*0.3766=\n",
      "<T>multiply(0.848,0.3766)\n",
      "0.32\n",
      "0.3193568\n",
      "True\n",
      "\n"
     ]
    },
    {
     "name": "stderr",
     "output_type": "stream",
     "text": [
      " 32%|███▏      | 19/60 [02:48<06:17,  9.21s/it]"
     ]
    },
    {
     "name": "stdout",
     "output_type": "stream",
     "text": [
      "If a car travels 0.384 miles in 1 minute, how many miles will it travel in 49 minutes?\n",
      "The car travels 0.384 miles in 1 minute, so in 49 minutes it will travel 49*0.384=\n",
      "<T>multiply(0.384,49)\n",
      "18.82\n",
      "18.816\n",
      "True\n",
      "\n"
     ]
    },
    {
     "name": "stderr",
     "output_type": "stream",
     "text": [
      " 33%|███▎      | 20/60 [02:58<06:20,  9.51s/it]"
     ]
    },
    {
     "name": "stdout",
     "output_type": "stream",
     "text": [
      "If a pizza has a diameter of 0.6273 inches, what is its circumference? (take pi to be 3.14159)\n",
      "The circumference of a circle is 2*pi*radius, so the circumference of the pizza is 2*3.14159*0.31273=\n",
      "<T>multiply(2,3.14159,0.31273)\n",
      "1.96\n",
      "1.970719407\n",
      "True\n",
      "\n"
     ]
    },
    {
     "name": "stderr",
     "output_type": "stream",
     "text": [
      " 35%|███▌      | 21/60 [03:07<05:57,  9.16s/it]"
     ]
    },
    {
     "name": "stdout",
     "output_type": "stream",
     "text": [
      "If 327.87 ounces of sugar are required to make 52 cookies, how many ounces of sugar are required to make each cookie?\n",
      "Each cookie will require 327.87/52=\n",
      "<T>divide(327.87,52)\n",
      "6.31\n",
      "6.3051\n",
      "True\n",
      "\n"
     ]
    },
    {
     "name": "stderr",
     "output_type": "stream",
     "text": [
      " 37%|███▋      | 22/60 [03:16<05:48,  9.18s/it]"
     ]
    },
    {
     "name": "stdout",
     "output_type": "stream",
     "text": [
      "A company has a total budget of 21412879.32 dollars and wants to evenly distribute the money to 8889 employees. How much money will each employee get?\n",
      "Each employee will get 21412879.32/8889=\n",
      "<T>divide(21412879.32,8889)\n",
      "2408.92\n",
      "2408.9188\n",
      "True\n",
      "\n"
     ]
    },
    {
     "name": "stderr",
     "output_type": "stream",
     "text": [
      " 38%|███▊      | 23/60 [03:24<05:32,  8.98s/it]"
     ]
    },
    {
     "name": "stdout",
     "output_type": "stream",
     "text": [
      "A store sells a total of 898.75 ounces of cereal. If they sell 43 boxes of cereal, how many ounces of cereal are in each box?\n",
      "Each box of cereal has 898.75/43=\n",
      "<T>divide(898.75,43)\n",
      "20.9\n",
      "20.9012\n",
      "True\n",
      "\n"
     ]
    },
    {
     "name": "stderr",
     "output_type": "stream",
     "text": [
      " 40%|████      | 24/60 [03:33<05:22,  8.96s/it]"
     ]
    },
    {
     "name": "stdout",
     "output_type": "stream",
     "text": [
      "A swimming pool has a volume of 19,338.74 gallons. If the water can evenly fill 532 buckets, how many gallons of water are in each bucket?\n",
      "Each bucket will have 19,338.74/532=\n",
      "<T>divide(19338.74,532)\n",
      "36.35\n",
      "36.351\n",
      "True\n",
      "\n"
     ]
    },
    {
     "name": "stderr",
     "output_type": "stream",
     "text": [
      " 42%|████▏     | 25/60 [03:42<05:11,  8.90s/it]"
     ]
    },
    {
     "name": "stdout",
     "output_type": "stream",
     "text": [
      "A marathon is 26.2823 miles long. If a runner finishes the marathon in 216.3 minutes, what is the runner's average speed per mile?\n",
      "The runner's average speed per mile is 26.2823/216.3=\n",
      "<T>divide(26.2823,216.3)\n",
      "0.12\n",
      "8.2299\n",
      "False\n",
      "\n"
     ]
    },
    {
     "name": "stderr",
     "output_type": "stream",
     "text": [
      " 43%|████▎     | 26/60 [03:51<04:59,  8.82s/it]"
     ]
    },
    {
     "name": "stdout",
     "output_type": "stream",
     "text": [
      "A construction company has three trucks that can transport a load in 23, 33, and 42 hours respectively. If the three trucks start transporting at the same time and repeatedly transport the load with no rest, how long will it take for them to finish transporting the load at the same time?\n",
      "The least amount of time it will take for them to finish transporting the load at the same time is \n",
      "<T>lcm(23,33,42)\n",
      "10626\n",
      "10626.0\n",
      "True\n",
      "\n"
     ]
    },
    {
     "name": "stderr",
     "output_type": "stream",
     "text": [
      " 45%|████▌     | 27/60 [03:59<04:47,  8.71s/it]"
     ]
    },
    {
     "name": "stdout",
     "output_type": "stream",
     "text": [
      "Two cyclists are riding on a circular track. The first cyclist completes a lap in 783 seconds, and the second cyclist completes a lap in 684 minutes. If they both start at the same time, how long will it take for them to meet at the starting point again?\n",
      "The least amount of time it will take for them to meet at the starting point again is \n",
      "<T>lcm(783,68400)\n",
      "5950800\n",
      "59508.0\n",
      "False\n",
      "\n"
     ]
    },
    {
     "name": "stderr",
     "output_type": "stream",
     "text": [
      " 47%|████▋     | 28/60 [04:08<04:45,  8.93s/it]"
     ]
    },
    {
     "name": "stdout",
     "output_type": "stream",
     "text": [
      "A teacher wants to give three different assignments. Assignment A cycles every 38 days, and Assignment B cycles every 49 days, and Assignment C cycles every 28 days. If the teacher gives all three assignments on the same day, how many days will it take for the teacher to give all three assignments on the same day again?\n",
      "The least number of days before the teacher can give all three assignments on the same day again is the least common multiple of 38, 49, and 28, which is \n",
      "<T>lcm(38,49,28)\n",
      "3724\n",
      "3724.0\n",
      "True\n",
      "\n"
     ]
    },
    {
     "name": "stderr",
     "output_type": "stream",
     "text": [
      " 48%|████▊     | 29/60 [04:18<04:38,  8.97s/it]"
     ]
    },
    {
     "name": "stdout",
     "output_type": "stream",
     "text": [
      "Two libaians have different reading habits. The first libaian reads a book every 289 days, and the second libaian every 272 days. If they both start reading a book on the same day, how many days will it take for them to start reading a book on the same day again?\n",
      "The least number of days before they can both start reading a book on the same day again is the least common multiple of 289 and 272, which is \n",
      "<T>lcm(289,272)\n",
      "4624\n",
      "4624.0\n",
      "True\n",
      "\n"
     ]
    },
    {
     "name": "stderr",
     "output_type": "stream",
     "text": [
      " 50%|█████     | 30/60 [04:26<04:28,  8.94s/it]"
     ]
    },
    {
     "name": "stdout",
     "output_type": "stream",
     "text": [
      "A factory has two machines. Machine A takes 182 minutes to produce a product, and Machine B takes 273 minutes to produce a product. If the factory starts both machines at the same time, what is the least amount of time it will take for both machines to produce a product at the same time?\n",
      "The least amount of time it will take for both machines to produce a product at the same time is \n",
      "<T>lcm(182,273)\n",
      "546\n",
      "546.0\n",
      "True\n",
      "\n"
     ]
    },
    {
     "name": "stderr",
     "output_type": "stream",
     "text": [
      " 52%|█████▏    | 31/60 [04:34<04:10,  8.64s/it]"
     ]
    },
    {
     "name": "stdout",
     "output_type": "stream",
     "text": [
      "A cake is to be cut into square pieces. The cake is 259 mm long and 185 mm wide. What is the maximum possible length of a side of each piece?\n",
      "The maximum possible length of a side of each piece is \n",
      "<T>gcd(259,185)\n",
      "37\n",
      "37.0\n",
      "True\n",
      "\n"
     ]
    },
    {
     "name": "stderr",
     "output_type": "stream",
     "text": [
      " 53%|█████▎    | 32/60 [04:43<04:05,  8.78s/it]"
     ]
    },
    {
     "name": "stdout",
     "output_type": "stream",
     "text": [
      "A bakery wants to package 66 cupcakes, 34 muffins, 54 cookies, and 32 brownies into boxes with the same number of baked goods in each box. What is the largest number of each type of baked good that can be in each box?\n",
      "The largest number of each type of baked good that can be in each box is \n",
      "<T>gcd(66,34,54,32)\n",
      "2\n",
      "2.0\n",
      "True\n",
      "\n"
     ]
    },
    {
     "name": "stderr",
     "output_type": "stream",
     "text": [
      " 55%|█████▌    | 33/60 [04:52<03:56,  8.75s/it]"
     ]
    },
    {
     "name": "stdout",
     "output_type": "stream",
     "text": [
      "Mary wants to distribute 144 chocolates, 126 lollipops, and 108 gummy bears into bags with the same number of candies in each bag. What is the largest number of each type of candy that can be in each bag?\n",
      "The largest number of each type of candy that can be in each bag is \n",
      "<T>gcd(144,126,108)\n",
      "18\n",
      "18.0\n",
      "True\n",
      "\n"
     ]
    },
    {
     "name": "stderr",
     "output_type": "stream",
     "text": [
      " 57%|█████▋    | 34/60 [05:01<03:50,  8.88s/it]"
     ]
    },
    {
     "name": "stdout",
     "output_type": "stream",
     "text": [
      " A school has 6644 boys, 7248 girls, and also 906 non-binary students. If the school wants to divide the students into groups where each group has the same number of students and each group has only one type of student, what is the largest number of students that can be in each group?\n",
      "The largest number of students that can be in each group is \n",
      "<T>gcd(6644,7248,906)\n",
      "302\n",
      "302.0\n",
      "True\n",
      "\n"
     ]
    },
    {
     "name": "stderr",
     "output_type": "stream",
     "text": [
      " 58%|█████▊    | 35/60 [05:11<03:49,  9.16s/it]"
     ]
    },
    {
     "name": "stdout",
     "output_type": "stream",
     "text": [
      "A teacher is trying to equally distribute 896 pencils and 672 pens, and 1456 erasers to students. What is the largest number of students that can receive the same number of each type of school supply?\n",
      "The largest number of students is the greatest common divisor of 896, 672, and 1456, which is \n",
      "<T>gcd(896,672,1456)\n",
      "112\n",
      "112.0\n",
      "True\n",
      "\n"
     ]
    },
    {
     "name": "stderr",
     "output_type": "stream",
     "text": [
      " 60%|██████    | 36/60 [05:18<03:26,  8.62s/it]"
     ]
    },
    {
     "name": "stdout",
     "output_type": "stream",
     "text": [
      "A company has 45 employees and needs to form a committee of 7 members. How many ways can the company form the committee?\n",
      "There are \n",
      "<T>choose(45,7)\n",
      "45379620\n",
      "45379620.0\n",
      "True\n",
      "\n"
     ]
    },
    {
     "name": "stderr",
     "output_type": "stream",
     "text": [
      " 62%|██████▏   | 37/60 [05:26<03:13,  8.41s/it]"
     ]
    },
    {
     "name": "stdout",
     "output_type": "stream",
     "text": [
      "A classroom has 28 students and the teacher wants to choose a group of 19 students for a project. How many ways can the teacher form the group?\n",
      "The number of ways the teacher can form the group is \n",
      "<T>choose(28,19)\n",
      "6906900\n",
      "6906900.0\n",
      "True\n",
      "\n"
     ]
    },
    {
     "name": "stderr",
     "output_type": "stream",
     "text": [
      " 63%|██████▎   | 38/60 [05:34<02:59,  8.16s/it]"
     ]
    },
    {
     "name": "stdout",
     "output_type": "stream",
     "text": [
      "How many ways can you form a team of 5 players from a reallt large squad of 101 players?\n",
      "There are \n",
      "<T>choose(101,5)\n",
      "79208745\n",
      "79208745.0\n",
      "True\n",
      "\n"
     ]
    },
    {
     "name": "stderr",
     "output_type": "stream",
     "text": [
      " 65%|██████▌   | 39/60 [05:42<02:49,  8.08s/it]"
     ]
    },
    {
     "name": "stdout",
     "output_type": "stream",
     "text": [
      "In a store, there are 197 different colors of shirts, but a customer can only buy 3 shirts. How many different ways can a customer choose shirts?\n",
      "The number of different ways a customer can choose shirts is \n",
      "<T>choose(197,3)\n",
      "1254890\n",
      "1254890.0\n",
      "True\n",
      "\n"
     ]
    },
    {
     "name": "stderr",
     "output_type": "stream",
     "text": [
      " 67%|██████▋   | 40/60 [05:50<02:39,  7.97s/it]"
     ]
    },
    {
     "name": "stdout",
     "output_type": "stream",
     "text": [
      "A pizza place offers 13 toppings. If a customer can choose 9 toppings for their pizza, how many different pizzas can they create?\n",
      "The number of different pizzas a customer can create is \n",
      "<T>choose(13,9)\n",
      "715\n",
      "715.0\n",
      "True\n",
      "\n"
     ]
    },
    {
     "name": "stderr",
     "output_type": "stream",
     "text": [
      " 68%|██████▊   | 41/60 [05:58<02:34,  8.15s/it]"
     ]
    },
    {
     "name": "stdout",
     "output_type": "stream",
     "text": [
      "A music festival has 23 bands performing. In how many ways can the organizers arrange the schedule for 7 bands to perform?\n",
      "The number of ways to arrange 7 bands out of 23 bands is 23P7=\n",
      "<T>permutate(23,7)\n",
      "1235591280\n",
      "1235591280.0\n",
      "True\n",
      "\n"
     ]
    },
    {
     "name": "stderr",
     "output_type": "stream",
     "text": [
      " 70%|███████   | 42/60 [06:07<02:31,  8.43s/it]"
     ]
    },
    {
     "name": "stdout",
     "output_type": "stream",
     "text": [
      "A committee of 17 people needs to be formed from a group of 8 candidates. Each committee member can only be assigned to one position. How many ways can the committee be formed?\n",
      "The number of ways to select 17 people out of 8 candidates and assign each person to a position is 8P17=\n",
      "<T>permutate(8,17)\n",
      "0\n",
      "980179200.0\n",
      "False\n",
      "\n"
     ]
    },
    {
     "name": "stderr",
     "output_type": "stream",
     "text": [
      " 72%|███████▏  | 43/60 [06:16<02:23,  8.46s/it]"
     ]
    },
    {
     "name": "stdout",
     "output_type": "stream",
     "text": [
      " A group of 14 students are going to take a photo in a row. In how many ways can the students arrange themselves in a row?\n",
      "The number of ways to arrange 14 students in a row is 14P14=\n",
      "<T>permutate(14,14)\n",
      "87178291200\n",
      "87178291200.0\n",
      "True\n",
      "\n"
     ]
    },
    {
     "name": "stderr",
     "output_type": "stream",
     "text": [
      " 73%|███████▎  | 44/60 [06:25<02:19,  8.71s/it]"
     ]
    },
    {
     "name": "stdout",
     "output_type": "stream",
     "text": [
      "A teacher needs to select 4 students from a class of 76 students to make presentations. If we consider the presentation order, how many ways can the teacher arrange the presentation order?\n",
      "The number of ways to select 4 students and arrange them in a presentation order is 76P4=\n",
      "<T>permutate(76,4)\n",
      "30791400\n",
      "30791400.0\n",
      "True\n",
      "\n"
     ]
    },
    {
     "name": "stderr",
     "output_type": "stream",
     "text": [
      " 75%|███████▌  | 45/60 [06:33<02:07,  8.48s/it]"
     ]
    },
    {
     "name": "stdout",
     "output_type": "stream",
     "text": [
      "How many different ways can you arrange the letters in the 7-letter word \"UCSDABC\"?\n",
      "The number of ways to arrange 7 letters is 7! =\n",
      "<T>permutate(7,7)\n",
      "5040\n",
      "5040.0\n",
      "True\n",
      "\n"
     ]
    },
    {
     "name": "stderr",
     "output_type": "stream",
     "text": [
      " 77%|███████▋  | 46/60 [06:40<01:54,  8.16s/it]"
     ]
    },
    {
     "name": "stdout",
     "output_type": "stream",
     "text": [
      " A sqaure swimming pool has an area of 7876.56 square meters. What is the length of one side of the pool?\n",
      "The length of one side of the square swimming pool is \n",
      "<T>sqrt(7876.56)\n",
      "88.75\n",
      "88.7468\n",
      "True\n",
      "\n"
     ]
    },
    {
     "name": "stderr",
     "output_type": "stream",
     "text": [
      " 78%|███████▊  | 47/60 [06:47<01:41,  7.79s/it]"
     ]
    },
    {
     "name": "stdout",
     "output_type": "stream",
     "text": [
      " The variance of a set of data is 0.0284. What is the standard deviation of the data?\n",
      "The standard deviation is \n",
      "<T>sqrt(0.0284)\n",
      "0.17\n",
      "0.1685\n",
      "True\n",
      "\n"
     ]
    },
    {
     "name": "stderr",
     "output_type": "stream",
     "text": [
      " 80%|████████  | 48/60 [06:54<01:31,  7.59s/it]"
     ]
    },
    {
     "name": "stdout",
     "output_type": "stream",
     "text": [
      "x is a positive integer. If x^2 = 789789, what is the value of x?\n",
      "The value of x is \n",
      "<T>sqrt(789789)\n",
      "888.7\n",
      "888.7007\n",
      "True\n",
      "\n"
     ]
    },
    {
     "name": "stderr",
     "output_type": "stream",
     "text": [
      " 82%|████████▏ | 49/60 [07:02<01:21,  7.44s/it]"
     ]
    },
    {
     "name": "stdout",
     "output_type": "stream",
     "text": [
      "What is the value of √1.056?\n",
      "The value of √1.056 is \n",
      "<T>sqrt(1.056)\n",
      "1.03\n",
      "1.0276\n",
      "True\n",
      "\n"
     ]
    },
    {
     "name": "stderr",
     "output_type": "stream",
     "text": [
      " 83%|████████▎ | 50/60 [07:39<02:43, 16.33s/it]"
     ]
    },
    {
     "name": "stdout",
     "output_type": "stream",
     "text": [
      "Given the equation: 10^x = 123.2, what is the value of x?\n",
      " Given the equation: 10^x = 123.2, we can take the logarithm of both sides: log(10^x) = log(123.2).\n",
      "\n",
      "Q:  Given the equation: 10^x = 0.00000000000000000000000000000000000000000000000000000000000000000000000000000000000000000000000000000000000000000000000000000000000000000000000000000000000000000000000000000000000000000000000000000000000000000000000000000000000000000000000000000000000000000000000000000000000000000000000000000000000000000000000000000000000000000000000000000000000000000000000000000000000000000000000000000000000000000000000000000000000000000000000000000\n",
      "<T>log(10000000000000000000000000000000000000000000000000000000000000000000000000000000000000000000000000\n",
      "None\n",
      "2.0906\n",
      "False\n",
      "\n"
     ]
    },
    {
     "name": "stderr",
     "output_type": "stream",
     "text": [
      " 85%|████████▌ | 51/60 [07:48<02:07, 14.18s/it]"
     ]
    },
    {
     "name": "stdout",
     "output_type": "stream",
     "text": [
      "A solution has a hydrogen ion [H+] concentration of 0.00008342 M. What is the pH of the solution?\n",
      " The hydrogen ion concentration is 0.00008342 M, so the pH is -log(0.00008342)=\n",
      "<T>log(0.00008342)\n",
      "-4.08\n",
      "4.0787\n",
      "False\n",
      "\n"
     ]
    },
    {
     "name": "stderr",
     "output_type": "stream",
     "text": [
      " 87%|████████▋ | 52/60 [08:22<02:41, 20.22s/it]"
     ]
    },
    {
     "name": "stdout",
     "output_type": "stream",
     "text": [
      " What is the result of log(0.000324).\n",
      " The result of log(0.000324) is -3.50.\n",
      "\n",
      "Q:  What is the result of log(0.00000000000000000000000000000000000000000000000000000000000000000000000000000000000000000000000000000000000000000000000000000000000000000000000000000000000000000000000000000000000000000000000000000000000000000000000000000000000000000000000000000000000000000000000000000000000000000000000000000000000000000000000000000000000000000000000000000000000000000000000000000000000000000000000000000000000000000000000000000000000000000000000000000000000000000000000000000000\n",
      "<T>log(0.000000000000000000000000000000000000000000000000000000000000000000000000000000000000000000000000\n",
      "None\n",
      "-3.4881\n",
      "False\n",
      "\n"
     ]
    },
    {
     "name": "stderr",
     "output_type": "stream",
     "text": [
      " 88%|████████▊ | 53/60 [08:57<02:51, 24.57s/it]"
     ]
    },
    {
     "name": "stdout",
     "output_type": "stream",
     "text": [
      "A certain radioactive substance decays naturally such that every hour, the quantity is reduced by a factor of e. If we start with a certain quantity Q, how long will it take for the quantity to halve?\n",
      "Let Q0 be the initial quantity. After t hours, the quantity is Q=Q0*e^-t. For the quantity to halve, Q=Q0/2. Setting Q=Q0/2 and solving for t, we get:\n",
      "ln(Q0/2)=ln(Q0)-ln(2)\n",
      "ln(1/2)=ln(Q0)-ln(2)\n",
      "ln(1/2)=ln(Q0)-ln(2)\n",
      "ln(1/2)=ln(Q0)-ln(2)\n",
      "ln(1/2)=ln(Q0)-ln(2)\n",
      "ln(1/2)=ln(Q0)-ln(2)\n",
      "ln(1/2)=ln(Q0)-ln(2)\n",
      "ln(1/2)=ln(Q0)-ln(2)\n",
      "ln(1/2)=ln(Q0)-ln(2)\n",
      "ln(1/2)=ln(Q0)-ln(2)\n",
      "ln(1/2)=ln(Q0)-ln(2)\n",
      "ln(1/2)=ln(Q0)-ln(2)\n",
      "ln(1/2)=ln(Q0)-ln(2)\n",
      "ln(1/2)=ln(Q0)-ln(2)\n",
      "ln(1/2)=ln(Q0)-ln(2)\n",
      "ln(1/2)=ln(Q0)-ln(2)\n",
      "ln(1/2)=ln(Q0)-ln(2)\n",
      "ln(1/2)=ln(Q0)-ln(2)\n",
      "ln(1/2)=ln(Q0)-ln(2)\n",
      "ln(1/2)=ln(Q0)-ln(2)\n",
      "ln(1/2)=ln(Q0)-ln(2)\n",
      "ln(1/2)=ln(Q0)-ln(2)\n",
      "ln(1/2)=ln(Q0)-ln(2)\n",
      "ln(1/2)=ln(Q0)-ln(2)\n",
      "ln(1/2)=ln(Q0)-ln(2)\n",
      "ln(1/2)=ln(Q0)-ln(2)\n",
      "ln(1/2)=ln(Q0)-ln(2)\n",
      "ln(1/2)=ln(Q0)-ln(\n",
      "<T>ln(10000000000000000000000000000000000000000000000000000000000000000000000000000000000000000000000000\n",
      "None\n",
      "0.6931\n",
      "False\n",
      "\n"
     ]
    },
    {
     "name": "stderr",
     "output_type": "stream",
     "text": [
      " 90%|█████████ | 54/60 [09:05<01:57, 19.51s/it]"
     ]
    },
    {
     "name": "stdout",
     "output_type": "stream",
     "text": [
      " If we know e^x equals 3788.444, what is the value of x?\n",
      "If e^x=3788.444, then x=ln(3788.444)=\n",
      "<T>ln(3788.444)\n",
      "8.24\n",
      "8.2397\n",
      "True\n",
      "\n"
     ]
    },
    {
     "name": "stderr",
     "output_type": "stream",
     "text": [
      " 92%|█████████▏| 55/60 [09:11<01:18, 15.73s/it]"
     ]
    },
    {
     "name": "stdout",
     "output_type": "stream",
     "text": [
      "What is the result of ln(686868)?\n",
      "ln(686868)=\n",
      "<T>ln(686868)\n",
      "13.44\n",
      "13.4399\n",
      "True\n",
      "\n"
     ]
    },
    {
     "name": "stderr",
     "output_type": "stream",
     "text": [
      " 93%|█████████▎| 56/60 [09:20<00:54, 13.54s/it]"
     ]
    },
    {
     "name": "stdout",
     "output_type": "stream",
     "text": [
      "A farmer wants to divide 7893 pounds of apples evenly among 777 baskets. If each basket must have the same weight of apples, what is the remainder when the apples are divided?\n",
      "The remainder when the apples are divided is 7893%777=\n",
      "<T>remainder(7893,777)\n",
      "123\n",
      "123.0\n",
      "True\n",
      "\n"
     ]
    },
    {
     "name": "stderr",
     "output_type": "stream",
     "text": [
      " 95%|█████████▌| 57/60 [09:28<00:35, 11.98s/it]"
     ]
    },
    {
     "name": "stdout",
     "output_type": "stream",
     "text": [
      "A farmer has 1899 eggs and wants to put them in cartons of 18 eggs each. How many eggs will be left over after he fills as many complete cartons as possible?\n",
      "The number of eggs left over will be 1899 mod 18=\n",
      "<T>remainder(1899,18)\n",
      "9\n",
      "3.0\n",
      "False\n",
      "\n"
     ]
    },
    {
     "name": "stderr",
     "output_type": "stream",
     "text": [
      " 97%|█████████▋| 58/60 [09:37<00:21, 10.92s/it]"
     ]
    },
    {
     "name": "stdout",
     "output_type": "stream",
     "text": [
      "A store has 854 pencils and wants to put them into 123-packs. How many pencils will be left over?\n",
      "The number of pencils left over will be 854 mod 123=\n",
      "<T>remainder(854,123)\n",
      "116\n",
      "116.0\n",
      "True\n",
      "\n"
     ]
    },
    {
     "name": "stderr",
     "output_type": "stream",
     "text": [
      " 98%|█████████▊| 59/60 [09:46<00:10, 10.39s/it]"
     ]
    },
    {
     "name": "stdout",
     "output_type": "stream",
     "text": [
      " There are a total of 11241241 bacteria in a petri dish. If the bacteria should be separated into 234 other petri dishes, how many bacteria will be left over in the original petri dish?\n",
      "The number of bacteria left over will be 11241241 mod 234=\n",
      "<T>remainder(11241241,234)\n",
      "115\n",
      "115.0\n",
      "True\n",
      "\n"
     ]
    },
    {
     "name": "stderr",
     "output_type": "stream",
     "text": [
      "100%|██████████| 60/60 [09:55<00:00,  9.92s/it]"
     ]
    },
    {
     "name": "stdout",
     "output_type": "stream",
     "text": [
      "Jenny withdraw $12,345 from her bank account, and she wants to buy as many $33 jellycat teddy bears as possible, and use the rest of the money to buy her a meal. How much money will she have for her meal?\n",
      "The number of jellycat teddy bears she can buy is 12345/33=\n",
      "<T>remainder(12345,33)\n",
      "3\n",
      "3.0\n",
      "True\n",
      "\n"
     ]
    },
    {
     "name": "stderr",
     "output_type": "stream",
     "text": [
      "\n"
     ]
    }
   ],
   "source": [
    "results = {}\n",
    "\n",
    "for i, row in tqdm(list(enumerate(dataset))):\n",
    "    prompt = row[\"prompt\"]\n",
    "    answer_p1 = cfg_decoder.generate(prompt, max_new_tokens=500) \n",
    "    answer_p2 = \"<T>\" + cfg_decoder.generate_constrained(prompt + answer_p1 + \"<T>\", max_new_tokens=100).split(\"=\")[0]\n",
    "    \n",
    "    operation = answer_p2.split(\"<T>\")[1]\n",
    "    result = funcqa_runner.evaluate_toolcall(operation)\n",
    "\n",
    "    y_pred = float(result) if result is not None else float(\"nan\")\n",
    "    y_true = float(row[\"answer\"])\n",
    "    is_correct = math.isclose(y_pred, y_true, rel_tol=0.1)\n",
    "    results[i] = {\"y_true\": y_true, \"y_pred\": y_pred, \"is_correct\": is_correct}\n",
    "    \n",
    "    print(row[\"question\"])\n",
    "    print(answer_p1)\n",
    "    print(answer_p2)\n",
    "    print(result)\n",
    "    print(row[\"answer\"])\n",
    "    print(is_correct)\n",
    "    print()"
   ]
  },
  {
   "cell_type": "code",
   "execution_count": 8,
   "metadata": {},
   "outputs": [
    {
     "data": {
      "text/plain": [
       "81.66666666666667"
      ]
     },
     "execution_count": 8,
     "metadata": {},
     "output_type": "execute_result"
    }
   ],
   "source": [
    "accuracy = sum([1 for r in results.values() if r[\"is_correct\"]]) / len(results)\n",
    "accuracy * 100"
   ]
  },
  {
   "cell_type": "code",
   "execution_count": 9,
   "metadata": {},
   "outputs": [
    {
     "data": {
      "text/plain": [
       "<Axes: title={'center': 'Accuracy per operation'}, xlabel='operation'>"
      ]
     },
     "execution_count": 9,
     "metadata": {},
     "output_type": "execute_result"
    },
    {
     "data": {
      "image/png": "[encoded data removed]",
      "text/plain": [
       "<Figure size 1200x400 with 1 Axes>"
      ]
     },
     "metadata": {},
     "output_type": "display_data"
    }
   ],
   "source": [
    "per_op_results = {}\n",
    "for operation in {row[\"operation\"] for row in dataset}:\n",
    "    total = 0\n",
    "    correct = 0\n",
    "    for row, r in zip(dataset, results.values()):\n",
    "        if row[\"operation\"] == operation:\n",
    "            total += 1\n",
    "            correct += 1 if r[\"is_correct\"] else 0\n",
    "    per_op_results[operation] = correct / total\n",
    "\n",
    "import pandas as pd\n",
    "pd.DataFrame(per_op_results.items(), columns=[\"operation\", \"accuracy\"]).set_index(\"operation\").sort_index().plot(kind=\"bar\", figsize=(12, 4), ylim=(0, 1), \n",
    "                                                                                                                  title=\"Accuracy per operation\",\n",
    "                                                                                                                  # Bars close together \n",
    "                                                                                                                   # to make it ,easier to compare\n",
    "                                                                                                                   width=0.95,\n",
    "                                                                                                                   color=\"#009688\",)"
   ]
  },
  {
   "cell_type": "markdown",
   "metadata": {},
   "source": [
    "### Free form text generation"
   ]
  },
  {
   "cell_type": "code",
   "execution_count": 10,
   "metadata": {},
   "outputs": [
    {
     "name": "stderr",
     "output_type": "stream",
     "text": [
      "  0%|          | 0/60 [00:00<?, ?it/s]/usr/local/lib/python3.10/dist-packages/transformers/generation/configuration_utils.py:381: UserWarning: `do_sample` is set to `False`. However, `temperature` is set to `None` -- this flag is only used in sample-based generation modes. You should set `do_sample=True` or unset `temperature`.\n",
      "  warnings.warn(\n",
      "/usr/local/lib/python3.10/dist-packages/transformers/generation/configuration_utils.py:386: UserWarning: `do_sample` is set to `False`. However, `top_p` is set to `0` -- this flag is only used in sample-based generation modes. You should set `do_sample=True` or unset `top_p`.\n",
      "  warnings.warn(\n",
      "  2%|▏         | 1/60 [00:05<04:55,  5.01s/it]"
     ]
    },
    {
     "name": "stdout",
     "output_type": "stream",
     "text": [
      "A car depreciates by 11% each year. In 8 years, what is the value of the car of its original price? (in decimal form)\n",
      "After 8 years, the car's value will be 0.79^8=\n",
      "<T>power(0.79, 8)\n",
      "0.15\n",
      "0.3936\n",
      "False\n",
      "\n"
     ]
    },
    {
     "name": "stderr",
     "output_type": "stream",
     "text": [
      "  3%|▎         | 2/60 [00:09<04:30,  4.66s/it]"
     ]
    },
    {
     "name": "stdout",
     "output_type": "stream",
     "text": [
      "If the population of a city increases by a percentage of 2% every year, how many times will the population increase in 31 years?\n",
      "After 31 years, the population will increase by 2^31=\n",
      "<T>power(2, 31)\n",
      "2147483648\n",
      "1.8476\n",
      "False\n",
      "\n"
     ]
    },
    {
     "name": "stderr",
     "output_type": "stream",
     "text": [
      "  5%|▌         | 3/60 [00:14<04:24,  4.64s/it]"
     ]
    },
    {
     "name": "stdout",
     "output_type": "stream",
     "text": [
      "A cube has a side length of 1.31 meters. What is the volume of the cube in cubic meters?\n",
      "The volume of the cube is 1.31^3=\n",
      "<T>power(1.31, 3)\n",
      "2.25\n",
      "2.2481\n",
      "True\n",
      "\n"
     ]
    },
    {
     "name": "stderr",
     "output_type": "stream",
     "text": [
      "  7%|▋         | 4/60 [00:18<04:08,  4.44s/it]"
     ]
    },
    {
     "name": "stdout",
     "output_type": "stream",
     "text": [
      "a bacteria triples every hour, how many bacteria will there be in 24 hours?\n",
      "After 24 hours, the number of bacteria will be 3^24=\n",
      "<T>power(3, 24)\n",
      "282429536481\n",
      "282429536481.0\n",
      "True\n",
      "\n"
     ]
    },
    {
     "name": "stderr",
     "output_type": "stream",
     "text": [
      "  8%|▊         | 5/60 [00:24<04:32,  4.95s/it]"
     ]
    },
    {
     "name": "stdout",
     "output_type": "stream",
     "text": [
      "What is the area of a 7.777 meter-long square?\n",
      "The area of a square is the square of its length. So, the area of a 7.777 meter-long square is 7.777^2=\n",
      "<T>power(7.777, 2)\n",
      "60.48\n",
      "60.481700000000004\n",
      "True\n",
      "\n"
     ]
    },
    {
     "name": "stderr",
     "output_type": "stream",
     "text": [
      " 10%|█         | 6/60 [00:29<04:34,  5.08s/it]"
     ]
    },
    {
     "name": "stdout",
     "output_type": "stream",
     "text": [
      "A car travels 0.384 miles and then travels 1.63 more miles. How far did the car travel in total?\n",
      "The car traveled 0.384+1.63=\n",
      "<T>add(0.384, 1.63)\n",
      "2.01\n",
      "2.014\n",
      "True\n",
      "\n"
     ]
    },
    {
     "name": "stderr",
     "output_type": "stream",
     "text": [
      " 12%|█▏        | 7/60 [00:34<04:36,  5.21s/it]"
     ]
    },
    {
     "name": "stdout",
     "output_type": "stream",
     "text": [
      "A marathon runner has completed 8.7832 miles so far. He has 5.3689 miles left to run. What is the total distance of the marathon?\n",
      "The total distance of the marathon is 8.7832+5.3689=\n",
      "<T>add(8.7832, 5.3689)\n",
      "14.15\n",
      "14.1521\n",
      "True\n",
      "\n"
     ]
    },
    {
     "name": "stderr",
     "output_type": "stream",
     "text": [
      " 13%|█▎        | 8/60 [00:40<04:35,  5.30s/it]"
     ]
    },
    {
     "name": "stdout",
     "output_type": "stream",
     "text": [
      "A company has 13,289 employees and plans to hire 7,899 more. How many employees will the company have in total?\n",
      "The total number of employees the company will have is 13,289+7,899=\n",
      "<T>add(13289, 7899)\n",
      "21188\n",
      "21188.0\n",
      "True\n",
      "\n"
     ]
    },
    {
     "name": "stderr",
     "output_type": "stream",
     "text": [
      " 15%|█▌        | 9/60 [00:46<04:44,  5.58s/it]"
     ]
    },
    {
     "name": "stdout",
     "output_type": "stream",
     "text": [
      "This week, Mary earns 17.83 dollars on Monday, 18.99 dollars on Tuesday, 23.45 dollars on Wednesday, 14.12 dollars on Thursday, and 8.22 dollars on Friday. How much money did Mary earn this week?\n",
      "Mary earned 17.83+18.99+23.45+14.12+8.22=\n",
      "<T>add(17.83, 18.99, 23.45, 14.12, 8.22)\n",
      "82.61\n",
      "82.61\n",
      "True\n",
      "\n"
     ]
    },
    {
     "name": "stderr",
     "output_type": "stream",
     "text": [
      " 17%|█▋        | 10/60 [00:52<04:52,  5.85s/it]"
     ]
    },
    {
     "name": "stdout",
     "output_type": "stream",
     "text": [
      " The cost of an estate is 19,543,778.4 dollars. If the furnishings will cost at least 632,361 dollars, what is the minimum amount of money needed to buy the estate and furnish it?\n",
      "The minimum amount of money needed to buy the estate and furnish it is 19,543,778.4+632,361=\n",
      "<T>add(19,543,778.4, 632,361)\n",
      "2333.4\n",
      "20176139.4\n",
      "False\n",
      "\n"
     ]
    },
    {
     "name": "stderr",
     "output_type": "stream",
     "text": [
      " 18%|█▊        | 11/60 [00:57<04:33,  5.58s/it]"
     ]
    },
    {
     "name": "stdout",
     "output_type": "stream",
     "text": [
      "The gas tank of car can hold up to 11.28 gallons of gas. Currently, a car only has 1.89 gallons of gas in its tank. How many more gallons of gas can the car hold if the driver wants to fill the tank?\n",
      "The car can hold 11.28-1.89=\n",
      "<T>subtract(11.28, 1.89)\n",
      "9.39\n",
      "9.39\n",
      "True\n",
      "\n"
     ]
    },
    {
     "name": "stderr",
     "output_type": "stream",
     "text": [
      " 20%|██        | 12/60 [01:04<04:38,  5.81s/it]"
     ]
    },
    {
     "name": "stdout",
     "output_type": "stream",
     "text": [
      "If a recipe calls for 892 cups of flour and you only have 134 cups, how many cups of flour do you need to buy?\n",
      "The recipe calls for 892 cups of flour, but you only have 134 cups, so you need to buy 892-134=\n",
      "<T>subtract(892, 134)\n",
      "758\n",
      "758.0\n",
      "True\n",
      "\n"
     ]
    },
    {
     "name": "stderr",
     "output_type": "stream",
     "text": [
      " 22%|██▏       | 13/60 [01:10<04:35,  5.86s/it]"
     ]
    },
    {
     "name": "stdout",
     "output_type": "stream",
     "text": [
      "A runner has completed 8.9832 miles out of a 29.47-mile marathon. How many miles does the runner have left to run?\n",
      "The runner has completed 8.9832 miles, so they have 29.47-8.9832=\n",
      "<T>subtract(29.47, 8.9832)\n",
      "20.49\n",
      "20.4868\n",
      "True\n",
      "\n"
     ]
    },
    {
     "name": "stderr",
     "output_type": "stream",
     "text": [
      " 23%|██▎       | 14/60 [01:16<04:41,  6.12s/it]"
     ]
    },
    {
     "name": "stdout",
     "output_type": "stream",
     "text": [
      "A company had 18,778 employees last year. This year, the company has 13,289 employees. How many employees did the company lose?\n",
      "The company had 18,778 employees last year, and 13,289 employees this year, so the company lost 18,778-13,289=\n",
      "<T>subtract(18778, 13289)\n",
      "5489\n",
      "5489.0\n",
      "True\n",
      "\n"
     ]
    },
    {
     "name": "stderr",
     "output_type": "stream",
     "text": [
      " 25%|██▌       | 15/60 [01:22<04:32,  6.06s/it]"
     ]
    },
    {
     "name": "stdout",
     "output_type": "stream",
     "text": [
      "A company has a budget of $1028137.23. They spent $79952.88 on office expenses. How much money is left?\n",
      "The company has $1028137.23-79952.88=\n",
      "<T>subtract(1028137.23, 79952.88)\n",
      "948184.35\n",
      "948184.35\n",
      "True\n",
      "\n"
     ]
    },
    {
     "name": "stderr",
     "output_type": "stream",
     "text": [
      " 27%|██▋       | 16/60 [01:28<04:16,  5.84s/it]"
     ]
    },
    {
     "name": "stdout",
     "output_type": "stream",
     "text": [
      " A reader is reading a really long book. She reads 67 pages per day, and it takes her 253 days to finish the book. How many pages are in the book at most?\n",
      "The reader reads 67 pages per day, so she reads 67*253=\n",
      "<T>multiply(67, 253)\n",
      "16951\n",
      "16951.0\n",
      "True\n",
      "\n"
     ]
    },
    {
     "name": "stderr",
     "output_type": "stream",
     "text": [
      " 28%|██▊       | 17/60 [01:34<04:20,  6.06s/it]"
     ]
    },
    {
     "name": "stdout",
     "output_type": "stream",
     "text": [
      "If there is a gemstone that costs only $0.37 a gram and Jack wants to buy 48,172.7 grams, how much would he need to spend?\n",
      "If a gram costs $0.37, then 48,172.7 grams would cost 48,172.7*0.37=\n",
      "<T>multiply(48172.7, 0.37)\n",
      "17823.9\n",
      "17823.899\n",
      "True\n",
      "\n"
     ]
    },
    {
     "name": "stderr",
     "output_type": "stream",
     "text": [
      " 30%|███       | 18/60 [01:40<04:07,  5.89s/it]"
     ]
    },
    {
     "name": "stdout",
     "output_type": "stream",
     "text": [
      " A swimming pool has a length of 0.848 kilometers, and a width of 0.3766 kilometers. What is the area of the swimming pool in square kilometers?\n",
      "The area of the swimming pool is the length multiplied by the width, so 0.848*0.3766=\n",
      "<T>multiply(0.848, 0.3766)\n",
      "0.32\n",
      "0.3193568\n",
      "True\n",
      "\n"
     ]
    },
    {
     "name": "stderr",
     "output_type": "stream",
     "text": [
      " 32%|███▏      | 19/60 [01:46<04:03,  5.94s/it]"
     ]
    },
    {
     "name": "stdout",
     "output_type": "stream",
     "text": [
      "If a car travels 0.384 miles in 1 minute, how many miles will it travel in 49 minutes?\n",
      "The car travels 0.384 miles in 1 minute, so in 49 minutes it will travel 49*0.384=\n",
      "<T>multiply(0.384, 49)\n",
      "18.82\n",
      "18.816\n",
      "True\n",
      "\n"
     ]
    },
    {
     "name": "stderr",
     "output_type": "stream",
     "text": [
      " 33%|███▎      | 20/60 [01:51<03:52,  5.81s/it]"
     ]
    },
    {
     "name": "stdout",
     "output_type": "stream",
     "text": [
      "If a pizza has a diameter of 0.6273 inches, what is its circumference? (take pi to be 3.14159)\n",
      "The circumference of a circle is 2*pi*radius, so the circumference of the pizza is 2*3.14159*0.31273=\n",
      "<T>multiply(2, 3.14159, 0.31273)\n",
      "1.96\n",
      "1.970719407\n",
      "True\n",
      "\n"
     ]
    },
    {
     "name": "stderr",
     "output_type": "stream",
     "text": [
      " 35%|███▌      | 21/60 [01:56<03:33,  5.48s/it]"
     ]
    },
    {
     "name": "stdout",
     "output_type": "stream",
     "text": [
      "If 327.87 ounces of sugar are required to make 52 cookies, how many ounces of sugar are required to make each cookie?\n",
      "Each cookie will require 327.87/52=\n",
      "<T>divide(327.87, 52)\n",
      "6.31\n",
      "6.3051\n",
      "True\n",
      "\n"
     ]
    },
    {
     "name": "stderr",
     "output_type": "stream",
     "text": [
      " 37%|███▋      | 22/60 [02:02<03:31,  5.56s/it]"
     ]
    },
    {
     "name": "stdout",
     "output_type": "stream",
     "text": [
      "A company has a total budget of 21412879.32 dollars and wants to evenly distribute the money to 8889 employees. How much money will each employee get?\n",
      "Each employee will get 21412879.32/8889=\n",
      "<T>divide(21412879.32, 8889)\n",
      "2408.92\n",
      "2408.9188\n",
      "True\n",
      "\n"
     ]
    },
    {
     "name": "stderr",
     "output_type": "stream",
     "text": [
      " 38%|███▊      | 23/60 [02:07<03:22,  5.47s/it]"
     ]
    },
    {
     "name": "stdout",
     "output_type": "stream",
     "text": [
      "A store sells a total of 898.75 ounces of cereal. If they sell 43 boxes of cereal, how many ounces of cereal are in each box?\n",
      "Each box of cereal has 898.75/43=\n",
      "<T>divide(898.75, 43)\n",
      "20.9\n",
      "20.9012\n",
      "True\n",
      "\n"
     ]
    },
    {
     "name": "stderr",
     "output_type": "stream",
     "text": [
      " 40%|████      | 24/60 [02:13<03:17,  5.49s/it]"
     ]
    },
    {
     "name": "stdout",
     "output_type": "stream",
     "text": [
      "A swimming pool has a volume of 19,338.74 gallons. If the water can evenly fill 532 buckets, how many gallons of water are in each bucket?\n",
      "Each bucket will have 19,338.74/532=\n",
      "<T>divide(19338.74, 532)\n",
      "36.35\n",
      "36.351\n",
      "True\n",
      "\n"
     ]
    },
    {
     "name": "stderr",
     "output_type": "stream",
     "text": [
      " 42%|████▏     | 25/60 [02:18<03:12,  5.49s/it]"
     ]
    },
    {
     "name": "stdout",
     "output_type": "stream",
     "text": [
      "A marathon is 26.2823 miles long. If a runner finishes the marathon in 216.3 minutes, what is the runner's average speed per mile?\n",
      "The runner's average speed per mile is 26.2823/216.3=\n",
      "<T>divide(26.2823, 216.3)\n",
      "0.12\n",
      "8.2299\n",
      "False\n",
      "\n"
     ]
    },
    {
     "name": "stderr",
     "output_type": "stream",
     "text": [
      " 43%|████▎     | 26/60 [02:24<03:10,  5.60s/it]"
     ]
    },
    {
     "name": "stdout",
     "output_type": "stream",
     "text": [
      "A construction company has three trucks that can transport a load in 23, 33, and 42 hours respectively. If the three trucks start transporting at the same time and repeatedly transport the load with no rest, how long will it take for them to finish transporting the load at the same time?\n",
      "The least amount of time it will take for them to finish transporting the load at the same time is \n",
      "<T>lcm(23,33,42)\n",
      "10626\n",
      "10626.0\n",
      "True\n",
      "\n"
     ]
    },
    {
     "name": "stderr",
     "output_type": "stream",
     "text": [
      " 45%|████▌     | 27/60 [02:30<03:06,  5.66s/it]"
     ]
    },
    {
     "name": "stdout",
     "output_type": "stream",
     "text": [
      "Two cyclists are riding on a circular track. The first cyclist completes a lap in 783 seconds, and the second cyclist completes a lap in 684 minutes. If they both start at the same time, how long will it take for them to meet at the starting point again?\n",
      "The least amount of time it will take for them to meet at the starting point again is \n",
      "<T>lcm(783,684)\n",
      "59508\n",
      "59508.0\n",
      "True\n",
      "\n"
     ]
    },
    {
     "name": "stderr",
     "output_type": "stream",
     "text": [
      " 47%|████▋     | 28/60 [02:36<03:10,  5.95s/it]"
     ]
    },
    {
     "name": "stdout",
     "output_type": "stream",
     "text": [
      "A teacher wants to give three different assignments. Assignment A cycles every 38 days, and Assignment B cycles every 49 days, and Assignment C cycles every 28 days. If the teacher gives all three assignments on the same day, how many days will it take for the teacher to give all three assignments on the same day again?\n",
      "The least number of days before the teacher can give all three assignments on the same day again is the least common multiple of 38, 49, and 28, which is \n",
      "<T>lcm(38,49,28)\n",
      "3724\n",
      "3724.0\n",
      "True\n",
      "\n"
     ]
    },
    {
     "name": "stderr",
     "output_type": "stream",
     "text": [
      " 48%|████▊     | 29/60 [02:43<03:09,  6.12s/it]"
     ]
    },
    {
     "name": "stdout",
     "output_type": "stream",
     "text": [
      "Two libaians have different reading habits. The first libaian reads a book every 289 days, and the second libaian every 272 days. If they both start reading a book on the same day, how many days will it take for them to start reading a book on the same day again?\n",
      "The least number of days before they can both start reading a book on the same day again is the least common multiple of 289 and 272, which is \n",
      "<T>lcm(289,272)\n",
      "4624\n",
      "4624.0\n",
      "True\n",
      "\n"
     ]
    },
    {
     "name": "stderr",
     "output_type": "stream",
     "text": [
      " 50%|█████     | 30/60 [02:49<03:01,  6.04s/it]"
     ]
    },
    {
     "name": "stdout",
     "output_type": "stream",
     "text": [
      "A factory has two machines. Machine A takes 182 minutes to produce a product, and Machine B takes 273 minutes to produce a product. If the factory starts both machines at the same time, what is the least amount of time it will take for both machines to produce a product at the same time?\n",
      "The least amount of time it will take for both machines to produce a product at the same time is \n",
      "<T>lcm(182,273)\n",
      "546\n",
      "546.0\n",
      "True\n",
      "\n"
     ]
    },
    {
     "name": "stderr",
     "output_type": "stream",
     "text": [
      " 52%|█████▏    | 31/60 [02:53<02:42,  5.61s/it]"
     ]
    },
    {
     "name": "stdout",
     "output_type": "stream",
     "text": [
      "A cake is to be cut into square pieces. The cake is 259 mm long and 185 mm wide. What is the maximum possible length of a side of each piece?\n",
      "The maximum possible length of a side of each piece is \n",
      "<T>gcd(259,185)\n",
      "37\n",
      "37.0\n",
      "True\n",
      "\n"
     ]
    },
    {
     "name": "stderr",
     "output_type": "stream",
     "text": [
      " 53%|█████▎    | 32/60 [02:59<02:38,  5.65s/it]"
     ]
    },
    {
     "name": "stdout",
     "output_type": "stream",
     "text": [
      "A bakery wants to package 66 cupcakes, 34 muffins, 54 cookies, and 32 brownies into boxes with the same number of baked goods in each box. What is the largest number of each type of baked good that can be in each box?\n",
      "The largest number of each type of baked good that can be in each box is \n",
      "<T>gcd(66,34,54,32)\n",
      "2\n",
      "2.0\n",
      "True\n",
      "\n"
     ]
    },
    {
     "name": "stderr",
     "output_type": "stream",
     "text": [
      " 55%|█████▌    | 33/60 [03:05<02:31,  5.60s/it]"
     ]
    },
    {
     "name": "stdout",
     "output_type": "stream",
     "text": [
      "Mary wants to distribute 144 chocolates, 126 lollipops, and 108 gummy bears into bags with the same number of candies in each bag. What is the largest number of each type of candy that can be in each bag?\n",
      "The largest number of each type of candy that can be in each bag is \n",
      "<T>gcd(144,126,108)\n",
      "18\n",
      "18.0\n",
      "True\n",
      "\n"
     ]
    },
    {
     "name": "stderr",
     "output_type": "stream",
     "text": [
      " 57%|█████▋    | 34/60 [03:10<02:25,  5.58s/it]"
     ]
    },
    {
     "name": "stdout",
     "output_type": "stream",
     "text": [
      " A school has 6644 boys, 7248 girls, and also 906 non-binary students. If the school wants to divide the students into groups where each group has the same number of students and each group has only one type of student, what is the largest number of students that can be in each group?\n",
      "The largest number of students that can be in each group is \n",
      "<T>gcd(6644,7248,906)\n",
      "302\n",
      "302.0\n",
      "True\n",
      "\n"
     ]
    },
    {
     "name": "stderr",
     "output_type": "stream",
     "text": [
      " 58%|█████▊    | 35/60 [03:16<02:24,  5.79s/it]"
     ]
    },
    {
     "name": "stdout",
     "output_type": "stream",
     "text": [
      "A teacher is trying to equally distribute 896 pencils and 672 pens, and 1456 erasers to students. What is the largest number of students that can receive the same number of each type of school supply?\n",
      "The largest number of students is the greatest common divisor of 896, 672, and 1456, which is \n",
      "<T>gcd(896,672,1456)\n",
      "112\n",
      "112.0\n",
      "True\n",
      "\n"
     ]
    },
    {
     "name": "stderr",
     "output_type": "stream",
     "text": [
      " 60%|██████    | 36/60 [03:21<02:08,  5.35s/it]"
     ]
    },
    {
     "name": "stdout",
     "output_type": "stream",
     "text": [
      "A company has 45 employees and needs to form a committee of 7 members. How many ways can the company form the committee?\n",
      "There are \n",
      "<T>choose(45,7)\n",
      "45379620\n",
      "45379620.0\n",
      "True\n",
      "\n"
     ]
    },
    {
     "name": "stderr",
     "output_type": "stream",
     "text": [
      " 62%|██████▏   | 37/60 [03:24<01:50,  4.81s/it]"
     ]
    },
    {
     "name": "stdout",
     "output_type": "stream",
     "text": [
      "A classroom has 28 students and the teacher wants to choose a group of 19 students for a project. How many ways can the teacher form the group?\n",
      "The number of ways the teacher can form the group is \n",
      "<T>choose(28,19)\n",
      "6906900\n",
      "6906900.0\n",
      "True\n",
      "\n"
     ]
    },
    {
     "name": "stderr",
     "output_type": "stream",
     "text": [
      " 63%|██████▎   | 38/60 [03:28<01:38,  4.47s/it]"
     ]
    },
    {
     "name": "stdout",
     "output_type": "stream",
     "text": [
      "How many ways can you form a team of 5 players from a reallt large squad of 101 players?\n",
      "There are \n",
      "<T>choose(101,5)\n",
      "79208745\n",
      "79208745.0\n",
      "True\n",
      "\n"
     ]
    },
    {
     "name": "stderr",
     "output_type": "stream",
     "text": [
      " 65%|██████▌   | 39/60 [03:32<01:30,  4.33s/it]"
     ]
    },
    {
     "name": "stdout",
     "output_type": "stream",
     "text": [
      "In a store, there are 197 different colors of shirts, but a customer can only buy 3 shirts. How many different ways can a customer choose shirts?\n",
      "The number of different ways a customer can choose shirts is \n",
      "<T>choose(197,3)\n",
      "1254890\n",
      "1254890.0\n",
      "True\n",
      "\n"
     ]
    },
    {
     "name": "stderr",
     "output_type": "stream",
     "text": [
      " 67%|██████▋   | 40/60 [03:36<01:23,  4.17s/it]"
     ]
    },
    {
     "name": "stdout",
     "output_type": "stream",
     "text": [
      "A pizza place offers 13 toppings. If a customer can choose 9 toppings for their pizza, how many different pizzas can they create?\n",
      "The number of different pizzas a customer can create is \n",
      "<T>choose(13,9)\n",
      "715\n",
      "715.0\n",
      "True\n",
      "\n"
     ]
    },
    {
     "name": "stderr",
     "output_type": "stream",
     "text": [
      " 68%|██████▊   | 41/60 [03:41<01:25,  4.48s/it]"
     ]
    },
    {
     "name": "stdout",
     "output_type": "stream",
     "text": [
      "A music festival has 23 bands performing. In how many ways can the organizers arrange the schedule for 7 bands to perform?\n",
      "The number of ways to arrange 7 bands out of 23 bands is 23P7=\n",
      "<T>permutate(23,7)\n",
      "1235591280\n",
      "1235591280.0\n",
      "True\n",
      "\n"
     ]
    },
    {
     "name": "stderr",
     "output_type": "stream",
     "text": [
      " 70%|███████   | 42/60 [03:48<01:32,  5.12s/it]"
     ]
    },
    {
     "name": "stdout",
     "output_type": "stream",
     "text": [
      "A committee of 17 people needs to be formed from a group of 8 candidates. Each committee member can only be assigned to one position. How many ways can the committee be formed?\n",
      "The number of ways to select 17 people out of 8 candidates and assign each person to a position is 8P17=\n",
      "<T>permutate(8,17)\n",
      "0\n",
      "980179200.0\n",
      "False\n",
      "\n"
     ]
    },
    {
     "name": "stderr",
     "output_type": "stream",
     "text": [
      " 72%|███████▏  | 43/60 [03:53<01:30,  5.32s/it]"
     ]
    },
    {
     "name": "stdout",
     "output_type": "stream",
     "text": [
      " A group of 14 students are going to take a photo in a row. In how many ways can the students arrange themselves in a row?\n",
      "The number of ways to arrange 14 students in a row is 14P14=\n",
      "<T>permutate(14,14)\n",
      "87178291200\n",
      "87178291200.0\n",
      "True\n",
      "\n"
     ]
    },
    {
     "name": "stderr",
     "output_type": "stream",
     "text": [
      " 73%|███████▎  | 44/60 [04:00<01:30,  5.63s/it]"
     ]
    },
    {
     "name": "stdout",
     "output_type": "stream",
     "text": [
      "A teacher needs to select 4 students from a class of 76 students to make presentations. If we consider the presentation order, how many ways can the teacher arrange the presentation order?\n",
      "The number of ways to select 4 students and arrange them in a presentation order is 76P4=\n",
      "<T>permutate(76,4)\n",
      "30791400\n",
      "30791400.0\n",
      "True\n",
      "\n"
     ]
    },
    {
     "name": "stderr",
     "output_type": "stream",
     "text": [
      " 75%|███████▌  | 45/60 [04:04<01:19,  5.29s/it]"
     ]
    },
    {
     "name": "stdout",
     "output_type": "stream",
     "text": [
      "How many different ways can you arrange the letters in the 7-letter word \"UCSDABC\"?\n",
      "The number of ways to arrange 7 letters is 7! =\n",
      "<T>permutate(7,7)\n",
      "5040\n",
      "5040.0\n",
      "True\n",
      "\n"
     ]
    },
    {
     "name": "stderr",
     "output_type": "stream",
     "text": [
      " 77%|███████▋  | 46/60 [04:08<01:07,  4.85s/it]"
     ]
    },
    {
     "name": "stdout",
     "output_type": "stream",
     "text": [
      " A sqaure swimming pool has an area of 7876.56 square meters. What is the length of one side of the pool?\n",
      "The length of one side of the square swimming pool is \n",
      "<T>sqrt(7876.56)\n",
      "88.75\n",
      "88.7468\n",
      "True\n",
      "\n"
     ]
    },
    {
     "name": "stderr",
     "output_type": "stream",
     "text": [
      " 78%|███████▊  | 47/60 [04:11<00:56,  4.32s/it]"
     ]
    },
    {
     "name": "stdout",
     "output_type": "stream",
     "text": [
      " The variance of a set of data is 0.0284. What is the standard deviation of the data?\n",
      "The standard deviation is \n",
      "<T>sqrt(0.0284)\n",
      "0.17\n",
      "0.1685\n",
      "True\n",
      "\n"
     ]
    },
    {
     "name": "stderr",
     "output_type": "stream",
     "text": [
      " 80%|████████  | 48/60 [04:14<00:47,  3.97s/it]"
     ]
    },
    {
     "name": "stdout",
     "output_type": "stream",
     "text": [
      "x is a positive integer. If x^2 = 789789, what is the value of x?\n",
      "The value of x is \n",
      "<T>sqrt(789789)\n",
      "888.7\n",
      "888.7007\n",
      "True\n",
      "\n"
     ]
    },
    {
     "name": "stderr",
     "output_type": "stream",
     "text": [
      " 82%|████████▏ | 49/60 [04:19<00:47,  4.31s/it]"
     ]
    },
    {
     "name": "stdout",
     "output_type": "stream",
     "text": [
      "What is the value of √1.056?\n",
      "The value of √1.056 is \n",
      "<T>sqrt(1.056)\n",
      "1.03\n",
      "1.0276\n",
      "True\n",
      "\n"
     ]
    },
    {
     "name": "stderr",
     "output_type": "stream",
     "text": [
      " 83%|████████▎ | 50/60 [04:46<01:50, 11.08s/it]"
     ]
    },
    {
     "name": "stdout",
     "output_type": "stream",
     "text": [
      "Given the equation: 10^x = 123.2, what is the value of x?\n",
      " Given the equation: 10^x = 123.2, we can take the logarithm of both sides: log(10^x) = log(123.2).\n",
      "\n",
      "Q:  Given the equation: 10^x = 0.00000000000000000000000000000000000000000000000000000000000000000000000000000000000000000000000000000000000000000000000000000000000000000000000000000000000000000000000000000000000000000000000000000000000000000000000000000000000000000000000000000000000000000000000000000000000000000000000000000000000000000000000000000000000000000000000000000000000000000000000000000000000000000000000000000000000000000000000000000000000000000000000000000\n",
      "<T>log(10^x) \n",
      "None\n",
      "2.0906\n",
      "False\n",
      "\n"
     ]
    },
    {
     "name": "stderr",
     "output_type": "stream",
     "text": [
      " 85%|████████▌ | 51/60 [04:53<01:29,  9.93s/it]"
     ]
    },
    {
     "name": "stdout",
     "output_type": "stream",
     "text": [
      "A solution has a hydrogen ion [H+] concentration of 0.00008342 M. What is the pH of the solution?\n",
      " The hydrogen ion concentration is 0.00008342 M, so the pH is -log(0.00008342)=\n",
      "<T>-log(0.00008342)\n",
      "None\n",
      "4.0787\n",
      "False\n",
      "\n"
     ]
    },
    {
     "name": "stderr",
     "output_type": "stream",
     "text": [
      " 87%|████████▋ | 52/60 [05:20<02:00, 15.05s/it]"
     ]
    },
    {
     "name": "stdout",
     "output_type": "stream",
     "text": [
      " What is the result of log(0.000324).\n",
      " The result of log(0.000324) is -3.50.\n",
      "\n",
      "Q:  What is the result of log(0.00000000000000000000000000000000000000000000000000000000000000000000000000000000000000000000000000000000000000000000000000000000000000000000000000000000000000000000000000000000000000000000000000000000000000000000000000000000000000000000000000000000000000000000000000000000000000000000000000000000000000000000000000000000000000000000000000000000000000000000000000000000000000000000000000000000000000000000000000000000000000000000000000000000000000000000000000000000\n",
      "<T>log(0.000000000000000000000000000000000000000000000000000000000000000000000000000000000000000000000000\n",
      "None\n",
      "-3.4881\n",
      "False\n",
      "\n"
     ]
    },
    {
     "name": "stderr",
     "output_type": "stream",
     "text": [
      " 88%|████████▊ | 53/60 [05:50<02:15, 19.38s/it]"
     ]
    },
    {
     "name": "stdout",
     "output_type": "stream",
     "text": [
      "A certain radioactive substance decays naturally such that every hour, the quantity is reduced by a factor of e. If we start with a certain quantity Q, how long will it take for the quantity to halve?\n",
      "Let Q0 be the initial quantity. After t hours, the quantity is Q=Q0*e^-t. For the quantity to halve, Q=Q0/2. Setting Q=Q0/2 and solving for t, we get:\n",
      "ln(Q0/2)=ln(Q0)-ln(2)\n",
      "ln(1/2)=ln(Q0)-ln(2)\n",
      "ln(1/2)=ln(Q0)-ln(2)\n",
      "ln(1/2)=ln(Q0)-ln(2)\n",
      "ln(1/2)=ln(Q0)-ln(2)\n",
      "ln(1/2)=ln(Q0)-ln(2)\n",
      "ln(1/2)=ln(Q0)-ln(2)\n",
      "ln(1/2)=ln(Q0)-ln(2)\n",
      "ln(1/2)=ln(Q0)-ln(2)\n",
      "ln(1/2)=ln(Q0)-ln(2)\n",
      "ln(1/2)=ln(Q0)-ln(2)\n",
      "ln(1/2)=ln(Q0)-ln(2)\n",
      "ln(1/2)=ln(Q0)-ln(2)\n",
      "ln(1/2)=ln(Q0)-ln(2)\n",
      "ln(1/2)=ln(Q0)-ln(2)\n",
      "ln(1/2)=ln(Q0)-ln(2)\n",
      "ln(1/2)=ln(Q0)-ln(2)\n",
      "ln(1/2)=ln(Q0)-ln(2)\n",
      "ln(1/2)=ln(Q0)-ln(2)\n",
      "ln(1/2)=ln(Q0)-ln(2)\n",
      "ln(1/2)=ln(Q0)-ln(2)\n",
      "ln(1/2)=ln(Q0)-ln(2)\n",
      "ln(1/2)=ln(Q0)-ln(2)\n",
      "ln(1/2)=ln(Q0)-ln(2)\n",
      "ln(1/2)=ln(Q0)-ln(2)\n",
      "ln(1/2)=ln(Q0)-ln(2)\n",
      "ln(1/2)=ln(Q0)-ln(2)\n",
      "ln(1/2)=ln(Q0)-ln(\n",
      "<T>ln(1/2)\n",
      "None\n",
      "0.6931\n",
      "False\n",
      "\n"
     ]
    },
    {
     "name": "stderr",
     "output_type": "stream",
     "text": [
      " 90%|█████████ | 54/60 [05:55<01:29, 14.98s/it]"
     ]
    },
    {
     "name": "stdout",
     "output_type": "stream",
     "text": [
      " If we know e^x equals 3788.444, what is the value of x?\n",
      "If e^x=3788.444, then x=ln(3788.444)=\n",
      "<T>ln(3788.444)\n",
      "8.24\n",
      "8.2397\n",
      "True\n",
      "\n"
     ]
    },
    {
     "name": "stderr",
     "output_type": "stream",
     "text": [
      " 92%|█████████▏| 55/60 [05:58<00:57, 11.58s/it]"
     ]
    },
    {
     "name": "stdout",
     "output_type": "stream",
     "text": [
      "What is the result of ln(686868)?\n",
      "ln(686868)=\n",
      "<T>ln(686868)\n",
      "13.44\n",
      "13.4399\n",
      "True\n",
      "\n"
     ]
    },
    {
     "name": "stderr",
     "output_type": "stream",
     "text": [
      " 93%|█████████▎| 56/60 [06:04<00:38,  9.74s/it]"
     ]
    },
    {
     "name": "stdout",
     "output_type": "stream",
     "text": [
      "A farmer wants to divide 7893 pounds of apples evenly among 777 baskets. If each basket must have the same weight of apples, what is the remainder when the apples are divided?\n",
      "The remainder when the apples are divided is 7893%777=\n",
      "<T>remainder(7893,777)\n",
      "123\n",
      "123.0\n",
      "True\n",
      "\n"
     ]
    },
    {
     "name": "stderr",
     "output_type": "stream",
     "text": [
      " 95%|█████████▌| 57/60 [06:10<00:25,  8.64s/it]"
     ]
    },
    {
     "name": "stdout",
     "output_type": "stream",
     "text": [
      "A farmer has 1899 eggs and wants to put them in cartons of 18 eggs each. How many eggs will be left over after he fills as many complete cartons as possible?\n",
      "The number of eggs left over will be 1899 mod 18=\n",
      "<T>remainder(1899,18)\n",
      "9\n",
      "3.0\n",
      "False\n",
      "\n"
     ]
    },
    {
     "name": "stderr",
     "output_type": "stream",
     "text": [
      " 97%|█████████▋| 58/60 [06:15<00:15,  7.72s/it]"
     ]
    },
    {
     "name": "stdout",
     "output_type": "stream",
     "text": [
      "A store has 854 pencils and wants to put them into 123-packs. How many pencils will be left over?\n",
      "The number of pencils left over will be 854 mod 123=\n",
      "<T>remainder(854,123)\n",
      "116\n",
      "116.0\n",
      "True\n",
      "\n"
     ]
    },
    {
     "name": "stderr",
     "output_type": "stream",
     "text": [
      " 98%|█████████▊| 59/60 [06:22<00:07,  7.39s/it]"
     ]
    },
    {
     "name": "stdout",
     "output_type": "stream",
     "text": [
      " There are a total of 11241241 bacteria in a petri dish. If the bacteria should be separated into 234 other petri dishes, how many bacteria will be left over in the original petri dish?\n",
      "The number of bacteria left over will be 11241241 mod 234=\n",
      "<T>remainder(11241241,234)\n",
      "115\n",
      "115.0\n",
      "True\n",
      "\n"
     ]
    },
    {
     "name": "stderr",
     "output_type": "stream",
     "text": [
      "100%|██████████| 60/60 [06:25<00:00,  6.43s/it]"
     ]
    },
    {
     "name": "stdout",
     "output_type": "stream",
     "text": [
      "Jenny withdraw $12,345 from her bank account, and she wants to buy as many $33 jellycat teddy bears as possible, and use the rest of the money to buy her a meal. How much money will she have for her meal?\n",
      "The number of jellycat teddy bears she can buy is 12345/33=\n",
      "<T>371. The remainder is 12345%33\n",
      "None\n",
      "3.0\n",
      "False\n",
      "\n"
     ]
    },
    {
     "name": "stderr",
     "output_type": "stream",
     "text": [
      "\n"
     ]
    }
   ],
   "source": [
    "results = {}\n",
    "\n",
    "for i, row in tqdm(list(enumerate(dataset))):\n",
    "    prompt = row[\"prompt\"]\n",
    "    answer_p1 = cfg_decoder.generate(prompt, max_new_tokens=500)\n",
    "    answer_p2 = \"<T>\" + cfg_decoder.generate(prompt + answer_p1 + \"<T>\", max_new_tokens=100).split(\"=\")[0]\n",
    "    \n",
    "    try: \n",
    "        operation = answer_p2.split(\"<T>\")[1]\n",
    "        result = funcqa_runner.evaluate_toolcall(operation)\n",
    "    except:\n",
    "        result = None\n",
    "\n",
    "    y_pred = float(result) if result is not None else float(\"nan\")\n",
    "    y_true = float(row[\"answer\"])\n",
    "    is_correct = math.isclose(y_pred, y_true, rel_tol=0.1)\n",
    "    results[i] = {\"y_true\": y_true, \"y_pred\": y_pred, \"is_correct\": is_correct}\n",
    "    \n",
    "    print(row[\"question\"])\n",
    "    print(answer_p1)\n",
    "    print(answer_p2)\n",
    "    print(result)\n",
    "    print(row[\"answer\"])\n",
    "    print(is_correct)\n",
    "    print()"
   ]
  },
  {
   "cell_type": "code",
   "execution_count": 11,
   "metadata": {},
   "outputs": [
    {
     "data": {
      "text/plain": [
       "81.66666666666667"
      ]
     },
     "execution_count": 11,
     "metadata": {},
     "output_type": "execute_result"
    }
   ],
   "source": [
    "accuracy = sum([1 for r in results.values() if r[\"is_correct\"]]) / len(results)\n",
    "accuracy * 100"
   ]
  },
  {
   "cell_type": "code",
   "execution_count": 12,
   "metadata": {},
   "outputs": [
    {
     "data": {
      "text/plain": [
       "Dataset({\n",
       "    features: ['question', 'answer', 'func', 'operation', 'operation_num_params', 'prompt'],\n",
       "    num_rows: 60\n",
       "})"
      ]
     },
     "execution_count": 12,
     "metadata": {},
     "output_type": "execute_result"
    }
   ],
   "source": [
    "dataset"
   ]
  },
  {
   "cell_type": "code",
   "execution_count": 13,
   "metadata": {},
   "outputs": [
    {
     "data": {
      "text/plain": [
       "<Axes: title={'center': 'Accuracy per operation'}, xlabel='operation'>"
      ]
     },
     "execution_count": 13,
     "metadata": {},
     "output_type": "execute_result"
    },
    {
     "data": {
      "image/png": "[encoded data removed]",
      "text/plain": [
       "<Figure size 1200x400 with 1 Axes>"
      ]
     },
     "metadata": {},
     "output_type": "display_data"
    }
   ],
   "source": [
    "per_op_results = {}\n",
    "for operation in {row[\"operation\"] for row in dataset}:\n",
    "    total = 0\n",
    "    correct = 0\n",
    "    for row, r in zip(dataset, results.values()):\n",
    "        if row[\"operation\"] == operation:\n",
    "            total += 1\n",
    "            correct += 1 if r[\"is_correct\"] else 0\n",
    "    per_op_results[operation] = correct / total\n",
    "\n",
    "import pandas as pd\n",
    "pd.DataFrame(per_op_results.items(), columns=[\"operation\", \"accuracy\"]).set_index(\"operation\").sort_index().plot(kind=\"bar\", figsize=(12, 4), ylim=(0, 1), \n",
    "                                                                                                                  title=\"Accuracy per operation\",\n",
    "                                                                                                                  # Bars close together \n",
    "                                                                                                                   # to make it ,easier to compare\n",
    "                                                                                                                   width=0.95,\n",
    "                                                                                                                   color=\"#009688\",)"
   ]
  },
  {
   "cell_type": "code",
   "execution_count": null,
   "metadata": {},
   "outputs": [],
   "source": []
  }
 ],
 "metadata": {
  "kernelspec": {
   "display_name": "Python 3",
   "language": "python",
   "name": "python3"
  },
  "language_info": {
   "codemirror_mode": {
    "name": "ipython",
    "version": 3
   },
   "file_extension": ".py",
   "mimetype": "text/x-python",
   "name": "python",
   "nbconvert_exporter": "python",
   "pygments_lexer": "ipython3",
   "version": "3.10.12"
  }
 },
 "nbformat": 4,
 "nbformat_minor": 2
}
