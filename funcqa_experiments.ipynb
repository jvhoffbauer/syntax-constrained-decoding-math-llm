{
 "cells": [
  {
   "cell_type": "code",
   "execution_count": 1,
   "metadata": {},
   "outputs": [],
   "source": [
    "import os \n",
    "os.environ[\"CUDA_VISIBLE_DEVICES\"] = \"0,1\""
   ]
  },
  {
   "cell_type": "code",
   "execution_count": 2,
   "metadata": {},
   "outputs": [
    {
     "name": "stderr",
     "output_type": "stream",
     "text": [
      "/usr/local/lib/python3.10/dist-packages/tqdm/auto.py:21: TqdmWarning: IProgress not found. Please update jupyter and ipywidgets. See https://ipywidgets.readthedocs.io/en/stable/user_install.html\n",
      "  from .autonotebook import tqdm as notebook_tqdm\n"
     ]
    }
   ],
   "source": [
    "import toolmode.cfg_decoding as cfg_decoding\n",
    "import toolmode.data.funcqa as funcqa\n",
    "import toolmode.data.funcqa.runner as funcqa_runner"
   ]
  },
  {
   "cell_type": "code",
   "execution_count": 3,
   "metadata": {},
   "outputs": [
    {
     "name": "stderr",
     "output_type": "stream",
     "text": [
      "Saving the dataset (1/1 shards): 100%|██████████| 60/60 [00:00<00:00, 17603.40 examples/s]\n"
     ]
    },
    {
     "data": {
      "text/plain": [
       "Dataset({\n",
       "    features: ['question', 'answer', 'func', 'operation', 'operation_num_params', 'prompt'],\n",
       "    num_rows: 20\n",
       "})"
      ]
     },
     "execution_count": 3,
     "metadata": {},
     "output_type": "execute_result"
    }
   ],
   "source": [
    "dataset = funcqa.load()\n",
    "dataset"
   ]
  },
  {
   "cell_type": "code",
   "execution_count": 4,
   "metadata": {},
   "outputs": [
    {
     "data": {
      "text/plain": [
       "{'question': 'A car travels 0.384 miles and then travels 1.63 more miles. How far did the car travel in total?',\n",
       " 'answer': 2.014,\n",
       " 'func': '<T>add(0.384, 1.63)=2.014',\n",
       " 'operation': 'add',\n",
       " 'operation_num_params': 2,\n",
       " 'prompt': 'Answer the following question with the operator add:\\n\\nQ: A store sells 311 apples and 112 oranges. How many fruits are sold in total?\\nA: The total number of fruits sold by the store is 311+112=<T>add(311, 112)=423.\\n\\nQ: A bakery made 201 loaves of bread in the morning and 31 in the afternoon. How many loaves of bread did they make in total?\\nA: The total number of loaves of bread made is 201+31=<T>add(201, 31)=232.\\n\\nQ: A car traveled 118.01 miles in the morning and 451.96 miles in the afternoon. How many miles did the car travel in total?\\nA: The car traveled 118.01+451.96=<T>add(118.01, 451.96)=569.97 miles in total.\\n\\nQ: A store sells 277 apples, 209 oranges, and 72 bananas. How many fruits are sold in total?\\nA: The total number of fruits sold by the store is 277+209+72=<T>add(277, 209, 72)=558.\\n\\nQ: A car travels 0.384 miles and then travels 1.63 more miles. How far did the car travel in total?\\nA:'}"
      ]
     },
     "execution_count": 4,
     "metadata": {},
     "output_type": "execute_result"
    }
   ],
   "source": [
    "dataset[0]"
   ]
  },
  {
   "cell_type": "code",
   "execution_count": 5,
   "metadata": {},
   "outputs": [
    {
     "name": "stdout",
     "output_type": "stream",
     "text": [
      "Answer the following question with the operator add:\n",
      "\n",
      "Q: A store sells 311 apples and 112 oranges. How many fruits are sold in total?\n",
      "A: The total number of fruits sold by the store is 311+112=<T>add(311, 112)=423.\n",
      "\n",
      "Q: A bakery made 201 loaves of bread in the morning and 31 in the afternoon. How many loaves of bread did they make in total?\n",
      "A: The total number of loaves of bread made is 201+31=<T>add(201, 31)=232.\n",
      "\n",
      "Q: A car traveled 118.01 miles in the morning and 451.96 miles in the afternoon. How many miles did the car travel in total?\n",
      "A: The car traveled 118.01+451.96=<T>add(118.01, 451.96)=569.97 miles in total.\n",
      "\n",
      "Q: A store sells 277 apples, 209 oranges, and 72 bananas. How many fruits are sold in total?\n",
      "A: The total number of fruits sold by the store is 277+209+72=<T>add(277, 209, 72)=558.\n",
      "\n",
      "Q: A car travels 0.384 miles and then travels 1.63 more miles. How far did the car travel in total?\n",
      "A:\n"
     ]
    }
   ],
   "source": [
    "print(dataset[0][\"prompt\"])"
   ]
  },
  {
   "cell_type": "code",
   "execution_count": 6,
   "metadata": {},
   "outputs": [
    {
     "name": "stderr",
     "output_type": "stream",
     "text": [
      "Loading checkpoint shards: 100%|██████████| 2/2 [00:05<00:00,  2.73s/it]\n"
     ]
    }
   ],
   "source": [
    "MODEL_NAME = \"meta-llama/Llama-2-7b-chat-hf\"\n",
    "cfg_decoder = cfg_decoding.CfgDecoder(MODEL_NAME, device_map=\"cuda:0\")"
   ]
  },
  {
   "cell_type": "code",
   "execution_count": 7,
   "metadata": {},
   "outputs": [
    {
     "name": "stderr",
     "output_type": "stream",
     "text": [
      "/usr/local/lib/python3.10/dist-packages/transformers/generation/configuration_utils.py:381: UserWarning: `do_sample` is set to `False`. However, `temperature` is set to `None` -- this flag is only used in sample-based generation modes. You should set `do_sample=True` or unset `temperature`.\n",
      "  warnings.warn(\n",
      "/usr/local/lib/python3.10/dist-packages/transformers/generation/configuration_utils.py:386: UserWarning: `do_sample` is set to `False`. However, `top_p` is set to `0` -- this flag is only used in sample-based generation modes. You should set `do_sample=True` or unset `top_p`.\n",
      "  warnings.warn(\n",
      "/usr/local/lib/python3.10/dist-packages/bitsandbytes/nn/modules.py:226: UserWarning: Input type into Linear4bit is torch.float16, but bnb_4bit_compute_type=torch.float32 (default). This will lead to slow inference or training speed.\n",
      "  warnings.warn(f'Input type into Linear4bit is torch.float16, but bnb_4bit_compute_type=torch.float32 (default). This will lead to slow inference or training speed.')\n",
      "2023-11-30 19:04:32.161571: E external/local_xla/xla/stream_executor/cuda/cuda_dnn.cc:9261] Unable to register cuDNN factory: Attempting to register factory for plugin cuDNN when one has already been registered\n",
      "2023-11-30 19:04:32.161650: E external/local_xla/xla/stream_executor/cuda/cuda_fft.cc:607] Unable to register cuFFT factory: Attempting to register factory for plugin cuFFT when one has already been registered\n",
      "2023-11-30 19:04:32.164225: E external/local_xla/xla/stream_executor/cuda/cuda_blas.cc:1515] Unable to register cuBLAS factory: Attempting to register factory for plugin cuBLAS when one has already been registered\n",
      "2023-11-30 19:04:32.177379: I tensorflow/core/platform/cpu_feature_guard.cc:182] This TensorFlow binary is optimized to use available CPU instructions in performance-critical operations.\n",
      "To enable the following instructions: AVX2 FMA, in other operations, rebuild TensorFlow with the appropriate compiler flags.\n",
      "2023-11-30 19:04:33.328279: W tensorflow/compiler/tf2tensorrt/utils/py_utils.cc:38] TF-TRT Warning: Could not find TensorRT\n"
     ]
    },
    {
     "data": {
      "text/plain": [
       "'The car traveled 0.384+1.63='"
      ]
     },
     "execution_count": 7,
     "metadata": {},
     "output_type": "execute_result"
    }
   ],
   "source": [
    "answer_p1 = cfg_decoder.generate(dataset[0][\"prompt\"], max_new_tokens=500)\n",
    "answer_p1"
   ]
  },
  {
   "cell_type": "code",
   "execution_count": 8,
   "metadata": {},
   "outputs": [
    {
     "name": "stderr",
     "output_type": "stream",
     "text": [
      "/usr/local/lib/python3.10/dist-packages/transformers/generation/configuration_utils.py:381: UserWarning: `do_sample` is set to `False`. However, `temperature` is set to `None` -- this flag is only used in sample-based generation modes. You should set `do_sample=True` or unset `temperature`.\n",
      "  warnings.warn(\n",
      "/usr/local/lib/python3.10/dist-packages/transformers/generation/configuration_utils.py:386: UserWarning: `do_sample` is set to `False`. However, `top_p` is set to `0` -- this flag is only used in sample-based generation modes. You should set `do_sample=True` or unset `top_p`.\n",
      "  warnings.warn(\n"
     ]
    },
    {
     "data": {
      "text/plain": [
       "'<T>add(0.384,1.63)'"
      ]
     },
     "execution_count": 8,
     "metadata": {},
     "output_type": "execute_result"
    }
   ],
   "source": [
    "cfg_decoder.generate_constrained(dataset[0][\"prompt\"] + answer_p1, max_new_tokens=100)"
   ]
  },
  {
   "cell_type": "code",
   "execution_count": null,
   "metadata": {},
   "outputs": [],
   "source": []
  }
 ],
 "metadata": {
  "kernelspec": {
   "display_name": "Python 3",
   "language": "python",
   "name": "python3"
  },
  "language_info": {
   "codemirror_mode": {
    "name": "ipython",
    "version": 3
   },
   "file_extension": ".py",
   "mimetype": "text/x-python",
   "name": "python",
   "nbconvert_exporter": "python",
   "pygments_lexer": "ipython3",
   "version": "3.10.12"
  }
 },
 "nbformat": 4,
 "nbformat_minor": 2
}
