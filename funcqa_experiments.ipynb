{
 "cells": [
  {
   "cell_type": "code",
   "execution_count": 28,
   "metadata": {},
   "outputs": [],
   "source": [
    "import os \n",
    "os.environ[\"CUDA_VISIBLE_DEVICES\"] = \"0,1\""
   ]
  },
  {
   "cell_type": "code",
   "execution_count": 29,
   "metadata": {},
   "outputs": [],
   "source": [
    "import math\n",
    "from tqdm import tqdm\n",
    "import toolmode.cfg_decoding as cfg_decoding\n",
    "import toolmode.data.funcqa as funcqa\n",
    "import toolmode.data.funcqa.runner as funcqa_runner"
   ]
  },
  {
   "cell_type": "code",
   "execution_count": 30,
   "metadata": {},
   "outputs": [
    {
     "name": "stderr",
     "output_type": "stream",
     "text": [
      "Saving the dataset (1/1 shards): 100%|██████████| 60/60 [00:00<00:00, 21833.96 examples/s]\n"
     ]
    },
    {
     "data": {
      "text/plain": [
       "Dataset({\n",
       "    features: ['question', 'answer', 'func', 'operation', 'operation_num_params', 'prompt'],\n",
       "    num_rows: 20\n",
       "})"
      ]
     },
     "execution_count": 30,
     "metadata": {},
     "output_type": "execute_result"
    }
   ],
   "source": [
    "dataset = funcqa.load()\n",
    "dataset"
   ]
  },
  {
   "cell_type": "code",
   "execution_count": 31,
   "metadata": {},
   "outputs": [
    {
     "data": {
      "text/plain": [
       "{'question': 'A car travels 0.384 miles and then travels 1.63 more miles. How far did the car travel in total?',\n",
       " 'answer': 2.014,\n",
       " 'func': '<T>add(0.384, 1.63)=2.014',\n",
       " 'operation': 'add',\n",
       " 'operation_num_params': 2,\n",
       " 'prompt': 'Answer the following question with the operator add:\\n\\nQ: A store sells 311 apples and 112 oranges. How many fruits are sold in total?\\nA: The total number of fruits sold by the store is 311+112=<T>add(311, 112)=423.\\n\\nQ: A bakery made 201 loaves of bread in the morning and 31 in the afternoon. How many loaves of bread did they make in total?\\nA: The total number of loaves of bread made is 201+31=<T>add(201, 31)=232.\\n\\nQ: A car traveled 118.01 miles in the morning and 451.96 miles in the afternoon. How many miles did the car travel in total?\\nA: The car traveled 118.01+451.96=<T>add(118.01, 451.96)=569.97 miles in total.\\n\\nQ: A store sells 277 apples, 209 oranges, and 72 bananas. How many fruits are sold in total?\\nA: The total number of fruits sold by the store is 277+209+72=<T>add(277, 209, 72)=558.\\n\\nQ: A car travels 0.384 miles and then travels 1.63 more miles. How far did the car travel in total?\\nA:'}"
      ]
     },
     "execution_count": 31,
     "metadata": {},
     "output_type": "execute_result"
    }
   ],
   "source": [
    "dataset[0]"
   ]
  },
  {
   "cell_type": "code",
   "execution_count": 32,
   "metadata": {},
   "outputs": [
    {
     "name": "stdout",
     "output_type": "stream",
     "text": [
      "Answer the following question with the operator add:\n",
      "\n",
      "Q: A store sells 311 apples and 112 oranges. How many fruits are sold in total?\n",
      "A: The total number of fruits sold by the store is 311+112=<T>add(311, 112)=423.\n",
      "\n",
      "Q: A bakery made 201 loaves of bread in the morning and 31 in the afternoon. How many loaves of bread did they make in total?\n",
      "A: The total number of loaves of bread made is 201+31=<T>add(201, 31)=232.\n",
      "\n",
      "Q: A car traveled 118.01 miles in the morning and 451.96 miles in the afternoon. How many miles did the car travel in total?\n",
      "A: The car traveled 118.01+451.96=<T>add(118.01, 451.96)=569.97 miles in total.\n",
      "\n",
      "Q: A store sells 277 apples, 209 oranges, and 72 bananas. How many fruits are sold in total?\n",
      "A: The total number of fruits sold by the store is 277+209+72=<T>add(277, 209, 72)=558.\n",
      "\n",
      "Q: A car travels 0.384 miles and then travels 1.63 more miles. How far did the car travel in total?\n",
      "A:\n"
     ]
    }
   ],
   "source": [
    "print(dataset[0][\"prompt\"])"
   ]
  },
  {
   "cell_type": "code",
   "execution_count": 33,
   "metadata": {},
   "outputs": [
    {
     "name": "stderr",
     "output_type": "stream",
     "text": [
      "Loading checkpoint shards: 100%|██████████| 3/3 [00:03<00:00,  1.33s/it]\n"
     ]
    }
   ],
   "source": [
    "MODEL_NAME = \"meta-llama/Llama-2-13b-chat-hf\"\n",
    "cfg_decoder = cfg_decoding.CfgDecoder(MODEL_NAME, device_map=\"cuda:0\")"
   ]
  },
  {
   "cell_type": "code",
   "execution_count": 34,
   "metadata": {},
   "outputs": [
    {
     "name": "stderr",
     "output_type": "stream",
     "text": [
      "  0%|          | 0/20 [00:00<?, ?it/s]/usr/local/lib/python3.10/dist-packages/transformers/generation/configuration_utils.py:381: UserWarning: `do_sample` is set to `False`. However, `temperature` is set to `None` -- this flag is only used in sample-based generation modes. You should set `do_sample=True` or unset `temperature`.\n",
      "  warnings.warn(\n",
      "/usr/local/lib/python3.10/dist-packages/transformers/generation/configuration_utils.py:386: UserWarning: `do_sample` is set to `False`. However, `top_p` is set to `0` -- this flag is only used in sample-based generation modes. You should set `do_sample=True` or unset `top_p`.\n",
      "  warnings.warn(\n",
      "/usr/local/lib/python3.10/dist-packages/transformers/generation/configuration_utils.py:381: UserWarning: `do_sample` is set to `False`. However, `temperature` is set to `None` -- this flag is only used in sample-based generation modes. You should set `do_sample=True` or unset `temperature`.\n",
      "  warnings.warn(\n",
      "/usr/local/lib/python3.10/dist-packages/transformers/generation/configuration_utils.py:386: UserWarning: `do_sample` is set to `False`. However, `top_p` is set to `0` -- this flag is only used in sample-based generation modes. You should set `do_sample=True` or unset `top_p`.\n",
      "  warnings.warn(\n",
      "  5%|▌         | 1/20 [00:08<02:43,  8.63s/it]"
     ]
    },
    {
     "name": "stdout",
     "output_type": "stream",
     "text": [
      "A car travels 0.384 miles and then travels 1.63 more miles. How far did the car travel in total?\n",
      "The car traveled 0.384+1.63=\n",
      "<T>add(0.384,1.63)\n",
      "2.01\n",
      "2.014\n",
      "True\n",
      "\n"
     ]
    },
    {
     "name": "stderr",
     "output_type": "stream",
     "text": [
      " 10%|█         | 2/20 [00:17<02:41,  8.96s/it]"
     ]
    },
    {
     "name": "stdout",
     "output_type": "stream",
     "text": [
      "A marathon runner has completed 8.7832 miles so far. He has 5.3689 miles left to run. What is the total distance of the marathon?\n",
      "The total distance of the marathon is 8.7832+5.3689=\n",
      "<T>add(8.7832,5.3689)\n",
      "14.15\n",
      "14.1521\n",
      "True\n",
      "\n"
     ]
    },
    {
     "name": "stderr",
     "output_type": "stream",
     "text": [
      " 15%|█▌        | 3/20 [00:27<02:34,  9.10s/it]"
     ]
    },
    {
     "name": "stdout",
     "output_type": "stream",
     "text": [
      "A company has 13,289 employees and plans to hire 7,899 more. How many employees will the company have in total?\n",
      "The total number of employees the company will have is 13,289+7,899=\n",
      "<T>add(13,289,7,899)\n",
      "1208\n",
      "21188.0\n",
      "False\n",
      "\n"
     ]
    },
    {
     "name": "stderr",
     "output_type": "stream",
     "text": [
      " 20%|██        | 4/20 [00:38<02:37,  9.83s/it]"
     ]
    },
    {
     "name": "stdout",
     "output_type": "stream",
     "text": [
      "This week, Mary earns 17.83 dollars on Monday, 18.99 dollars on Tuesday, 23.45 dollars on Wednesday, 14.12 dollars on Thursday, and 8.22 dollars on Friday. How much money did Mary earn this week?\n",
      "The total amount of money Mary earned this week is 17.83+18.99+23.45+14.12+8.22=\n",
      "<T>add(17.83,18.99,23.45,14.12,8.22)\n",
      "82.61\n",
      "82.61\n",
      "True\n",
      "\n"
     ]
    },
    {
     "name": "stderr",
     "output_type": "stream",
     "text": [
      " 25%|██▌       | 5/20 [00:48<02:31, 10.12s/it]"
     ]
    },
    {
     "name": "stdout",
     "output_type": "stream",
     "text": [
      " The cost of an estate is 19,543,778.4 dollars. If the furnishings will cost at least 632,361 dollars, what is the minimum amount of money needed to buy the estate and furnish it?\n",
      "The minimum amount of money needed to buy the estate and furnish it is 19,543,778.4+632,361=\n",
      "<T>add(19,543,778.4,632,361.40)\n",
      "2333.8\n",
      "20176139.4\n",
      "False\n",
      "\n"
     ]
    },
    {
     "name": "stderr",
     "output_type": "stream",
     "text": [
      " 30%|███       | 6/20 [00:57<02:15,  9.70s/it]"
     ]
    },
    {
     "name": "stdout",
     "output_type": "stream",
     "text": [
      "The gas tank of car can hold up to 11.28 gallons of gas. Currently, a car only has 1.89 gallons of gas in its tank. How many more gallons of gas can the car hold if the driver wants to fill the tank?\n",
      "The car can hold 11.28-1.89=\n",
      "<T>subtract(11.28,1.89)\n",
      "9.39\n",
      "9.39\n",
      "True\n",
      "\n"
     ]
    },
    {
     "name": "stderr",
     "output_type": "stream",
     "text": [
      " 35%|███▌      | 7/20 [01:06<02:01,  9.35s/it]"
     ]
    },
    {
     "name": "stdout",
     "output_type": "stream",
     "text": [
      "If a recipe calls for 892 cups of flour and you only have 134 cups, how many cups of flour do you need to buy?\n",
      "You need 892-134=\n",
      "<T>subtract(892,134)\n",
      "758\n",
      "758.0\n",
      "True\n",
      "\n"
     ]
    },
    {
     "name": "stderr",
     "output_type": "stream",
     "text": [
      " 40%|████      | 8/20 [01:15<01:51,  9.26s/it]"
     ]
    },
    {
     "name": "stdout",
     "output_type": "stream",
     "text": [
      "A runner has completed 8.9832 miles out of a 29.47-mile marathon. How many miles does the runner have left to run?\n",
      "The runner has 29.47-8.9832=\n",
      "<T>subtract(29.47,8.9832)\n",
      "20.49\n",
      "20.4868\n",
      "True\n",
      "\n"
     ]
    },
    {
     "name": "stderr",
     "output_type": "stream",
     "text": [
      " 45%|████▌     | 9/20 [01:25<01:46,  9.68s/it]"
     ]
    },
    {
     "name": "stdout",
     "output_type": "stream",
     "text": [
      "A company had 18,778 employees last year. This year, the company has 13,289 employees. How many employees did the company lose?\n",
      "The company had 18,778 employees last year and now has 13,289 employees, so the company lost 18,778-13,289=\n",
      "<T>subtract(18,778,13,289)\n",
      "-1062\n",
      "5489.0\n",
      "False\n",
      "\n"
     ]
    },
    {
     "name": "stderr",
     "output_type": "stream",
     "text": [
      " 50%|█████     | 10/20 [01:37<01:42, 10.21s/it]"
     ]
    },
    {
     "name": "stdout",
     "output_type": "stream",
     "text": [
      "A company has a budget of $1028137.23. They spent $79952.88 on office expenses. How much money is left?\n",
      "The company has $1028137.23, and they spent $79952.88, so now they have $1028137.23-79952.88=\n",
      "<T>subtract(1028137.23,79952.88)\n",
      "948184.35\n",
      "948184.35\n",
      "True\n",
      "\n"
     ]
    },
    {
     "name": "stderr",
     "output_type": "stream",
     "text": [
      " 55%|█████▌    | 11/20 [01:46<01:28,  9.81s/it]"
     ]
    },
    {
     "name": "stdout",
     "output_type": "stream",
     "text": [
      " A reader is reading a really long book. She reads 67 pages per day, and it takes her 253 days to finish the book. How many pages are in the book at most?\n",
      "The reader reads 67 pages per day, so she reads 67*253=\n",
      "<T>multiply(67,253)\n",
      "16951\n",
      "16951.0\n",
      "True\n",
      "\n"
     ]
    },
    {
     "name": "stderr",
     "output_type": "stream",
     "text": [
      " 60%|██████    | 12/20 [01:55<01:18,  9.81s/it]"
     ]
    },
    {
     "name": "stdout",
     "output_type": "stream",
     "text": [
      "If there is a gemstone that costs only $0.37 a gram and Jack wants to buy 48,172.7 grams, how much would he need to spend?\n",
      "The gemstone costs $0.37 per gram, so Jack would need to spend 48172.7*0.37=\n",
      "<T>multiply(48172.7,0.37)\n",
      "17823.9\n",
      "17823.899\n",
      "True\n",
      "\n"
     ]
    },
    {
     "name": "stderr",
     "output_type": "stream",
     "text": [
      " 65%|██████▌   | 13/20 [02:05<01:07,  9.62s/it]"
     ]
    },
    {
     "name": "stdout",
     "output_type": "stream",
     "text": [
      " A swimming pool has a length of 0.848 kilometers, and a width of 0.3766 kilometers. What is the area of the swimming pool in square kilometers?\n",
      "The area of the swimming pool is 0.848*0.3766=\n",
      "<T>multiply(0.848,0.3766)\n",
      "0.32\n",
      "0.3193568\n",
      "True\n",
      "\n"
     ]
    },
    {
     "name": "stderr",
     "output_type": "stream",
     "text": [
      " 70%|███████   | 14/20 [02:13<00:55,  9.31s/it]"
     ]
    },
    {
     "name": "stdout",
     "output_type": "stream",
     "text": [
      "If a car travels 0.384 miles in 1 minute, how many miles will it travel in 49 minutes?\n",
      "The car travels 0.384*49=\n",
      "<T>multiply(0.384,49)\n",
      "18.82\n",
      "18.816\n",
      "True\n",
      "\n"
     ]
    },
    {
     "name": "stderr",
     "output_type": "stream",
     "text": [
      " 75%|███████▌  | 15/20 [02:24<00:48,  9.67s/it]"
     ]
    },
    {
     "name": "stdout",
     "output_type": "stream",
     "text": [
      "If a pizza has a diameter of 0.6273 inches, what is its circumference? (take pi to be 3.14159)\n",
      "The circumference of a circle with diameter 0.6273 inches is given by C=2*pi*d=2*3.14159*0.6273=\n",
      "<T>multiply(2,3.14159,0.6273)\n",
      "3.94\n",
      "1.970719407\n",
      "False\n",
      "\n"
     ]
    },
    {
     "name": "stderr",
     "output_type": "stream",
     "text": [
      " 80%|████████  | 16/20 [02:33<00:37,  9.41s/it]"
     ]
    },
    {
     "name": "stdout",
     "output_type": "stream",
     "text": [
      "If 327.87 ounces of sugar are required to make 52 cookies, how many ounces of sugar are required to make each cookie?\n",
      "Each cookie requires 327.87/52=\n",
      "<T>divide(327.87,52)\n",
      "6.31\n",
      "6.3051\n",
      "True\n",
      "\n"
     ]
    },
    {
     "name": "stderr",
     "output_type": "stream",
     "text": [
      " 85%|████████▌ | 17/20 [02:42<00:28,  9.50s/it]"
     ]
    },
    {
     "name": "stdout",
     "output_type": "stream",
     "text": [
      "A company has a total budget of 21412879.32 dollars and wants to evenly distribute the money to 8889 employees. How much money will each employee get?\n",
      "Each employee will get 21412879.32/8889=\n",
      "<T>divide(21412879.32,8889)\n",
      "2408.92\n",
      "2408.9188\n",
      "True\n",
      "\n"
     ]
    },
    {
     "name": "stderr",
     "output_type": "stream",
     "text": [
      " 90%|█████████ | 18/20 [02:51<00:18,  9.35s/it]"
     ]
    },
    {
     "name": "stdout",
     "output_type": "stream",
     "text": [
      "A store sells a total of 898.75 ounces of cereal. If they sell 43 boxes of cereal, how many ounces of cereal are in each box?\n",
      "Each box of cereal contains 898.75/43=\n",
      "<T>divide(898.75,43)\n",
      "20.9\n",
      "20.9012\n",
      "True\n",
      "\n"
     ]
    },
    {
     "name": "stderr",
     "output_type": "stream",
     "text": [
      " 95%|█████████▌| 19/20 [03:01<00:09,  9.36s/it]"
     ]
    },
    {
     "name": "stdout",
     "output_type": "stream",
     "text": [
      "A swimming pool has a volume of 19,338.74 gallons. If the water can evenly fill 532 buckets, how many gallons of water are in each bucket?\n",
      "The water in each bucket is 19,338.74/532=\n",
      "<T>divide(19,338.74,532)\n",
      "0.00011\n",
      "36.351\n",
      "False\n",
      "\n"
     ]
    },
    {
     "name": "stderr",
     "output_type": "stream",
     "text": [
      "100%|██████████| 20/20 [03:10<00:00,  9.53s/it]"
     ]
    },
    {
     "name": "stdout",
     "output_type": "stream",
     "text": [
      "A marathon is 26.2823 miles long. If a runner finishes the marathon in 216.3 minutes, what is the runner's average speed per mile?\n",
      "The runner's average speed per mile is 216.3/26.2823=\n",
      "<T>divide(216.3,26.2823)\n",
      "8.23\n",
      "8.2299\n",
      "True\n",
      "\n"
     ]
    },
    {
     "name": "stderr",
     "output_type": "stream",
     "text": [
      "\n"
     ]
    }
   ],
   "source": [
    "results = {}\n",
    "\n",
    "for i, row in tqdm(list(enumerate(dataset))):\n",
    "    prompt = row[\"prompt\"]\n",
    "    answer_p1 = cfg_decoder.generate(prompt, max_new_tokens=500)\n",
    "    answer_p2 = cfg_decoder.generate_constrained(prompt + answer_p1, max_new_tokens=100)\n",
    "    \n",
    "    operation = answer_p2.split(\"<T>\")[1]\n",
    "    result = funcqa_runner.evaluate_toolcall(operation)\n",
    "\n",
    "    y_pred = float(result) if result is not None else float(\"nan\")\n",
    "    y_true = float(row[\"answer\"])\n",
    "    is_correct = math.isclose(y_pred, y_true, rel_tol=0.1)\n",
    "    results[i] = {\"y_true\": y_true, \"y_pred\": y_pred, \"is_correct\": is_correct}\n",
    "    \n",
    "    print(row[\"question\"])\n",
    "    print(answer_p1)\n",
    "    print(answer_p2)\n",
    "    print(result)\n",
    "    print(row[\"answer\"])\n",
    "    print(is_correct)\n",
    "    print()"
   ]
  },
  {
   "cell_type": "code",
   "execution_count": 35,
   "metadata": {},
   "outputs": [
    {
     "data": {
      "text/plain": [
       "75.0"
      ]
     },
     "execution_count": 35,
     "metadata": {},
     "output_type": "execute_result"
    }
   ],
   "source": [
    "accuracy = sum([1 for r in results.values() if r[\"is_correct\"]]) / len(results)\n",
    "accuracy * 100"
   ]
  },
  {
   "cell_type": "code",
   "execution_count": 36,
   "metadata": {},
   "outputs": [
    {
     "name": "stderr",
     "output_type": "stream",
     "text": [
      "  5%|▌         | 1/20 [00:03<01:03,  3.32s/it]"
     ]
    },
    {
     "name": "stdout",
     "output_type": "stream",
     "text": [
      "A car travels 0.384 miles and then travels 1.63 more miles. How far did the car travel in total?\n",
      "The car traveled 0.384+1.63=\n",
      "<T>add(0.384, 1.63)\n",
      "2.01\n",
      "2.014\n",
      "True\n",
      "\n"
     ]
    },
    {
     "name": "stderr",
     "output_type": "stream",
     "text": [
      " 10%|█         | 2/20 [00:07<01:05,  3.64s/it]"
     ]
    },
    {
     "name": "stdout",
     "output_type": "stream",
     "text": [
      "A marathon runner has completed 8.7832 miles so far. He has 5.3689 miles left to run. What is the total distance of the marathon?\n",
      "The total distance of the marathon is 8.7832+5.3689=\n",
      "<T>add(8.7832, 5.3689)\n",
      "14.15\n",
      "14.1521\n",
      "True\n",
      "\n"
     ]
    },
    {
     "name": "stderr",
     "output_type": "stream",
     "text": [
      " 15%|█▌        | 3/20 [00:10<01:02,  3.66s/it]"
     ]
    },
    {
     "name": "stdout",
     "output_type": "stream",
     "text": [
      "A company has 13,289 employees and plans to hire 7,899 more. How many employees will the company have in total?\n",
      "The total number of employees the company will have is 13,289+7,899=\n",
      "<T>add(13,289, 7,899)\n",
      "1208\n",
      "21188.0\n",
      "False\n",
      "\n"
     ]
    },
    {
     "name": "stderr",
     "output_type": "stream",
     "text": [
      " 20%|██        | 4/20 [00:16<01:09,  4.36s/it]"
     ]
    },
    {
     "name": "stdout",
     "output_type": "stream",
     "text": [
      "This week, Mary earns 17.83 dollars on Monday, 18.99 dollars on Tuesday, 23.45 dollars on Wednesday, 14.12 dollars on Thursday, and 8.22 dollars on Friday. How much money did Mary earn this week?\n",
      "The total amount of money Mary earned this week is 17.83+18.99+23.45+14.12+8.22=\n",
      "<T>add(17.83, 18.99, 23.45, 14.12, 8.22)\n",
      "82.61\n",
      "82.61\n",
      "True\n",
      "\n"
     ]
    },
    {
     "name": "stderr",
     "output_type": "stream",
     "text": [
      " 25%|██▌       | 5/20 [00:21<01:08,  4.60s/it]"
     ]
    },
    {
     "name": "stdout",
     "output_type": "stream",
     "text": [
      " The cost of an estate is 19,543,778.4 dollars. If the furnishings will cost at least 632,361 dollars, what is the minimum amount of money needed to buy the estate and furnish it?\n",
      "The minimum amount of money needed to buy the estate and furnish it is 19,543,778.4+632,361=\n",
      "<T>add(19,543,778.4, 632,361)\n",
      "2333.4\n",
      "20176139.4\n",
      "False\n",
      "\n"
     ]
    },
    {
     "name": "stderr",
     "output_type": "stream",
     "text": [
      " 30%|███       | 6/20 [00:24<00:59,  4.25s/it]"
     ]
    },
    {
     "name": "stdout",
     "output_type": "stream",
     "text": [
      "The gas tank of car can hold up to 11.28 gallons of gas. Currently, a car only has 1.89 gallons of gas in its tank. How many more gallons of gas can the car hold if the driver wants to fill the tank?\n",
      "The car can hold 11.28-1.89=\n",
      "<T>subtract(11.28, 1.89)\n",
      "9.39\n",
      "9.39\n",
      "True\n",
      "\n"
     ]
    },
    {
     "name": "stderr",
     "output_type": "stream",
     "text": [
      " 35%|███▌      | 7/20 [00:31<01:05,  5.04s/it]"
     ]
    },
    {
     "name": "stdout",
     "output_type": "stream",
     "text": [
      "If a recipe calls for 892 cups of flour and you only have 134 cups, how many cups of flour do you need to buy?\n",
      "You need 892-134=\n",
      "<T>subtract(892, 134)\n",
      "758\n",
      "758.0\n",
      "True\n",
      "\n"
     ]
    },
    {
     "name": "stderr",
     "output_type": "stream",
     "text": [
      " 40%|████      | 8/20 [00:37<01:05,  5.47s/it]"
     ]
    },
    {
     "name": "stdout",
     "output_type": "stream",
     "text": [
      "A runner has completed 8.9832 miles out of a 29.47-mile marathon. How many miles does the runner have left to run?\n",
      "The runner has 29.47-8.9832=\n",
      "<T>subtract(29.47, 8.9832)\n",
      "20.49\n",
      "20.4868\n",
      "True\n",
      "\n"
     ]
    },
    {
     "name": "stderr",
     "output_type": "stream",
     "text": [
      " 45%|████▌     | 9/20 [00:46<01:09,  6.34s/it]"
     ]
    },
    {
     "name": "stdout",
     "output_type": "stream",
     "text": [
      "A company had 18,778 employees last year. This year, the company has 13,289 employees. How many employees did the company lose?\n",
      "The company had 18,778 employees last year and now has 13,289 employees, so the company lost 18,778-13,289=\n",
      "<T>subtract(18,778, 13,289)\n",
      "-1062\n",
      "5489.0\n",
      "False\n",
      "\n"
     ]
    },
    {
     "name": "stderr",
     "output_type": "stream",
     "text": [
      " 50%|█████     | 10/20 [00:54<01:10,  7.05s/it]"
     ]
    },
    {
     "name": "stdout",
     "output_type": "stream",
     "text": [
      "A company has a budget of $1028137.23. They spent $79952.88 on office expenses. How much money is left?\n",
      "The company has $1028137.23, and they spent $79952.88, so now they have $1028137.23-79952.88=\n",
      "<T>subtract(1028137.23, 79952.88)\n",
      "948184.35\n",
      "948184.35\n",
      "True\n",
      "\n"
     ]
    },
    {
     "name": "stderr",
     "output_type": "stream",
     "text": [
      " 55%|█████▌    | 11/20 [00:58<00:53,  5.97s/it]"
     ]
    },
    {
     "name": "stdout",
     "output_type": "stream",
     "text": [
      " A reader is reading a really long book. She reads 67 pages per day, and it takes her 253 days to finish the book. How many pages are in the book at most?\n",
      "The reader reads 67 pages per day, so she reads 67*253=\n",
      "<T>multiply(67, 253)\n",
      "16951\n",
      "16951.0\n",
      "True\n",
      "\n"
     ]
    },
    {
     "name": "stderr",
     "output_type": "stream",
     "text": [
      " 60%|██████    | 12/20 [01:05<00:51,  6.42s/it]"
     ]
    },
    {
     "name": "stdout",
     "output_type": "stream",
     "text": [
      "If there is a gemstone that costs only $0.37 a gram and Jack wants to buy 48,172.7 grams, how much would he need to spend?\n",
      "The gemstone costs $0.37 per gram, so Jack would need to spend 48172.7*0.37=\n",
      "<T>multiply(48172.7, 0.37)\n",
      "17823.9\n",
      "17823.899\n",
      "True\n",
      "\n"
     ]
    },
    {
     "name": "stderr",
     "output_type": "stream",
     "text": [
      " 65%|██████▌   | 13/20 [01:12<00:46,  6.64s/it]"
     ]
    },
    {
     "name": "stdout",
     "output_type": "stream",
     "text": [
      " A swimming pool has a length of 0.848 kilometers, and a width of 0.3766 kilometers. What is the area of the swimming pool in square kilometers?\n",
      "The area of the swimming pool is 0.848*0.3766=\n",
      "<T>multiply(0.848, 0.3766)\n",
      "0.32\n",
      "0.3193568\n",
      "True\n",
      "\n"
     ]
    },
    {
     "name": "stderr",
     "output_type": "stream",
     "text": [
      " 70%|███████   | 14/20 [01:16<00:34,  5.68s/it]"
     ]
    },
    {
     "name": "stdout",
     "output_type": "stream",
     "text": [
      "If a car travels 0.384 miles in 1 minute, how many miles will it travel in 49 minutes?\n",
      "The car travels 0.384*49=\n",
      "<T>multiply(0.384, 49)\n",
      "18.82\n",
      "18.816\n",
      "True\n",
      "\n"
     ]
    },
    {
     "name": "stderr",
     "output_type": "stream",
     "text": [
      " 75%|███████▌  | 15/20 [01:23<00:31,  6.25s/it]"
     ]
    },
    {
     "name": "stdout",
     "output_type": "stream",
     "text": [
      "If a pizza has a diameter of 0.6273 inches, what is its circumference? (take pi to be 3.14159)\n",
      "The circumference of a circle with diameter 0.6273 inches is given by C=2*pi*d=2*3.14159*0.6273=\n",
      "<T>multiply(2, 3.14159, 0.6273)\n",
      "3.94\n",
      "1.970719407\n",
      "False\n",
      "\n"
     ]
    },
    {
     "name": "stderr",
     "output_type": "stream",
     "text": [
      " 80%|████████  | 16/20 [01:27<00:21,  5.40s/it]"
     ]
    },
    {
     "name": "stdout",
     "output_type": "stream",
     "text": [
      "If 327.87 ounces of sugar are required to make 52 cookies, how many ounces of sugar are required to make each cookie?\n",
      "Each cookie requires 327.87/52=\n",
      "<T>divide(327.87, 52)\n",
      "6.31\n",
      "6.3051\n",
      "True\n",
      "\n"
     ]
    },
    {
     "name": "stderr",
     "output_type": "stream",
     "text": [
      " 85%|████████▌ | 17/20 [01:31<00:14,  4.98s/it]"
     ]
    },
    {
     "name": "stdout",
     "output_type": "stream",
     "text": [
      "A company has a total budget of 21412879.32 dollars and wants to evenly distribute the money to 8889 employees. How much money will each employee get?\n",
      "Each employee will get 21412879.32/8889=\n",
      "<T>divide(21412879.32, 8889)\n",
      "2408.92\n",
      "2408.9188\n",
      "True\n",
      "\n"
     ]
    },
    {
     "name": "stderr",
     "output_type": "stream",
     "text": [
      " 90%|█████████ | 18/20 [01:35<00:09,  4.63s/it]"
     ]
    },
    {
     "name": "stdout",
     "output_type": "stream",
     "text": [
      "A store sells a total of 898.75 ounces of cereal. If they sell 43 boxes of cereal, how many ounces of cereal are in each box?\n",
      "Each box of cereal contains 898.75/43=\n",
      "<T>divide(898.75, 43)\n",
      "20.9\n",
      "20.9012\n",
      "True\n",
      "\n"
     ]
    },
    {
     "name": "stderr",
     "output_type": "stream",
     "text": [
      " 95%|█████████▌| 19/20 [01:42<00:05,  5.35s/it]"
     ]
    },
    {
     "name": "stdout",
     "output_type": "stream",
     "text": [
      "A swimming pool has a volume of 19,338.74 gallons. If the water can evenly fill 532 buckets, how many gallons of water are in each bucket?\n",
      "The water in each bucket is 19,338.74/532=\n",
      "<T>divide(19,338.74, 532)\n",
      "0.00011\n",
      "36.351\n",
      "False\n",
      "\n"
     ]
    },
    {
     "name": "stderr",
     "output_type": "stream",
     "text": [
      "100%|██████████| 20/20 [01:46<00:00,  5.31s/it]"
     ]
    },
    {
     "name": "stdout",
     "output_type": "stream",
     "text": [
      "A marathon is 26.2823 miles long. If a runner finishes the marathon in 216.3 minutes, what is the runner's average speed per mile?\n",
      "The runner's average speed per mile is 216.3/26.2823=\n",
      "<T>divide(216.3, 26.2823)\n",
      "8.23\n",
      "8.2299\n",
      "True\n",
      "\n"
     ]
    },
    {
     "name": "stderr",
     "output_type": "stream",
     "text": [
      "\n"
     ]
    }
   ],
   "source": [
    "results = {}\n",
    "\n",
    "for i, row in tqdm(list(enumerate(dataset))):\n",
    "    prompt = row[\"prompt\"]\n",
    "    answer_p1 = cfg_decoder.generate(prompt, max_new_tokens=500)\n",
    "    answer_p2 = \"<T>\" + cfg_decoder.generate(prompt + answer_p1 + \"<T>\", max_new_tokens=100).split(\"=\")[0]\n",
    "    \n",
    "    try: \n",
    "        operation = answer_p2.split(\"<T>\")[1]\n",
    "        result = funcqa_runner.evaluate_toolcall(operation)\n",
    "    except:\n",
    "        result = None\n",
    "\n",
    "    y_pred = float(result) if result is not None else float(\"nan\")\n",
    "    y_true = float(row[\"answer\"])\n",
    "    is_correct = math.isclose(y_pred, y_true, rel_tol=0.1)\n",
    "    results[i] = {\"y_true\": y_true, \"y_pred\": y_pred, \"is_correct\": is_correct}\n",
    "    \n",
    "    print(row[\"question\"])\n",
    "    print(answer_p1)\n",
    "    print(answer_p2)\n",
    "    print(result)\n",
    "    print(row[\"answer\"])\n",
    "    print(is_correct)\n",
    "    print()"
   ]
  },
  {
   "cell_type": "code",
   "execution_count": 38,
   "metadata": {},
   "outputs": [
    {
     "data": {
      "text/plain": [
       "75.0"
      ]
     },
     "execution_count": 38,
     "metadata": {},
     "output_type": "execute_result"
    }
   ],
   "source": [
    "accuracy = sum([1 for r in results.values() if r[\"is_correct\"]]) / len(results)\n",
    "accuracy * 100"
   ]
  },
  {
   "cell_type": "code",
   "execution_count": null,
   "metadata": {},
   "outputs": [],
   "source": []
  }
 ],
 "metadata": {
  "kernelspec": {
   "display_name": "Python 3",
   "language": "python",
   "name": "python3"
  },
  "language_info": {
   "codemirror_mode": {
    "name": "ipython",
    "version": 3
   },
   "file_extension": ".py",
   "mimetype": "text/x-python",
   "name": "python",
   "nbconvert_exporter": "python",
   "pygments_lexer": "ipython3",
   "version": "3.10.12"
  }
 },
 "nbformat": 4,
 "nbformat_minor": 2
}
