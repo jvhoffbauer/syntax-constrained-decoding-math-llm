{
 "cells": [
  {
   "cell_type": "code",
   "execution_count": 1,
   "metadata": {},
   "outputs": [],
   "source": [
    "import os \n",
    "os.environ[\"CUDA_VISIBLE_DEVICES\"] = \"0,1\""
   ]
  },
  {
   "cell_type": "code",
   "execution_count": 2,
   "metadata": {},
   "outputs": [
    {
     "name": "stderr",
     "output_type": "stream",
     "text": [
      "/usr/local/lib/python3.10/dist-packages/tqdm/auto.py:21: TqdmWarning: IProgress not found. Please update jupyter and ipywidgets. See https://ipywidgets.readthedocs.io/en/stable/user_install.html\n",
      "  from .autonotebook import tqdm as notebook_tqdm\n"
     ]
    }
   ],
   "source": [
    "import math\n",
    "from tqdm import tqdm\n",
    "import toolmode.cfg_decoding as cfg_decoding\n",
    "import toolmode.data.funcqa as funcqa\n",
    "import toolmode.data.funcqa.runner as funcqa_runner"
   ]
  },
  {
   "cell_type": "code",
   "execution_count": 3,
   "metadata": {},
   "outputs": [
    {
     "name": "stderr",
     "output_type": "stream",
     "text": [
      "Saving the dataset (1/1 shards): 100%|██████████| 60/60 [00:00<00:00, 16674.94 examples/s]\n"
     ]
    },
    {
     "data": {
      "text/plain": [
       "Dataset({\n",
       "    features: ['question', 'answer', 'func', 'operation', 'operation_num_params', 'prompt'],\n",
       "    num_rows: 20\n",
       "})"
      ]
     },
     "execution_count": 3,
     "metadata": {},
     "output_type": "execute_result"
    }
   ],
   "source": [
    "dataset = funcqa.load()\n",
    "dataset"
   ]
  },
  {
   "cell_type": "code",
   "execution_count": 4,
   "metadata": {},
   "outputs": [
    {
     "data": {
      "text/plain": [
       "{'question': 'A car travels 0.384 miles and then travels 1.63 more miles. How far did the car travel in total?',\n",
       " 'answer': 2.014,\n",
       " 'func': '<T>add(0.384, 1.63)=2.014',\n",
       " 'operation': 'add',\n",
       " 'operation_num_params': 2,\n",
       " 'prompt': 'Answer the following question with the operator add:\\n\\nQ: A store sells 311 apples and 112 oranges. How many fruits are sold in total?\\nA: The total number of fruits sold by the store is 311+112=<T>add(311, 112)=423.\\n\\nQ: A bakery made 201 loaves of bread in the morning and 31 in the afternoon. How many loaves of bread did they make in total?\\nA: The total number of loaves of bread made is 201+31=<T>add(201, 31)=232.\\n\\nQ: A car traveled 118.01 miles in the morning and 451.96 miles in the afternoon. How many miles did the car travel in total?\\nA: The car traveled 118.01+451.96=<T>add(118.01, 451.96)=569.97 miles in total.\\n\\nQ: A store sells 277 apples, 209 oranges, and 72 bananas. How many fruits are sold in total?\\nA: The total number of fruits sold by the store is 277+209+72=<T>add(277, 209, 72)=558.\\n\\nQ: A car travels 0.384 miles and then travels 1.63 more miles. How far did the car travel in total?\\nA:'}"
      ]
     },
     "execution_count": 4,
     "metadata": {},
     "output_type": "execute_result"
    }
   ],
   "source": [
    "dataset[0]"
   ]
  },
  {
   "cell_type": "code",
   "execution_count": 5,
   "metadata": {},
   "outputs": [
    {
     "name": "stdout",
     "output_type": "stream",
     "text": [
      "Answer the following question with the operator add:\n",
      "\n",
      "Q: A store sells 311 apples and 112 oranges. How many fruits are sold in total?\n",
      "A: The total number of fruits sold by the store is 311+112=<T>add(311, 112)=423.\n",
      "\n",
      "Q: A bakery made 201 loaves of bread in the morning and 31 in the afternoon. How many loaves of bread did they make in total?\n",
      "A: The total number of loaves of bread made is 201+31=<T>add(201, 31)=232.\n",
      "\n",
      "Q: A car traveled 118.01 miles in the morning and 451.96 miles in the afternoon. How many miles did the car travel in total?\n",
      "A: The car traveled 118.01+451.96=<T>add(118.01, 451.96)=569.97 miles in total.\n",
      "\n",
      "Q: A store sells 277 apples, 209 oranges, and 72 bananas. How many fruits are sold in total?\n",
      "A: The total number of fruits sold by the store is 277+209+72=<T>add(277, 209, 72)=558.\n",
      "\n",
      "Q: A car travels 0.384 miles and then travels 1.63 more miles. How far did the car travel in total?\n",
      "A:\n"
     ]
    }
   ],
   "source": [
    "print(dataset[0][\"prompt\"])"
   ]
  },
  {
   "cell_type": "code",
   "execution_count": 6,
   "metadata": {},
   "outputs": [
    {
     "name": "stderr",
     "output_type": "stream",
     "text": [
      "Loading checkpoint shards: 100%|██████████| 2/2 [00:04<00:00,  2.37s/it]\n"
     ]
    }
   ],
   "source": [
    "MODEL_NAME = \"meta-llama/Llama-2-7b-chat-hf\"\n",
    "cfg_decoder = cfg_decoding.CfgDecoder(MODEL_NAME, device_map=\"cuda:0\")"
   ]
  },
  {
   "cell_type": "code",
   "execution_count": 7,
   "metadata": {},
   "outputs": [
    {
     "name": "stderr",
     "output_type": "stream",
     "text": [
      "  0%|          | 0/20 [00:00<?, ?it/s]/usr/local/lib/python3.10/dist-packages/transformers/generation/configuration_utils.py:381: UserWarning: `do_sample` is set to `False`. However, `temperature` is set to `None` -- this flag is only used in sample-based generation modes. You should set `do_sample=True` or unset `temperature`.\n",
      "  warnings.warn(\n",
      "/usr/local/lib/python3.10/dist-packages/transformers/generation/configuration_utils.py:386: UserWarning: `do_sample` is set to `False`. However, `top_p` is set to `0` -- this flag is only used in sample-based generation modes. You should set `do_sample=True` or unset `top_p`.\n",
      "  warnings.warn(\n",
      "/usr/local/lib/python3.10/dist-packages/bitsandbytes/nn/modules.py:226: UserWarning: Input type into Linear4bit is torch.float16, but bnb_4bit_compute_type=torch.float32 (default). This will lead to slow inference or training speed.\n",
      "  warnings.warn(f'Input type into Linear4bit is torch.float16, but bnb_4bit_compute_type=torch.float32 (default). This will lead to slow inference or training speed.')\n",
      "2023-11-30 19:17:38.933578: E external/local_xla/xla/stream_executor/cuda/cuda_dnn.cc:9261] Unable to register cuDNN factory: Attempting to register factory for plugin cuDNN when one has already been registered\n",
      "2023-11-30 19:17:38.933615: E external/local_xla/xla/stream_executor/cuda/cuda_fft.cc:607] Unable to register cuFFT factory: Attempting to register factory for plugin cuFFT when one has already been registered\n",
      "2023-11-30 19:17:38.934753: E external/local_xla/xla/stream_executor/cuda/cuda_blas.cc:1515] Unable to register cuBLAS factory: Attempting to register factory for plugin cuBLAS when one has already been registered\n",
      "2023-11-30 19:17:38.940072: I tensorflow/core/platform/cpu_feature_guard.cc:182] This TensorFlow binary is optimized to use available CPU instructions in performance-critical operations.\n",
      "To enable the following instructions: AVX2 FMA, in other operations, rebuild TensorFlow with the appropriate compiler flags.\n",
      "2023-11-30 19:17:40.085891: W tensorflow/compiler/tf2tensorrt/utils/py_utils.cc:38] TF-TRT Warning: Could not find TensorRT\n",
      "/usr/local/lib/python3.10/dist-packages/transformers/generation/configuration_utils.py:381: UserWarning: `do_sample` is set to `False`. However, `temperature` is set to `None` -- this flag is only used in sample-based generation modes. You should set `do_sample=True` or unset `temperature`.\n",
      "  warnings.warn(\n",
      "/usr/local/lib/python3.10/dist-packages/transformers/generation/configuration_utils.py:386: UserWarning: `do_sample` is set to `False`. However, `top_p` is set to `0` -- this flag is only used in sample-based generation modes. You should set `do_sample=True` or unset `top_p`.\n",
      "  warnings.warn(\n",
      "  5%|▌         | 1/20 [00:11<03:46, 11.94s/it]"
     ]
    },
    {
     "name": "stdout",
     "output_type": "stream",
     "text": [
      "A car travels 0.384 miles and then travels 1.63 more miles. How far did the car travel in total?\n",
      "The car traveled 0.384+1.63=\n",
      "<T>add(0.384,1.63)\n",
      "2.01\n",
      "2.014\n",
      "True\n",
      "\n"
     ]
    },
    {
     "name": "stderr",
     "output_type": "stream",
     "text": [
      " 10%|█         | 2/20 [00:19<02:52,  9.56s/it]"
     ]
    },
    {
     "name": "stdout",
     "output_type": "stream",
     "text": [
      "A marathon runner has completed 8.7832 miles so far. He has 5.3689 miles left to run. What is the total distance of the marathon?\n",
      "The total distance of the marathon is 8.7832+5.3689=\n",
      "<T>add(8.7832,5.3689)\n",
      "14.15\n",
      "14.1521\n",
      "True\n",
      "\n"
     ]
    },
    {
     "name": "stderr",
     "output_type": "stream",
     "text": [
      " 15%|█▌        | 3/20 [00:28<02:33,  9.03s/it]"
     ]
    },
    {
     "name": "stdout",
     "output_type": "stream",
     "text": [
      "A company has 13,289 employees and plans to hire 7,899 more. How many employees will the company have in total?\n",
      "The total number of employees the company will have is 13,289+7,899=\n",
      "<T>add(13,2897899)\n",
      "2897912\n",
      "21188.0\n",
      "False\n",
      "\n"
     ]
    },
    {
     "name": "stderr",
     "output_type": "stream",
     "text": [
      " 20%|██        | 4/20 [00:40<02:47, 10.44s/it]"
     ]
    },
    {
     "name": "stdout",
     "output_type": "stream",
     "text": [
      "This week, Mary earns 17.83 dollars on Monday, 18.99 dollars on Tuesday, 23.45 dollars on Wednesday, 14.12 dollars on Thursday, and 8.22 dollars on Friday. How much money did Mary earn this week?\n",
      "The total amount of money Mary earned this week is 17.83+18.99+23.45+14.12+8.22=\n",
      "<T>add(17.83,18.99234514128220000000000000000000000000000000000000000000000000000000000000000000000000\n",
      "None\n",
      "82.61\n",
      "False\n",
      "\n"
     ]
    },
    {
     "name": "stderr",
     "output_type": "stream",
     "text": [
      " 25%|██▌       | 5/20 [00:53<02:48, 11.22s/it]"
     ]
    },
    {
     "name": "stdout",
     "output_type": "stream",
     "text": [
      " The cost of an estate is 19,543,778.4 dollars. If the furnishings will cost at least 632,361 dollars, what is the minimum amount of money needed to buy the estate and furnish it?\n",
      "The minimum amount of money needed to buy the estate and furnish it is 19,543,778.4+632,361=\n",
      "<T>add(19,543778.4632361000000000000000000000000000000000000000000000000000000000000000000000000000000\n",
      "None\n",
      "20176139.4\n",
      "False\n",
      "\n"
     ]
    },
    {
     "name": "stderr",
     "output_type": "stream",
     "text": [
      " 30%|███       | 6/20 [01:01<02:22, 10.15s/it]"
     ]
    },
    {
     "name": "stdout",
     "output_type": "stream",
     "text": [
      "The gas tank of car can hold up to 11.28 gallons of gas. Currently, a car only has 1.89 gallons of gas in its tank. How many more gallons of gas can the car hold if the driver wants to fill the tank?\n",
      "The car can hold up to 11.28-1.89=\n",
      "<T>subtract(11.28,1.89)\n",
      "9.39\n",
      "9.39\n",
      "True\n",
      "\n"
     ]
    },
    {
     "name": "stderr",
     "output_type": "stream",
     "text": [
      " 35%|███▌      | 7/20 [01:09<02:02,  9.46s/it]"
     ]
    },
    {
     "name": "stdout",
     "output_type": "stream",
     "text": [
      "If a recipe calls for 892 cups of flour and you only have 134 cups, how many cups of flour do you need to buy?\n",
      "The recipe calls for 892-134=\n",
      "<T>subtract(892,134)\n",
      "758\n",
      "758.0\n",
      "True\n",
      "\n"
     ]
    },
    {
     "name": "stderr",
     "output_type": "stream",
     "text": [
      " 40%|████      | 8/20 [01:17<01:48,  9.06s/it]"
     ]
    },
    {
     "name": "stdout",
     "output_type": "stream",
     "text": [
      "A runner has completed 8.9832 miles out of a 29.47-mile marathon. How many miles does the runner have left to run?\n",
      "The runner has 29.47-8.9832=\n",
      "<T>subtract(29.47,8.9832)\n",
      "20.49\n",
      "20.4868\n",
      "True\n",
      "\n"
     ]
    },
    {
     "name": "stderr",
     "output_type": "stream",
     "text": [
      " 45%|████▌     | 9/20 [01:25<01:36,  8.80s/it]"
     ]
    },
    {
     "name": "stdout",
     "output_type": "stream",
     "text": [
      "A company had 18,778 employees last year. This year, the company has 13,289 employees. How many employees did the company lose?\n",
      "The company had 18,778-13,289=\n",
      "<T>subtract(18778,13289)\n",
      "5489\n",
      "5489.0\n",
      "True\n",
      "\n"
     ]
    },
    {
     "name": "stderr",
     "output_type": "stream",
     "text": [
      " 50%|█████     | 10/20 [01:36<01:32,  9.26s/it]"
     ]
    },
    {
     "name": "stdout",
     "output_type": "stream",
     "text": [
      "A company has a budget of $1028137.23. They spent $79952.88 on office expenses. How much money is left?\n",
      "The company has a budget of $1028137.23, and they spent $79952.88 on office expenses, so now there is $1028137.23-79952.88=\n",
      "<T>subtract(1028137.23,79952.88)\n",
      "948184.35\n",
      "948184.35\n",
      "True\n",
      "\n"
     ]
    },
    {
     "name": "stderr",
     "output_type": "stream",
     "text": [
      " 55%|█████▌    | 11/20 [01:44<01:21,  9.03s/it]"
     ]
    },
    {
     "name": "stdout",
     "output_type": "stream",
     "text": [
      " A reader is reading a really long book. She reads 67 pages per day, and it takes her 253 days to finish the book. How many pages are in the book at most?\n",
      "The reader reads 67 pages per day, so it takes her 253 days to finish the book. The book has at most 253*67=\n",
      "<T>multiply(253,67)\n",
      "16951\n",
      "16951.0\n",
      "True\n",
      "\n"
     ]
    },
    {
     "name": "stderr",
     "output_type": "stream",
     "text": [
      " 60%|██████    | 12/20 [01:52<01:09,  8.72s/it]"
     ]
    },
    {
     "name": "stdout",
     "output_type": "stream",
     "text": [
      "If there is a gemstone that costs only $0.37 a gram and Jack wants to buy 48,172.7 grams, how much would he need to spend?\n",
      "Jack needs to spend 48172.7*0.37=\n",
      "<T>multiply(48172.7,0.37)\n",
      "17823.9\n",
      "17823.899\n",
      "True\n",
      "\n"
     ]
    },
    {
     "name": "stderr",
     "output_type": "stream",
     "text": [
      " 65%|██████▌   | 13/20 [02:01<01:01,  8.84s/it]"
     ]
    },
    {
     "name": "stdout",
     "output_type": "stream",
     "text": [
      " A swimming pool has a length of 0.848 kilometers, and a width of 0.3766 kilometers. What is the area of the swimming pool in square kilometers?\n",
      "The area of the swimming pool is found by multiplying the length and width: 0.848*0.3766=\n",
      "<T>multiply(0.848,0.3766)\n",
      "0.32\n",
      "0.3193568\n",
      "True\n",
      "\n"
     ]
    },
    {
     "name": "stderr",
     "output_type": "stream",
     "text": [
      " 70%|███████   | 14/20 [02:10<00:51,  8.63s/it]"
     ]
    },
    {
     "name": "stdout",
     "output_type": "stream",
     "text": [
      "If a car travels 0.384 miles in 1 minute, how many miles will it travel in 49 minutes?\n",
      "The car travels 0.384 miles/minute, so it will travel 49*0.384=\n",
      "<T>multiply(49,0.384)\n",
      "18.82\n",
      "18.816\n",
      "True\n",
      "\n"
     ]
    },
    {
     "name": "stderr",
     "output_type": "stream",
     "text": [
      " 75%|███████▌  | 15/20 [02:19<00:43,  8.79s/it]"
     ]
    },
    {
     "name": "stdout",
     "output_type": "stream",
     "text": [
      "If a pizza has a diameter of 0.6273 inches, what is its circumference? (take pi to be 3.14159)\n",
      "The circumference of a circle is given by the formula C=2*pi*r, where r is the radius. Since the diameter is given, we can find the radius by dividing the diameter by 2: r=0.6273/2=\n",
      "<T>multiply(0.6273,2)\n",
      "1.25\n",
      "1.970719407\n",
      "False\n",
      "\n"
     ]
    },
    {
     "name": "stderr",
     "output_type": "stream",
     "text": [
      " 80%|████████  | 16/20 [02:27<00:33,  8.50s/it]"
     ]
    },
    {
     "name": "stdout",
     "output_type": "stream",
     "text": [
      "If 327.87 ounces of sugar are required to make 52 cookies, how many ounces of sugar are required to make each cookie?\n",
      "Each cookie requires 327.87/52=\n",
      "<T>divide(327.87,52)\n",
      "6.31\n",
      "6.3051\n",
      "True\n",
      "\n"
     ]
    },
    {
     "name": "stderr",
     "output_type": "stream",
     "text": [
      " 85%|████████▌ | 17/20 [02:35<00:25,  8.47s/it]"
     ]
    },
    {
     "name": "stdout",
     "output_type": "stream",
     "text": [
      "A company has a total budget of 21412879.32 dollars and wants to evenly distribute the money to 8889 employees. How much money will each employee get?\n",
      "Each employee will get 21412879.32/8889=\n",
      "<T>divide(21412879.32,8889)\n",
      "2408.92\n",
      "2408.9188\n",
      "True\n",
      "\n"
     ]
    },
    {
     "name": "stderr",
     "output_type": "stream",
     "text": [
      " 90%|█████████ | 18/20 [02:43<00:16,  8.27s/it]"
     ]
    },
    {
     "name": "stdout",
     "output_type": "stream",
     "text": [
      "A store sells a total of 898.75 ounces of cereal. If they sell 43 boxes of cereal, how many ounces of cereal are in each box?\n",
      "Each box of cereal contains 898.75/43=\n",
      "<T>divide(898.75,43)\n",
      "20.9\n",
      "20.9012\n",
      "True\n",
      "\n"
     ]
    },
    {
     "name": "stderr",
     "output_type": "stream",
     "text": [
      " 95%|█████████▌| 19/20 [02:51<00:08,  8.36s/it]"
     ]
    },
    {
     "name": "stdout",
     "output_type": "stream",
     "text": [
      "A swimming pool has a volume of 19,338.74 gallons. If the water can evenly fill 532 buckets, how many gallons of water are in each bucket?\n",
      "Each bucket can hold 19,338.74/532=\n",
      "<T>divide(19338.74,532)\n",
      "36.35\n",
      "36.351\n",
      "True\n",
      "\n"
     ]
    },
    {
     "name": "stderr",
     "output_type": "stream",
     "text": [
      "100%|██████████| 20/20 [03:03<00:00,  9.19s/it]"
     ]
    },
    {
     "name": "stdout",
     "output_type": "stream",
     "text": [
      "A marathon is 26.2823 miles long. If a runner finishes the marathon in 216.3 minutes, what is the runner's average speed per mile?\n",
      "The runner's average speed per mile is 26.2823/216.3=\n",
      "<T>divide(26.2823,216.3000000000000333333333333333333333333333333333333333333333333333333333333333333333\n",
      "None\n",
      "8.2299\n",
      "False\n",
      "\n"
     ]
    },
    {
     "name": "stderr",
     "output_type": "stream",
     "text": [
      "\n"
     ]
    }
   ],
   "source": [
    "results = {}\n",
    "\n",
    "for i, row in tqdm(list(enumerate(dataset))):\n",
    "    prompt = row[\"prompt\"]\n",
    "    answer_p1 = cfg_decoder.generate(prompt, max_new_tokens=500)\n",
    "    answer_p2 = cfg_decoder.generate_constrained(prompt + answer_p1, max_new_tokens=100)\n",
    "    \n",
    "    operation = answer_p2.split(\"<T>\")[1]\n",
    "    result = funcqa_runner.evaluate_toolcall(operation)\n",
    "\n",
    "    y_pred = float(result) if result is not None else float(\"nan\")\n",
    "    y_true = float(row[\"answer\"])\n",
    "    is_correct = math.isclose(y_pred, y_true, rel_tol=0.1)\n",
    "    results[i] = {\"y_true\": y_true, \"y_pred\": y_pred, \"is_correct\": is_correct}\n",
    "    \n",
    "    print(row[\"question\"])\n",
    "    print(answer_p1)\n",
    "    print(answer_p2)\n",
    "    print(result)\n",
    "    print(row[\"answer\"])\n",
    "    print(is_correct)\n",
    "    print()"
   ]
  },
  {
   "cell_type": "code",
   "execution_count": 10,
   "metadata": {},
   "outputs": [
    {
     "data": {
      "text/plain": [
       "75.0"
      ]
     },
     "execution_count": 10,
     "metadata": {},
     "output_type": "execute_result"
    }
   ],
   "source": [
    "accuracy = sum([1 for r in results.values() if r[\"is_correct\"]]) / len(results)\n",
    "accuracy * 100"
   ]
  },
  {
   "cell_type": "code",
   "execution_count": null,
   "metadata": {},
   "outputs": [],
   "source": []
  }
 ],
 "metadata": {
  "kernelspec": {
   "display_name": "Python 3",
   "language": "python",
   "name": "python3"
  },
  "language_info": {
   "codemirror_mode": {
    "name": "ipython",
    "version": 3
   },
   "file_extension": ".py",
   "mimetype": "text/x-python",
   "name": "python",
   "nbconvert_exporter": "python",
   "pygments_lexer": "ipython3",
   "version": "3.10.12"
  }
 },
 "nbformat": 4,
 "nbformat_minor": 2
}
